{
 "cells": [
  {
   "cell_type": "markdown",
   "metadata": {},
   "source": [
    "# Data Aquisition"
   ]
  },
  {
   "cell_type": "markdown",
   "metadata": {},
   "source": [
    "## Loading Data and Libraries"
   ]
  },
  {
   "cell_type": "code",
   "execution_count": 1,
   "metadata": {},
   "outputs": [],
   "source": [
    "import pycep_correios as pycep\n",
    "import geocoder\n",
    "import pandas as pd\n",
    "import csv\n",
    "import json\n",
    "import os\n",
    "\n",
    "DATAPATH = '../data/'"
   ]
  },
  {
   "cell_type": "code",
   "execution_count": 2,
   "metadata": {},
   "outputs": [],
   "source": [
    "df_ceps = pd.read_csv(os.path.join(DATAPATH, 'raw', 'preprocessed', 'CEPs.csv'), header=None)\n",
    "df_ceps = df_ceps[0]"
   ]
  },
  {
   "cell_type": "markdown",
   "metadata": {},
   "source": [
    "## Informações básicas"
   ]
  },
  {
   "cell_type": "markdown",
   "metadata": {},
   "source": [
    "### Amostra"
   ]
  },
  {
   "cell_type": "code",
   "execution_count": 3,
   "metadata": {},
   "outputs": [
    {
     "data": {
      "text/plain": [
       "29264    13475250\n",
       "18827    28380000\n",
       "1767     65081784\n",
       "2064     39330000\n",
       "16372    54325660\n",
       "Name: 0, dtype: int64"
      ]
     },
     "execution_count": 3,
     "metadata": {},
     "output_type": "execute_result"
    }
   ],
   "source": [
    "df_ceps.sample(5)"
   ]
  },
  {
   "cell_type": "markdown",
   "metadata": {},
   "source": [
    "### Shape dos dados"
   ]
  },
  {
   "cell_type": "code",
   "execution_count": 4,
   "metadata": {},
   "outputs": [
    {
     "data": {
      "text/plain": [
       "(30142,)"
      ]
     },
     "execution_count": 4,
     "metadata": {},
     "output_type": "execute_result"
    }
   ],
   "source": [
    "df_ceps.shape"
   ]
  },
  {
   "cell_type": "markdown",
   "metadata": {},
   "source": [
    "## Pré-processamento"
   ]
  },
  {
   "cell_type": "markdown",
   "metadata": {},
   "source": [
    "Os CEPs estão no formato Int, com isso o 0 inicial é descartado, o que não é verdade para a lógica real do CEP."
   ]
  },
  {
   "cell_type": "code",
   "execution_count": 5,
   "metadata": {},
   "outputs": [
    {
     "data": {
      "text/plain": [
       "8    25809\n",
       "7     4333\n",
       "Name: 0, dtype: int64"
      ]
     },
     "execution_count": 5,
     "metadata": {},
     "output_type": "execute_result"
    }
   ],
   "source": [
    "df_ceps.apply(lambda x: len(str(x))).value_counts()"
   ]
  },
  {
   "cell_type": "markdown",
   "metadata": {},
   "source": [
    "Transformação para String e adição do zero à esquerda, quando aplicável."
   ]
  },
  {
   "cell_type": "code",
   "execution_count": 6,
   "metadata": {},
   "outputs": [],
   "source": [
    "df_ceps = df_ceps.astype(str).apply(lambda x: x.zfill(8))"
   ]
  },
  {
   "cell_type": "code",
   "execution_count": 7,
   "metadata": {},
   "outputs": [
    {
     "data": {
      "text/plain": [
       "8    30142\n",
       "Name: 0, dtype: int64"
      ]
     },
     "execution_count": 7,
     "metadata": {},
     "output_type": "execute_result"
    }
   ],
   "source": [
    "df_ceps.apply(lambda x: len(str(x))).value_counts()"
   ]
  },
  {
   "cell_type": "markdown",
   "metadata": {},
   "source": [
    "## Obter localização (lat, long) a partir do CEP"
   ]
  },
  {
   "cell_type": "markdown",
   "metadata": {},
   "source": [
    "### Consultar Endereço a partir do CEP através da API dos Correios"
   ]
  },
  {
   "cell_type": "code",
   "execution_count": 96,
   "metadata": {},
   "outputs": [],
   "source": [
    "def get_address(cep):\n",
    "    address = None\n",
    "    try:\n",
    "        address = pycep.consultar_cep(cep)\n",
    "    except:\n",
    "        pass\n",
    "    return address"
   ]
  },
  {
   "cell_type": "code",
   "execution_count": 97,
   "metadata": {},
   "outputs": [],
   "source": [
    "cep_address_map = {}"
   ]
  },
  {
   "cell_type": "code",
   "execution_count": 98,
   "metadata": {},
   "outputs": [],
   "source": [
    "ceps = df_ceps.to_list()"
   ]
  },
  {
   "cell_type": "code",
   "execution_count": 251,
   "metadata": {},
   "outputs": [],
   "source": [
    "i = 0\n",
    "for cep in ceps:\n",
    "    if i % 100 == 0: print(i)\n",
    "    cep_address_map[cep] = get_address(cep)\n",
    "    i += 1"
   ]
  },
  {
   "cell_type": "code",
   "execution_count": 102,
   "metadata": {},
   "outputs": [],
   "source": [
    "cep_address_map_2 = {}\n",
    "for i in cep_address_map:\n",
    "    cep = cep_address_map[i]\n",
    "    if cep != None:\n",
    "        cep_address_map_2[i] = cep"
   ]
  },
  {
   "cell_type": "code",
   "execution_count": 103,
   "metadata": {},
   "outputs": [],
   "source": [
    "df_address = pd.DataFrame(cep_address_map_2.values(), index=cep_address_map_2.keys())"
   ]
  },
  {
   "cell_type": "code",
   "execution_count": 252,
   "metadata": {},
   "outputs": [],
   "source": [
    "df_address.head()"
   ]
  },
  {
   "cell_type": "code",
   "execution_count": 106,
   "metadata": {},
   "outputs": [],
   "source": [
    "df_address.to_csv('../data/raw/address.csv')"
   ]
  },
  {
   "cell_type": "markdown",
   "metadata": {},
   "source": [
    "### Consultar a localização a partir do endereço através do Open Street Map"
   ]
  },
  {
   "cell_type": "code",
   "execution_count": 253,
   "metadata": {},
   "outputs": [],
   "source": [
    "cep_location_map = {}\n",
    "\n",
    "j = 0\n",
    "for i, row in data[data['lat'].isnull()].iterrows():\n",
    "    if j % 100 == 0: print(j)\n",
    "    \n",
    "    cep_location_map[i] = {'lng': None, 'lat': None}\n",
    "    \n",
    "    if row['end'] and row['uf']:\n",
    "    \n",
    "        geo = geocoder.osm(row['end'] + ', ' + row['uf'] + ', Brasil')\n",
    "\n",
    "        if geo.ok:\n",
    "            cep_location_map[i] = {'lng': geo.osm['x'], 'lat': geo.osm['y']}\n",
    "    j += 1"
   ]
  },
  {
   "cell_type": "code",
   "execution_count": 145,
   "metadata": {},
   "outputs": [],
   "source": [
    "df_locations = pd.DataFrame(cep_location_map.values(), index=cep_location_map.keys())"
   ]
  },
  {
   "cell_type": "code",
   "execution_count": 254,
   "metadata": {},
   "outputs": [],
   "source": [
    "df_locations.shape"
   ]
  },
  {
   "cell_type": "code",
   "execution_count": 255,
   "metadata": {},
   "outputs": [],
   "source": [
    "df_locations['lat'].isnull().sum() / df_locations.shape[0]"
   ]
  },
  {
   "cell_type": "code",
   "execution_count": 148,
   "metadata": {},
   "outputs": [],
   "source": [
    "df_locations.to_csv('../data/raw/locations.csv')"
   ]
  },
  {
   "cell_type": "markdown",
   "metadata": {},
   "source": [
    "## Juntar informações"
   ]
  },
  {
   "cell_type": "code",
   "execution_count": 71,
   "metadata": {},
   "outputs": [],
   "source": [
    "data = pd.merge(df_locations, df_address, left_index=True, right_index=True, how='inner')"
   ]
  },
  {
   "cell_type": "code",
   "execution_count": 72,
   "metadata": {},
   "outputs": [
    {
     "data": {
      "text/html": [
       "<div>\n",
       "<style scoped>\n",
       "    .dataframe tbody tr th:only-of-type {\n",
       "        vertical-align: middle;\n",
       "    }\n",
       "\n",
       "    .dataframe tbody tr th {\n",
       "        vertical-align: top;\n",
       "    }\n",
       "\n",
       "    .dataframe thead th {\n",
       "        text-align: right;\n",
       "    }\n",
       "</style>\n",
       "<table border=\"1\" class=\"dataframe\">\n",
       "  <thead>\n",
       "    <tr style=\"text-align: right;\">\n",
       "      <th></th>\n",
       "      <th>lat</th>\n",
       "      <th>lng</th>\n",
       "      <th>bairro</th>\n",
       "      <th>cep</th>\n",
       "      <th>cidade</th>\n",
       "      <th>complemento2</th>\n",
       "      <th>end</th>\n",
       "      <th>uf</th>\n",
       "      <th>unidadesPostagem</th>\n",
       "    </tr>\n",
       "  </thead>\n",
       "  <tbody>\n",
       "    <tr>\n",
       "      <th>69900970</th>\n",
       "      <td>-9.970812</td>\n",
       "      <td>-67.791155</td>\n",
       "      <td>Centro</td>\n",
       "      <td>69900970</td>\n",
       "      <td>Rio Branco</td>\n",
       "      <td>None</td>\n",
       "      <td>Avenida Epaminondas Jácome 2858</td>\n",
       "      <td>AC</td>\n",
       "      <td>[]</td>\n",
       "    </tr>\n",
       "    <tr>\n",
       "      <th>69945000</th>\n",
       "      <td>NaN</td>\n",
       "      <td>NaN</td>\n",
       "      <td>None</td>\n",
       "      <td>69945000</td>\n",
       "      <td>Acrelândia</td>\n",
       "      <td>None</td>\n",
       "      <td>None</td>\n",
       "      <td>AC</td>\n",
       "      <td>[]</td>\n",
       "    </tr>\n",
       "    <tr>\n",
       "      <th>69901024</th>\n",
       "      <td>-9.964670</td>\n",
       "      <td>-67.799725</td>\n",
       "      <td>Conjunto Jardim São Francisco</td>\n",
       "      <td>69901024</td>\n",
       "      <td>Rio Branco</td>\n",
       "      <td>None</td>\n",
       "      <td>Rua Laranja</td>\n",
       "      <td>AC</td>\n",
       "      <td>[]</td>\n",
       "    </tr>\n",
       "    <tr>\n",
       "      <th>69850000</th>\n",
       "      <td>NaN</td>\n",
       "      <td>NaN</td>\n",
       "      <td>None</td>\n",
       "      <td>69850000</td>\n",
       "      <td>Boca do Acre</td>\n",
       "      <td>None</td>\n",
       "      <td>None</td>\n",
       "      <td>AM</td>\n",
       "      <td>[]</td>\n",
       "    </tr>\n",
       "    <tr>\n",
       "      <th>69930000</th>\n",
       "      <td>NaN</td>\n",
       "      <td>NaN</td>\n",
       "      <td>None</td>\n",
       "      <td>69930000</td>\n",
       "      <td>Xapuri</td>\n",
       "      <td>None</td>\n",
       "      <td>None</td>\n",
       "      <td>AC</td>\n",
       "      <td>[]</td>\n",
       "    </tr>\n",
       "  </tbody>\n",
       "</table>\n",
       "</div>"
      ],
      "text/plain": [
       "               lat        lng                         bairro       cep  \\\n",
       "69900970 -9.970812 -67.791155                         Centro  69900970   \n",
       "69945000       NaN        NaN                           None  69945000   \n",
       "69901024 -9.964670 -67.799725  Conjunto Jardim São Francisco  69901024   \n",
       "69850000       NaN        NaN                           None  69850000   \n",
       "69930000       NaN        NaN                           None  69930000   \n",
       "\n",
       "                cidade complemento2                              end  uf  \\\n",
       "69900970    Rio Branco         None  Avenida Epaminondas Jácome 2858  AC   \n",
       "69945000    Acrelândia         None                             None  AC   \n",
       "69901024    Rio Branco         None                      Rua Laranja  AC   \n",
       "69850000  Boca do Acre         None                             None  AM   \n",
       "69930000        Xapuri         None                             None  AC   \n",
       "\n",
       "         unidadesPostagem  \n",
       "69900970               []  \n",
       "69945000               []  \n",
       "69901024               []  \n",
       "69850000               []  \n",
       "69930000               []  "
      ]
     },
     "execution_count": 72,
     "metadata": {},
     "output_type": "execute_result"
    }
   ],
   "source": [
    "data.head()"
   ]
  },
  {
   "cell_type": "markdown",
   "metadata": {},
   "source": [
    "## Exportar dados"
   ]
  },
  {
   "cell_type": "code",
   "execution_count": 250,
   "metadata": {},
   "outputs": [],
   "source": [
    "data.to_csv('../data/external/cep_location.csv')"
   ]
  }
 ],
 "metadata": {
  "kernelspec": {
   "display_name": "Python 3",
   "language": "python",
   "name": "python3"
  },
  "language_info": {
   "codemirror_mode": {
    "name": "ipython",
    "version": 3
   },
   "file_extension": ".py",
   "mimetype": "text/x-python",
   "name": "python",
   "nbconvert_exporter": "python",
   "pygments_lexer": "ipython3",
   "version": "3.7.3"
  }
 },
 "nbformat": 4,
 "nbformat_minor": 2
}
