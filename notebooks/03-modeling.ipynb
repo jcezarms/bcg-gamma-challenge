{
 "cells": [
  {
   "cell_type": "markdown",
   "metadata": {},
   "source": [
    "# Modelagem"
   ]
  },
  {
   "cell_type": "markdown",
   "metadata": {},
   "source": [
    "## Loading Data and Libraries"
   ]
  },
  {
   "cell_type": "code",
   "execution_count": 1,
   "metadata": {},
   "outputs": [],
   "source": [
    "import unidecode\n",
    "import os\n",
    "import sys\n",
    "\n",
    "sys.path.append('../src/')\n",
    "\n",
    "import pandas as pd\n",
    "import numpy as np\n",
    "\n",
    "import seaborn as sns\n",
    "import matplotlib.pyplot as plt\n",
    "\n",
    "pd.set_option('display.max_columns', None)\n",
    "pd.options.mode.chained_assignment = None\n",
    "\n",
    "%matplotlib inline\n",
    "%load_ext autoreload\n",
    "%autoreload 2\n",
    "\n",
    "DATAPATH = '../data/'\n",
    "\n",
    "from sklearn.model_selection import train_test_split, cross_val_score\n",
    "from sklearn.metrics import accuracy_score, roc_auc_score, classification_report\n",
    "from bayes_opt import BayesianOptimization"
   ]
  },
  {
   "cell_type": "code",
   "execution_count": 2,
   "metadata": {},
   "outputs": [
    {
     "name": "stdout",
     "output_type": "stream",
     "text": [
      "(37646, 45)\n"
     ]
    },
    {
     "data": {
      "text/html": [
       "<div>\n",
       "<style scoped>\n",
       "    .dataframe tbody tr th:only-of-type {\n",
       "        vertical-align: middle;\n",
       "    }\n",
       "\n",
       "    .dataframe tbody tr th {\n",
       "        vertical-align: top;\n",
       "    }\n",
       "\n",
       "    .dataframe thead th {\n",
       "        text-align: right;\n",
       "    }\n",
       "</style>\n",
       "<table border=\"1\" class=\"dataframe\">\n",
       "  <thead>\n",
       "    <tr style=\"text-align: right;\">\n",
       "      <th></th>\n",
       "      <th>uf_res_dif_paciente</th>\n",
       "      <th>mun_res_dif_paciente</th>\n",
       "      <th>cod_idade</th>\n",
       "      <th>num_idade</th>\n",
       "      <th>sexo</th>\n",
       "      <th>trat_anter</th>\n",
       "      <th>car_atend</th>\n",
       "      <th>rf_tomografos_computadorizados</th>\n",
       "      <th>rf_mamografos</th>\n",
       "      <th>rfressonancia_magnetica</th>\n",
       "      <th>equipes_de_saude_equipes_saude_da_familia</th>\n",
       "      <th>rh_medicos</th>\n",
       "      <th>equipes_de_saude_nucleos_de_apoio_a_saude_da_familia_nasf</th>\n",
       "      <th>rf_leitos_de_internacao</th>\n",
       "      <th>rh_enfermeiros</th>\n",
       "      <th>rf_raios_x</th>\n",
       "      <th>CAPITAL</th>\n",
       "      <th>IDHM</th>\n",
       "      <th>IDHM_Longevidade</th>\n",
       "      <th>IDHM_Educacao</th>\n",
       "      <th>AREA</th>\n",
       "      <th>ESTIMATED_POP</th>\n",
       "      <th>GVA_SERVICES</th>\n",
       "      <th>GDP</th>\n",
       "      <th>POP_GDP</th>\n",
       "      <th>GDP_CAPITA</th>\n",
       "      <th>COMP_Q</th>\n",
       "      <th>distancia_paciente_estab</th>\n",
       "      <th>tardio</th>\n",
       "      <th>tempo_atend_identificacao</th>\n",
       "      <th>tempo_autorizar</th>\n",
       "      <th>qtd_estab_uf</th>\n",
       "      <th>qtd_estab_mun</th>\n",
       "      <th>Intermediário Adjacente</th>\n",
       "      <th>Intermediário Remoto</th>\n",
       "      <th>Rural Adjacente</th>\n",
       "      <th>Rural Remoto</th>\n",
       "      <th>Sem classificação</th>\n",
       "      <th>Urbano</th>\n",
       "      <th>raca_cor_1</th>\n",
       "      <th>raca_cor_2</th>\n",
       "      <th>raca_cor_3</th>\n",
       "      <th>raca_cor_4</th>\n",
       "      <th>raca_cor_5</th>\n",
       "      <th>raca_cor_99</th>\n",
       "    </tr>\n",
       "  </thead>\n",
       "  <tbody>\n",
       "    <tr>\n",
       "      <th>0</th>\n",
       "      <td>0.0</td>\n",
       "      <td>1.0</td>\n",
       "      <td>4.0</td>\n",
       "      <td>71.0</td>\n",
       "      <td>0</td>\n",
       "      <td>1</td>\n",
       "      <td>1.0</td>\n",
       "      <td>4.0</td>\n",
       "      <td>4.0</td>\n",
       "      <td>2.0</td>\n",
       "      <td>4.0</td>\n",
       "      <td>179.0</td>\n",
       "      <td>1.0</td>\n",
       "      <td>188.0</td>\n",
       "      <td>93.0</td>\n",
       "      <td>27.0</td>\n",
       "      <td>0</td>\n",
       "      <td>0.782</td>\n",
       "      <td>0.845</td>\n",
       "      <td>0.728</td>\n",
       "      <td>539087.00</td>\n",
       "      <td>81893.0</td>\n",
       "      <td>1651459.19</td>\n",
       "      <td>3331621.74</td>\n",
       "      <td>79869.0</td>\n",
       "      <td>41713.58</td>\n",
       "      <td>222.0</td>\n",
       "      <td>442.430550</td>\n",
       "      <td>1</td>\n",
       "      <td>-1</td>\n",
       "      <td>4.0</td>\n",
       "      <td>62</td>\n",
       "      <td>2.0</td>\n",
       "      <td>0</td>\n",
       "      <td>0</td>\n",
       "      <td>0</td>\n",
       "      <td>0</td>\n",
       "      <td>0</td>\n",
       "      <td>1</td>\n",
       "      <td>0</td>\n",
       "      <td>0</td>\n",
       "      <td>1</td>\n",
       "      <td>0</td>\n",
       "      <td>0</td>\n",
       "      <td>0</td>\n",
       "    </tr>\n",
       "    <tr>\n",
       "      <th>1</th>\n",
       "      <td>0.0</td>\n",
       "      <td>1.0</td>\n",
       "      <td>4.0</td>\n",
       "      <td>70.0</td>\n",
       "      <td>1</td>\n",
       "      <td>0</td>\n",
       "      <td>1.0</td>\n",
       "      <td>1.0</td>\n",
       "      <td>3.0</td>\n",
       "      <td>1.0</td>\n",
       "      <td>6.0</td>\n",
       "      <td>235.0</td>\n",
       "      <td>1.0</td>\n",
       "      <td>184.0</td>\n",
       "      <td>141.0</td>\n",
       "      <td>11.0</td>\n",
       "      <td>0</td>\n",
       "      <td>0.780</td>\n",
       "      <td>0.858</td>\n",
       "      <td>0.707</td>\n",
       "      <td>689.09</td>\n",
       "      <td>83173.0</td>\n",
       "      <td>1650768.35</td>\n",
       "      <td>3048217.08</td>\n",
       "      <td>83089.0</td>\n",
       "      <td>36686.17</td>\n",
       "      <td>124.0</td>\n",
       "      <td>0.306397</td>\n",
       "      <td>1</td>\n",
       "      <td>0</td>\n",
       "      <td>0.0</td>\n",
       "      <td>70</td>\n",
       "      <td>1.0</td>\n",
       "      <td>0</td>\n",
       "      <td>0</td>\n",
       "      <td>0</td>\n",
       "      <td>0</td>\n",
       "      <td>0</td>\n",
       "      <td>1</td>\n",
       "      <td>0</td>\n",
       "      <td>0</td>\n",
       "      <td>1</td>\n",
       "      <td>0</td>\n",
       "      <td>0</td>\n",
       "      <td>0</td>\n",
       "    </tr>\n",
       "    <tr>\n",
       "      <th>2</th>\n",
       "      <td>0.0</td>\n",
       "      <td>1.0</td>\n",
       "      <td>4.0</td>\n",
       "      <td>81.0</td>\n",
       "      <td>0</td>\n",
       "      <td>0</td>\n",
       "      <td>1.0</td>\n",
       "      <td>2.0</td>\n",
       "      <td>3.0</td>\n",
       "      <td>1.0</td>\n",
       "      <td>0.0</td>\n",
       "      <td>112.0</td>\n",
       "      <td>0.0</td>\n",
       "      <td>94.0</td>\n",
       "      <td>56.0</td>\n",
       "      <td>7.0</td>\n",
       "      <td>0</td>\n",
       "      <td>0.770</td>\n",
       "      <td>0.840</td>\n",
       "      <td>0.707</td>\n",
       "      <td>665515.00</td>\n",
       "      <td>61949.0</td>\n",
       "      <td>1571.42</td>\n",
       "      <td>2645.23</td>\n",
       "      <td>62193.0</td>\n",
       "      <td>42532.60</td>\n",
       "      <td>71.0</td>\n",
       "      <td>0.641971</td>\n",
       "      <td>1</td>\n",
       "      <td>0</td>\n",
       "      <td>0.0</td>\n",
       "      <td>70</td>\n",
       "      <td>1.0</td>\n",
       "      <td>0</td>\n",
       "      <td>0</td>\n",
       "      <td>0</td>\n",
       "      <td>0</td>\n",
       "      <td>0</td>\n",
       "      <td>1</td>\n",
       "      <td>1</td>\n",
       "      <td>0</td>\n",
       "      <td>0</td>\n",
       "      <td>0</td>\n",
       "      <td>0</td>\n",
       "      <td>0</td>\n",
       "    </tr>\n",
       "    <tr>\n",
       "      <th>3</th>\n",
       "      <td>0.0</td>\n",
       "      <td>1.0</td>\n",
       "      <td>4.0</td>\n",
       "      <td>30.0</td>\n",
       "      <td>0</td>\n",
       "      <td>0</td>\n",
       "      <td>1.0</td>\n",
       "      <td>0.0</td>\n",
       "      <td>0.0</td>\n",
       "      <td>0.0</td>\n",
       "      <td>0.0</td>\n",
       "      <td>3.0</td>\n",
       "      <td>0.0</td>\n",
       "      <td>28.0</td>\n",
       "      <td>7.0</td>\n",
       "      <td>1.0</td>\n",
       "      <td>0</td>\n",
       "      <td>0.597</td>\n",
       "      <td>0.737</td>\n",
       "      <td>0.512</td>\n",
       "      <td>63279.00</td>\n",
       "      <td>4095.0</td>\n",
       "      <td>7929.41</td>\n",
       "      <td>30269.10</td>\n",
       "      <td>4204.0</td>\n",
       "      <td>7200.07</td>\n",
       "      <td>2.0</td>\n",
       "      <td>120.395750</td>\n",
       "      <td>1</td>\n",
       "      <td>0</td>\n",
       "      <td>1.0</td>\n",
       "      <td>10</td>\n",
       "      <td>0.0</td>\n",
       "      <td>0</td>\n",
       "      <td>0</td>\n",
       "      <td>1</td>\n",
       "      <td>0</td>\n",
       "      <td>0</td>\n",
       "      <td>0</td>\n",
       "      <td>0</td>\n",
       "      <td>0</td>\n",
       "      <td>0</td>\n",
       "      <td>0</td>\n",
       "      <td>0</td>\n",
       "      <td>1</td>\n",
       "    </tr>\n",
       "    <tr>\n",
       "      <th>4</th>\n",
       "      <td>0.0</td>\n",
       "      <td>1.0</td>\n",
       "      <td>4.0</td>\n",
       "      <td>3.0</td>\n",
       "      <td>1</td>\n",
       "      <td>0</td>\n",
       "      <td>1.0</td>\n",
       "      <td>12.0</td>\n",
       "      <td>11.0</td>\n",
       "      <td>5.0</td>\n",
       "      <td>22.0</td>\n",
       "      <td>2121.0</td>\n",
       "      <td>3.0</td>\n",
       "      <td>2076.0</td>\n",
       "      <td>810.0</td>\n",
       "      <td>81.0</td>\n",
       "      <td>1</td>\n",
       "      <td>0.763</td>\n",
       "      <td>0.835</td>\n",
       "      <td>0.694</td>\n",
       "      <td>167401.00</td>\n",
       "      <td>877640.0</td>\n",
       "      <td>12122912.17</td>\n",
       "      <td>21845480.68</td>\n",
       "      <td>877662.0</td>\n",
       "      <td>24890.54</td>\n",
       "      <td>1165.0</td>\n",
       "      <td>9.062047</td>\n",
       "      <td>1</td>\n",
       "      <td>0</td>\n",
       "      <td>0.0</td>\n",
       "      <td>10</td>\n",
       "      <td>5.0</td>\n",
       "      <td>0</td>\n",
       "      <td>0</td>\n",
       "      <td>0</td>\n",
       "      <td>0</td>\n",
       "      <td>0</td>\n",
       "      <td>1</td>\n",
       "      <td>0</td>\n",
       "      <td>0</td>\n",
       "      <td>0</td>\n",
       "      <td>0</td>\n",
       "      <td>0</td>\n",
       "      <td>1</td>\n",
       "    </tr>\n",
       "  </tbody>\n",
       "</table>\n",
       "</div>"
      ],
      "text/plain": [
       "   uf_res_dif_paciente  mun_res_dif_paciente  cod_idade  num_idade  sexo  \\\n",
       "0                  0.0                   1.0        4.0       71.0     0   \n",
       "1                  0.0                   1.0        4.0       70.0     1   \n",
       "2                  0.0                   1.0        4.0       81.0     0   \n",
       "3                  0.0                   1.0        4.0       30.0     0   \n",
       "4                  0.0                   1.0        4.0        3.0     1   \n",
       "\n",
       "   trat_anter  car_atend  rf_tomografos_computadorizados  rf_mamografos  \\\n",
       "0           1        1.0                             4.0            4.0   \n",
       "1           0        1.0                             1.0            3.0   \n",
       "2           0        1.0                             2.0            3.0   \n",
       "3           0        1.0                             0.0            0.0   \n",
       "4           0        1.0                            12.0           11.0   \n",
       "\n",
       "   rfressonancia_magnetica  equipes_de_saude_equipes_saude_da_familia  \\\n",
       "0                      2.0                                        4.0   \n",
       "1                      1.0                                        6.0   \n",
       "2                      1.0                                        0.0   \n",
       "3                      0.0                                        0.0   \n",
       "4                      5.0                                       22.0   \n",
       "\n",
       "   rh_medicos  equipes_de_saude_nucleos_de_apoio_a_saude_da_familia_nasf  \\\n",
       "0       179.0                                                1.0           \n",
       "1       235.0                                                1.0           \n",
       "2       112.0                                                0.0           \n",
       "3         3.0                                                0.0           \n",
       "4      2121.0                                                3.0           \n",
       "\n",
       "   rf_leitos_de_internacao  rh_enfermeiros  rf_raios_x  CAPITAL   IDHM  \\\n",
       "0                    188.0            93.0        27.0        0  0.782   \n",
       "1                    184.0           141.0        11.0        0  0.780   \n",
       "2                     94.0            56.0         7.0        0  0.770   \n",
       "3                     28.0             7.0         1.0        0  0.597   \n",
       "4                   2076.0           810.0        81.0        1  0.763   \n",
       "\n",
       "   IDHM_Longevidade  IDHM_Educacao       AREA  ESTIMATED_POP  GVA_SERVICES  \\\n",
       "0             0.845          0.728  539087.00        81893.0    1651459.19   \n",
       "1             0.858          0.707     689.09        83173.0    1650768.35   \n",
       "2             0.840          0.707  665515.00        61949.0       1571.42   \n",
       "3             0.737          0.512   63279.00         4095.0       7929.41   \n",
       "4             0.835          0.694  167401.00       877640.0   12122912.17   \n",
       "\n",
       "           GDP   POP_GDP  GDP_CAPITA  COMP_Q  distancia_paciente_estab  \\\n",
       "0   3331621.74   79869.0    41713.58   222.0                442.430550   \n",
       "1   3048217.08   83089.0    36686.17   124.0                  0.306397   \n",
       "2      2645.23   62193.0    42532.60    71.0                  0.641971   \n",
       "3     30269.10    4204.0     7200.07     2.0                120.395750   \n",
       "4  21845480.68  877662.0    24890.54  1165.0                  9.062047   \n",
       "\n",
       "   tardio  tempo_atend_identificacao  tempo_autorizar  qtd_estab_uf  \\\n",
       "0       1                         -1              4.0            62   \n",
       "1       1                          0              0.0            70   \n",
       "2       1                          0              0.0            70   \n",
       "3       1                          0              1.0            10   \n",
       "4       1                          0              0.0            10   \n",
       "\n",
       "   qtd_estab_mun  Intermediário Adjacente  Intermediário Remoto  \\\n",
       "0            2.0                        0                     0   \n",
       "1            1.0                        0                     0   \n",
       "2            1.0                        0                     0   \n",
       "3            0.0                        0                     0   \n",
       "4            5.0                        0                     0   \n",
       "\n",
       "   Rural Adjacente  Rural Remoto  Sem classificação  Urbano  raca_cor_1  \\\n",
       "0                0             0                  0       1           0   \n",
       "1                0             0                  0       1           0   \n",
       "2                0             0                  0       1           1   \n",
       "3                1             0                  0       0           0   \n",
       "4                0             0                  0       1           0   \n",
       "\n",
       "   raca_cor_2  raca_cor_3  raca_cor_4  raca_cor_5  raca_cor_99  \n",
       "0           0           1           0           0            0  \n",
       "1           0           1           0           0            0  \n",
       "2           0           0           0           0            0  \n",
       "3           0           0           0           0            1  \n",
       "4           0           0           0           0            1  "
      ]
     },
     "execution_count": 2,
     "metadata": {},
     "output_type": "execute_result"
    }
   ],
   "source": [
    "dataset = pd.read_csv('../data/raw/preprocessed/dataset.csv')\n",
    "print(dataset.shape)\n",
    "dataset.head(5)"
   ]
  },
  {
   "cell_type": "markdown",
   "metadata": {},
   "source": [
    "## Separação dos conjuntos de treino e teste"
   ]
  },
  {
   "cell_type": "code",
   "execution_count": 35,
   "metadata": {},
   "outputs": [],
   "source": [
    "X = dataset.drop('tardio', axis=1)\n",
    "y = dataset['tardio']\n",
    "\n",
    "X_train, X_test, y_train, y_test = train_test_split(X, y, test_size=0.25, random_state=42)"
   ]
  },
  {
   "cell_type": "markdown",
   "metadata": {},
   "source": [
    "## Teste inicial com diferentes algoritmos"
   ]
  },
  {
   "cell_type": "code",
   "execution_count": 4,
   "metadata": {},
   "outputs": [],
   "source": [
    "from sklearn.ensemble import RandomForestClassifier, GradientBoostingClassifier, AdaBoostClassifier\n",
    "import lightgbm as lgb\n",
    "import xgboost as xgb"
   ]
  },
  {
   "cell_type": "code",
   "execution_count": 5,
   "metadata": {},
   "outputs": [],
   "source": [
    "classifiers = [('RF', RandomForestClassifier()), ('GB', GradientBoostingClassifier()), ('AB', AdaBoostClassifier()),\n",
    "              ('LB', lgb.LGBMClassifier()), ('XB', xgb.XGBClassifier())]"
   ]
  },
  {
   "cell_type": "code",
   "execution_count": 6,
   "metadata": {},
   "outputs": [
    {
     "name": "stdout",
     "output_type": "stream",
     "text": [
      "RF\n",
      "0.669 (0.008)\n",
      "\n",
      "\n",
      "GB\n",
      "0.683 (0.005)\n",
      "\n",
      "\n",
      "AB\n",
      "0.637 (0.006)\n",
      "\n",
      "\n",
      "LB\n",
      "0.717 (0.003)\n",
      "\n",
      "\n",
      "XB\n",
      "0.683 (0.002)\n",
      "\n",
      "\n"
     ]
    }
   ],
   "source": [
    "for clf in classifiers:\n",
    "    print(clf[0])\n",
    "    \n",
    "    scores = cross_val_score(estimator=clf[1], X=X_train, y=y_train, scoring='roc_auc', cv=5, n_jobs=-1)\n",
    "    print('%.3f (%.3f)' % (scores.mean(), scores.std()))\n",
    "    \n",
    "    print('\\n')"
   ]
  },
  {
   "cell_type": "markdown",
   "metadata": {},
   "source": [
    "## Otimização dos hiperparâmetros\n",
    "De maneira breve, utilizando os parâmetros padrões das respectivas libs, foram testados alguns modelos que são baseados em ensemble de árvores. Depois de realizar uma validação cruzada, o modelo com melhor resultado (LightGBM) será selecionado e terá seus parâmetros otimizados com a técnica de Otimização Bayesiana."
   ]
  },
  {
   "cell_type": "code",
   "execution_count": 7,
   "metadata": {},
   "outputs": [],
   "source": [
    "n_folds = 5"
   ]
  },
  {
   "cell_type": "code",
   "execution_count": 8,
   "metadata": {},
   "outputs": [],
   "source": [
    "train_set = lgb.Dataset(X_train, y_train)"
   ]
  },
  {
   "cell_type": "code",
   "execution_count": 9,
   "metadata": {},
   "outputs": [],
   "source": [
    "# Parâmetros com intervalos que serão otimizados \n",
    "parameters = {\n",
    "    'num_leaves': (7, 100),\n",
    "    'max_depth': (3, 32),\n",
    "    'subsample': (0.5, 1),\n",
    "    'colsample_bytree': (0.5, 1),\n",
    "    'min_child_samples': (12, 300),\n",
    "}"
   ]
  },
  {
   "cell_type": "code",
   "execution_count": 10,
   "metadata": {},
   "outputs": [],
   "source": [
    "# Parâmetro para balanceamento\n",
    "scale_pos_weight  = y_train[y_train==0].count() / y_train[y_train==1].count()"
   ]
  },
  {
   "cell_type": "code",
   "execution_count": 11,
   "metadata": {},
   "outputs": [],
   "source": [
    "def lgb_optimization(num_leaves, max_depth, subsample, colsample_bytree, min_child_samples):\n",
    "    params = {\n",
    "        'objective': 'binary',\n",
    "        'num_leaves': int(num_leaves),\n",
    "        'max_depth': int(max_depth),\n",
    "        'subsample': subsample,\n",
    "        'colsample_bytree': colsample_bytree,\n",
    "        'min_child_samples': int(min_child_samples),\n",
    "        'scale_pos_weight': scale_pos_weight,\n",
    "        'n_jobs': -1\n",
    "    }\n",
    "    \n",
    "    cv_results = lgb.cv(params, train_set, nfold=n_folds, stratified=False, shuffle=True, num_boost_round = 4000, \n",
    "                        early_stopping_rounds=50, metrics='auc', seed = 50)\n",
    "    \n",
    "    return np.max(cv_results['auc-mean'])"
   ]
  },
  {
   "cell_type": "code",
   "execution_count": 12,
   "metadata": {},
   "outputs": [
    {
     "name": "stdout",
     "output_type": "stream",
     "text": [
      "|   iter    |  target   | colsam... | max_depth | min_ch... | num_le... | subsample |\n",
      "-------------------------------------------------------------------------------------\n",
      "| \u001b[0m 1       \u001b[0m | \u001b[0m 0.7166  \u001b[0m | \u001b[0m 0.9358  \u001b[0m | \u001b[0m 10.95   \u001b[0m | \u001b[0m 33.15   \u001b[0m | \u001b[0m 47.47   \u001b[0m | \u001b[0m 0.5515  \u001b[0m |\n",
      "| \u001b[0m 2       \u001b[0m | \u001b[0m 0.7164  \u001b[0m | \u001b[0m 0.5636  \u001b[0m | \u001b[0m 18.87   \u001b[0m | \u001b[0m 72.71   \u001b[0m | \u001b[0m 21.35   \u001b[0m | \u001b[0m 0.6343  \u001b[0m |\n",
      "| \u001b[0m 3       \u001b[0m | \u001b[0m 0.7153  \u001b[0m | \u001b[0m 0.8843  \u001b[0m | \u001b[0m 31.74   \u001b[0m | \u001b[0m 300.0   \u001b[0m | \u001b[0m 98.33   \u001b[0m | \u001b[0m 0.6309  \u001b[0m |\n",
      "| \u001b[0m 4       \u001b[0m | \u001b[0m 0.7162  \u001b[0m | \u001b[0m 0.5522  \u001b[0m | \u001b[0m 30.9    \u001b[0m | \u001b[0m 13.06   \u001b[0m | \u001b[0m 99.95   \u001b[0m | \u001b[0m 0.5838  \u001b[0m |\n",
      "| \u001b[0m 5       \u001b[0m | \u001b[0m 0.7084  \u001b[0m | \u001b[0m 0.6527  \u001b[0m | \u001b[0m 3.752   \u001b[0m | \u001b[0m 13.18   \u001b[0m | \u001b[0m 8.153   \u001b[0m | \u001b[0m 0.7825  \u001b[0m |\n",
      "| \u001b[0m 6       \u001b[0m | \u001b[0m 0.7084  \u001b[0m | \u001b[0m 0.9028  \u001b[0m | \u001b[0m 3.06    \u001b[0m | \u001b[0m 146.8   \u001b[0m | \u001b[0m 98.02   \u001b[0m | \u001b[0m 0.9649  \u001b[0m |\n",
      "| \u001b[0m 7       \u001b[0m | \u001b[0m 0.7109  \u001b[0m | \u001b[0m 0.5668  \u001b[0m | \u001b[0m 31.73   \u001b[0m | \u001b[0m 298.5   \u001b[0m | \u001b[0m 7.444   \u001b[0m | \u001b[0m 0.729   \u001b[0m |\n",
      "| \u001b[95m 8       \u001b[0m | \u001b[95m 0.7185  \u001b[0m | \u001b[95m 0.7247  \u001b[0m | \u001b[95m 31.96   \u001b[0m | \u001b[95m 68.0    \u001b[0m | \u001b[95m 56.44   \u001b[0m | \u001b[95m 0.5095  \u001b[0m |\n",
      "| \u001b[95m 9       \u001b[0m | \u001b[95m 0.7193  \u001b[0m | \u001b[95m 0.9515  \u001b[0m | \u001b[95m 31.8    \u001b[0m | \u001b[95m 50.38   \u001b[0m | \u001b[95m 50.06   \u001b[0m | \u001b[95m 0.7013  \u001b[0m |\n",
      "| \u001b[0m 10      \u001b[0m | \u001b[0m 0.7066  \u001b[0m | \u001b[0m 0.5358  \u001b[0m | \u001b[0m 3.532   \u001b[0m | \u001b[0m 299.8   \u001b[0m | \u001b[0m 78.18   \u001b[0m | \u001b[0m 0.6526  \u001b[0m |\n",
      "| \u001b[0m 11      \u001b[0m | \u001b[0m 0.7183  \u001b[0m | \u001b[0m 0.9712  \u001b[0m | \u001b[0m 31.81   \u001b[0m | \u001b[0m 67.82   \u001b[0m | \u001b[0m 55.8    \u001b[0m | \u001b[0m 0.5492  \u001b[0m |\n",
      "| \u001b[0m 12      \u001b[0m | \u001b[0m 0.7165  \u001b[0m | \u001b[0m 0.971   \u001b[0m | \u001b[0m 31.94   \u001b[0m | \u001b[0m 161.4   \u001b[0m | \u001b[0m 36.78   \u001b[0m | \u001b[0m 0.639   \u001b[0m |\n",
      "| \u001b[0m 13      \u001b[0m | \u001b[0m 0.7182  \u001b[0m | \u001b[0m 0.62    \u001b[0m | \u001b[0m 31.93   \u001b[0m | \u001b[0m 69.84   \u001b[0m | \u001b[0m 51.71   \u001b[0m | \u001b[0m 0.9355  \u001b[0m |\n",
      "| \u001b[95m 14      \u001b[0m | \u001b[95m 0.7193  \u001b[0m | \u001b[95m 0.9861  \u001b[0m | \u001b[95m 31.94   \u001b[0m | \u001b[95m 72.4    \u001b[0m | \u001b[95m 55.15   \u001b[0m | \u001b[95m 0.9576  \u001b[0m |\n",
      "| \u001b[0m 15      \u001b[0m | \u001b[0m 0.7192  \u001b[0m | \u001b[0m 0.998   \u001b[0m | \u001b[0m 31.88   \u001b[0m | \u001b[0m 36.94   \u001b[0m | \u001b[0m 47.47   \u001b[0m | \u001b[0m 0.5624  \u001b[0m |\n",
      "| \u001b[0m 16      \u001b[0m | \u001b[0m 0.7185  \u001b[0m | \u001b[0m 0.7826  \u001b[0m | \u001b[0m 31.85   \u001b[0m | \u001b[0m 55.22   \u001b[0m | \u001b[0m 54.36   \u001b[0m | \u001b[0m 0.5168  \u001b[0m |\n",
      "| \u001b[0m 17      \u001b[0m | \u001b[0m 0.7147  \u001b[0m | \u001b[0m 0.9713  \u001b[0m | \u001b[0m 31.96   \u001b[0m | \u001b[0m 80.65   \u001b[0m | \u001b[0m 16.18   \u001b[0m | \u001b[0m 0.6166  \u001b[0m |\n",
      "| \u001b[0m 18      \u001b[0m | \u001b[0m 0.7175  \u001b[0m | \u001b[0m 0.5478  \u001b[0m | \u001b[0m 31.97   \u001b[0m | \u001b[0m 52.79   \u001b[0m | \u001b[0m 66.96   \u001b[0m | \u001b[0m 0.5218  \u001b[0m |\n",
      "| \u001b[0m 19      \u001b[0m | \u001b[0m 0.7182  \u001b[0m | \u001b[0m 0.9927  \u001b[0m | \u001b[0m 31.73   \u001b[0m | \u001b[0m 13.7    \u001b[0m | \u001b[0m 59.33   \u001b[0m | \u001b[0m 0.9769  \u001b[0m |\n",
      "| \u001b[0m 20      \u001b[0m | \u001b[0m 0.7184  \u001b[0m | \u001b[0m 0.9431  \u001b[0m | \u001b[0m 31.72   \u001b[0m | \u001b[0m 54.46   \u001b[0m | \u001b[0m 73.09   \u001b[0m | \u001b[0m 0.9921  \u001b[0m |\n",
      "| \u001b[0m 21      \u001b[0m | \u001b[0m 0.7179  \u001b[0m | \u001b[0m 0.9984  \u001b[0m | \u001b[0m 31.86   \u001b[0m | \u001b[0m 35.66   \u001b[0m | \u001b[0m 61.32   \u001b[0m | \u001b[0m 0.9757  \u001b[0m |\n",
      "| \u001b[0m 22      \u001b[0m | \u001b[0m 0.7177  \u001b[0m | \u001b[0m 0.8878  \u001b[0m | \u001b[0m 32.0    \u001b[0m | \u001b[0m 72.6    \u001b[0m | \u001b[0m 67.7    \u001b[0m | \u001b[0m 0.5263  \u001b[0m |\n",
      "| \u001b[0m 23      \u001b[0m | \u001b[0m 0.717   \u001b[0m | \u001b[0m 0.6271  \u001b[0m | \u001b[0m 31.78   \u001b[0m | \u001b[0m 14.29   \u001b[0m | \u001b[0m 60.79   \u001b[0m | \u001b[0m 0.5195  \u001b[0m |\n",
      "| \u001b[0m 24      \u001b[0m | \u001b[0m 0.7165  \u001b[0m | \u001b[0m 0.924   \u001b[0m | \u001b[0m 31.87   \u001b[0m | \u001b[0m 234.7   \u001b[0m | \u001b[0m 62.01   \u001b[0m | \u001b[0m 0.962   \u001b[0m |\n",
      "| \u001b[0m 25      \u001b[0m | \u001b[0m 0.7163  \u001b[0m | \u001b[0m 0.8337  \u001b[0m | \u001b[0m 31.93   \u001b[0m | \u001b[0m 80.04   \u001b[0m | \u001b[0m 62.48   \u001b[0m | \u001b[0m 0.9668  \u001b[0m |\n",
      "| \u001b[0m 26      \u001b[0m | \u001b[0m 0.7067  \u001b[0m | \u001b[0m 0.9483  \u001b[0m | \u001b[0m 3.23    \u001b[0m | \u001b[0m 14.08   \u001b[0m | \u001b[0m 84.88   \u001b[0m | \u001b[0m 0.5784  \u001b[0m |\n",
      "| \u001b[0m 27      \u001b[0m | \u001b[0m 0.7162  \u001b[0m | \u001b[0m 0.9563  \u001b[0m | \u001b[0m 31.87   \u001b[0m | \u001b[0m 213.3   \u001b[0m | \u001b[0m 98.97   \u001b[0m | \u001b[0m 0.8877  \u001b[0m |\n",
      "| \u001b[0m 28      \u001b[0m | \u001b[0m 0.7131  \u001b[0m | \u001b[0m 0.8197  \u001b[0m | \u001b[0m 31.97   \u001b[0m | \u001b[0m 15.12   \u001b[0m | \u001b[0m 12.16   \u001b[0m | \u001b[0m 0.6106  \u001b[0m |\n",
      "| \u001b[0m 29      \u001b[0m | \u001b[0m 0.708   \u001b[0m | \u001b[0m 0.7935  \u001b[0m | \u001b[0m 3.337   \u001b[0m | \u001b[0m 197.4   \u001b[0m | \u001b[0m 7.311   \u001b[0m | \u001b[0m 0.8989  \u001b[0m |\n",
      "| \u001b[0m 30      \u001b[0m | \u001b[0m 0.7174  \u001b[0m | \u001b[0m 0.5078  \u001b[0m | \u001b[0m 31.35   \u001b[0m | \u001b[0m 53.24   \u001b[0m | \u001b[0m 57.6    \u001b[0m | \u001b[0m 0.9906  \u001b[0m |\n",
      "| \u001b[0m 31      \u001b[0m | \u001b[0m 0.7165  \u001b[0m | \u001b[0m 0.8833  \u001b[0m | \u001b[0m 31.93   \u001b[0m | \u001b[0m 146.4   \u001b[0m | \u001b[0m 66.73   \u001b[0m | \u001b[0m 0.5119  \u001b[0m |\n",
      "| \u001b[0m 32      \u001b[0m | \u001b[0m 0.717   \u001b[0m | \u001b[0m 0.5725  \u001b[0m | \u001b[0m 31.76   \u001b[0m | \u001b[0m 51.48   \u001b[0m | \u001b[0m 58.17   \u001b[0m | \u001b[0m 0.5207  \u001b[0m |\n",
      "| \u001b[0m 33      \u001b[0m | \u001b[0m 0.7189  \u001b[0m | \u001b[0m 0.997   \u001b[0m | \u001b[0m 31.9    \u001b[0m | \u001b[0m 77.27   \u001b[0m | \u001b[0m 95.84   \u001b[0m | \u001b[0m 0.714   \u001b[0m |\n",
      "| \u001b[0m 34      \u001b[0m | \u001b[0m 0.719   \u001b[0m | \u001b[0m 0.9534  \u001b[0m | \u001b[0m 32.0    \u001b[0m | \u001b[0m 67.89   \u001b[0m | \u001b[0m 71.08   \u001b[0m | \u001b[0m 0.9292  \u001b[0m |\n",
      "| \u001b[0m 35      \u001b[0m | \u001b[0m 0.7173  \u001b[0m | \u001b[0m 0.9934  \u001b[0m | \u001b[0m 31.86   \u001b[0m | \u001b[0m 79.3    \u001b[0m | \u001b[0m 68.79   \u001b[0m | \u001b[0m 0.54    \u001b[0m |\n",
      "| \u001b[0m 36      \u001b[0m | \u001b[0m 0.7187  \u001b[0m | \u001b[0m 0.977   \u001b[0m | \u001b[0m 31.88   \u001b[0m | \u001b[0m 66.91   \u001b[0m | \u001b[0m 92.25   \u001b[0m | \u001b[0m 0.6255  \u001b[0m |\n",
      "| \u001b[0m 37      \u001b[0m | \u001b[0m 0.7185  \u001b[0m | \u001b[0m 0.9137  \u001b[0m | \u001b[0m 31.85   \u001b[0m | \u001b[0m 78.35   \u001b[0m | \u001b[0m 99.97   \u001b[0m | \u001b[0m 0.6312  \u001b[0m |\n",
      "| \u001b[0m 38      \u001b[0m | \u001b[0m 0.7187  \u001b[0m | \u001b[0m 0.9868  \u001b[0m | \u001b[0m 31.75   \u001b[0m | \u001b[0m 62.01   \u001b[0m | \u001b[0m 79.88   \u001b[0m | \u001b[0m 0.9401  \u001b[0m |\n",
      "| \u001b[0m 39      \u001b[0m | \u001b[0m 0.7182  \u001b[0m | \u001b[0m 0.9377  \u001b[0m | \u001b[0m 31.93   \u001b[0m | \u001b[0m 70.59   \u001b[0m | \u001b[0m 84.61   \u001b[0m | \u001b[0m 0.9893  \u001b[0m |\n",
      "| \u001b[0m 40      \u001b[0m | \u001b[0m 0.7186  \u001b[0m | \u001b[0m 0.9948  \u001b[0m | \u001b[0m 31.9    \u001b[0m | \u001b[0m 57.02   \u001b[0m | \u001b[0m 99.46   \u001b[0m | \u001b[0m 0.681   \u001b[0m |\n",
      "| \u001b[0m 41      \u001b[0m | \u001b[0m 0.7181  \u001b[0m | \u001b[0m 0.9837  \u001b[0m | \u001b[0m 31.86   \u001b[0m | \u001b[0m 64.13   \u001b[0m | \u001b[0m 68.71   \u001b[0m | \u001b[0m 0.9626  \u001b[0m |\n",
      "| \u001b[0m 42      \u001b[0m | \u001b[0m 0.7178  \u001b[0m | \u001b[0m 0.9989  \u001b[0m | \u001b[0m 31.95   \u001b[0m | \u001b[0m 61.48   \u001b[0m | \u001b[0m 99.82   \u001b[0m | \u001b[0m 0.986   \u001b[0m |\n",
      "| \u001b[0m 43      \u001b[0m | \u001b[0m 0.7187  \u001b[0m | \u001b[0m 0.9311  \u001b[0m | \u001b[0m 31.97   \u001b[0m | \u001b[0m 48.45   \u001b[0m | \u001b[0m 64.81   \u001b[0m | \u001b[0m 0.5429  \u001b[0m |\n",
      "| \u001b[0m 44      \u001b[0m | \u001b[0m 0.7178  \u001b[0m | \u001b[0m 0.7913  \u001b[0m | \u001b[0m 31.99   \u001b[0m | \u001b[0m 106.6   \u001b[0m | \u001b[0m 99.88   \u001b[0m | \u001b[0m 0.5273  \u001b[0m |\n",
      "| \u001b[95m 45      \u001b[0m | \u001b[95m 0.7204  \u001b[0m | \u001b[95m 0.9764  \u001b[0m | \u001b[95m 31.8    \u001b[0m | \u001b[95m 44.97   \u001b[0m | \u001b[95m 66.39   \u001b[0m | \u001b[95m 0.5454  \u001b[0m |\n",
      "| \u001b[0m 46      \u001b[0m | \u001b[0m 0.7162  \u001b[0m | \u001b[0m 0.9649  \u001b[0m | \u001b[0m 31.66   \u001b[0m | \u001b[0m 249.9   \u001b[0m | \u001b[0m 99.02   \u001b[0m | \u001b[0m 0.6087  \u001b[0m |\n",
      "| \u001b[0m 47      \u001b[0m | \u001b[0m 0.7162  \u001b[0m | \u001b[0m 0.8155  \u001b[0m | \u001b[0m 32.0    \u001b[0m | \u001b[0m 145.2   \u001b[0m | \u001b[0m 97.71   \u001b[0m | \u001b[0m 0.5368  \u001b[0m |\n",
      "| \u001b[0m 48      \u001b[0m | \u001b[0m 0.7157  \u001b[0m | \u001b[0m 0.9484  \u001b[0m | \u001b[0m 31.48   \u001b[0m | \u001b[0m 298.1   \u001b[0m | \u001b[0m 61.88   \u001b[0m | \u001b[0m 0.6335  \u001b[0m |\n",
      "| \u001b[0m 49      \u001b[0m | \u001b[0m 0.7182  \u001b[0m | \u001b[0m 0.8276  \u001b[0m | \u001b[0m 31.92   \u001b[0m | \u001b[0m 47.26   \u001b[0m | \u001b[0m 99.12   \u001b[0m | \u001b[0m 0.5107  \u001b[0m |\n",
      "| \u001b[0m 50      \u001b[0m | \u001b[0m 0.7199  \u001b[0m | \u001b[0m 0.8824  \u001b[0m | \u001b[0m 31.72   \u001b[0m | \u001b[0m 13.07   \u001b[0m | \u001b[0m 98.03   \u001b[0m | \u001b[0m 0.6673  \u001b[0m |\n",
      "| \u001b[95m 51      \u001b[0m | \u001b[95m 0.7205  \u001b[0m | \u001b[95m 0.9563  \u001b[0m | \u001b[95m 31.86   \u001b[0m | \u001b[95m 13.73   \u001b[0m | \u001b[95m 98.19   \u001b[0m | \u001b[95m 0.7823  \u001b[0m |\n",
      "| \u001b[0m 52      \u001b[0m | \u001b[0m 0.7198  \u001b[0m | \u001b[0m 0.9254  \u001b[0m | \u001b[0m 31.63   \u001b[0m | \u001b[0m 13.74   \u001b[0m | \u001b[0m 95.78   \u001b[0m | \u001b[0m 0.5261  \u001b[0m |\n",
      "| \u001b[0m 53      \u001b[0m | \u001b[0m 0.72    \u001b[0m | \u001b[0m 0.9249  \u001b[0m | \u001b[0m 31.89   \u001b[0m | \u001b[0m 25.27   \u001b[0m | \u001b[0m 98.87   \u001b[0m | \u001b[0m 0.5621  \u001b[0m |\n",
      "| \u001b[0m 54      \u001b[0m | \u001b[0m 0.7191  \u001b[0m | \u001b[0m 0.786   \u001b[0m | \u001b[0m 31.9    \u001b[0m | \u001b[0m 14.46   \u001b[0m | \u001b[0m 99.75   \u001b[0m | \u001b[0m 0.5835  \u001b[0m |\n",
      "| \u001b[0m 55      \u001b[0m | \u001b[0m 0.7193  \u001b[0m | \u001b[0m 0.9792  \u001b[0m | \u001b[0m 31.84   \u001b[0m | \u001b[0m 24.47   \u001b[0m | \u001b[0m 89.59   \u001b[0m | \u001b[0m 0.5361  \u001b[0m |\n",
      "| \u001b[0m 56      \u001b[0m | \u001b[0m 0.7175  \u001b[0m | \u001b[0m 0.8774  \u001b[0m | \u001b[0m 31.97   \u001b[0m | \u001b[0m 12.55   \u001b[0m | \u001b[0m 98.3    \u001b[0m | \u001b[0m 0.5144  \u001b[0m |\n",
      "| \u001b[0m 57      \u001b[0m | \u001b[0m 0.7173  \u001b[0m | \u001b[0m 0.9849  \u001b[0m | \u001b[0m 31.81   \u001b[0m | \u001b[0m 31.4    \u001b[0m | \u001b[0m 75.2    \u001b[0m | \u001b[0m 0.978   \u001b[0m |\n",
      "| \u001b[0m 58      \u001b[0m | \u001b[0m 0.7181  \u001b[0m | \u001b[0m 0.6632  \u001b[0m | \u001b[0m 31.9    \u001b[0m | \u001b[0m 35.78   \u001b[0m | \u001b[0m 99.84   \u001b[0m | \u001b[0m 0.8218  \u001b[0m |\n",
      "| \u001b[0m 59      \u001b[0m | \u001b[0m 0.7167  \u001b[0m | \u001b[0m 0.9582  \u001b[0m | \u001b[0m 31.8    \u001b[0m | \u001b[0m 255.7   \u001b[0m | \u001b[0m 57.65   \u001b[0m | \u001b[0m 0.6249  \u001b[0m |\n",
      "| \u001b[0m 60      \u001b[0m | \u001b[0m 0.719   \u001b[0m | \u001b[0m 0.9988  \u001b[0m | \u001b[0m 31.99   \u001b[0m | \u001b[0m 48.14   \u001b[0m | \u001b[0m 99.74   \u001b[0m | \u001b[0m 0.608   \u001b[0m |\n",
      "| \u001b[0m 61      \u001b[0m | \u001b[0m 0.7187  \u001b[0m | \u001b[0m 0.9555  \u001b[0m | \u001b[0m 31.77   \u001b[0m | \u001b[0m 40.0    \u001b[0m | \u001b[0m 99.37   \u001b[0m | \u001b[0m 0.9151  \u001b[0m |\n",
      "| \u001b[0m 62      \u001b[0m | \u001b[0m 0.7174  \u001b[0m | \u001b[0m 0.9834  \u001b[0m | \u001b[0m 31.89   \u001b[0m | \u001b[0m 13.2    \u001b[0m | \u001b[0m 90.34   \u001b[0m | \u001b[0m 0.6053  \u001b[0m |\n",
      "| \u001b[0m 63      \u001b[0m | \u001b[0m 0.7114  \u001b[0m | \u001b[0m 0.9946  \u001b[0m | \u001b[0m 31.8    \u001b[0m | \u001b[0m 200.3   \u001b[0m | \u001b[0m 7.991   \u001b[0m | \u001b[0m 0.9997  \u001b[0m |\n",
      "| \u001b[0m 64      \u001b[0m | \u001b[0m 0.7192  \u001b[0m | \u001b[0m 0.9128  \u001b[0m | \u001b[0m 31.98   \u001b[0m | \u001b[0m 40.69   \u001b[0m | \u001b[0m 81.14   \u001b[0m | \u001b[0m 0.5009  \u001b[0m |\n",
      "| \u001b[95m 65      \u001b[0m | \u001b[95m 0.7208  \u001b[0m | \u001b[95m 0.9795  \u001b[0m | \u001b[95m 31.89   \u001b[0m | \u001b[95m 43.81   \u001b[0m | \u001b[95m 98.84   \u001b[0m | \u001b[95m 0.5617  \u001b[0m |\n",
      "| \u001b[0m 66      \u001b[0m | \u001b[0m 0.7165  \u001b[0m | \u001b[0m 0.9991  \u001b[0m | \u001b[0m 31.69   \u001b[0m | \u001b[0m 190.0   \u001b[0m | \u001b[0m 74.24   \u001b[0m | \u001b[0m 0.5878  \u001b[0m |\n",
      "| \u001b[0m 67      \u001b[0m | \u001b[0m 0.708   \u001b[0m | \u001b[0m 0.9365  \u001b[0m | \u001b[0m 3.061   \u001b[0m | \u001b[0m 103.0   \u001b[0m | \u001b[0m 8.018   \u001b[0m | \u001b[0m 0.5253  \u001b[0m |\n",
      "| \u001b[0m 68      \u001b[0m | \u001b[0m 0.7195  \u001b[0m | \u001b[0m 0.9469  \u001b[0m | \u001b[0m 31.94   \u001b[0m | \u001b[0m 15.44   \u001b[0m | \u001b[0m 77.49   \u001b[0m | \u001b[0m 0.9897  \u001b[0m |\n",
      "| \u001b[0m 69      \u001b[0m | \u001b[0m 0.7155  \u001b[0m | \u001b[0m 0.9888  \u001b[0m | \u001b[0m 31.86   \u001b[0m | \u001b[0m 12.32   \u001b[0m | \u001b[0m 57.63   \u001b[0m | \u001b[0m 0.6285  \u001b[0m |\n",
      "| \u001b[0m 70      \u001b[0m | \u001b[0m 0.7182  \u001b[0m | \u001b[0m 0.5304  \u001b[0m | \u001b[0m 31.96   \u001b[0m | \u001b[0m 46.77   \u001b[0m | \u001b[0m 92.0    \u001b[0m | \u001b[0m 0.9804  \u001b[0m |\n",
      "| \u001b[0m 71      \u001b[0m | \u001b[0m 0.7191  \u001b[0m | \u001b[0m 0.9788  \u001b[0m | \u001b[0m 31.86   \u001b[0m | \u001b[0m 37.89   \u001b[0m | \u001b[0m 99.55   \u001b[0m | \u001b[0m 0.5149  \u001b[0m |\n",
      "| \u001b[0m 72      \u001b[0m | \u001b[0m 0.718   \u001b[0m | \u001b[0m 0.5037  \u001b[0m | \u001b[0m 31.92   \u001b[0m | \u001b[0m 43.56   \u001b[0m | \u001b[0m 84.31   \u001b[0m | \u001b[0m 0.5012  \u001b[0m |\n",
      "| \u001b[0m 73      \u001b[0m | \u001b[0m 0.7146  \u001b[0m | \u001b[0m 0.5745  \u001b[0m | \u001b[0m 31.89   \u001b[0m | \u001b[0m 299.9   \u001b[0m | \u001b[0m 99.46   \u001b[0m | \u001b[0m 0.9797  \u001b[0m |\n",
      "| \u001b[0m 74      \u001b[0m | \u001b[0m 0.7193  \u001b[0m | \u001b[0m 0.9985  \u001b[0m | \u001b[0m 31.11   \u001b[0m | \u001b[0m 12.06   \u001b[0m | \u001b[0m 99.0    \u001b[0m | \u001b[0m 0.6584  \u001b[0m |\n",
      "| \u001b[0m 75      \u001b[0m | \u001b[0m 0.7191  \u001b[0m | \u001b[0m 0.5262  \u001b[0m | \u001b[0m 31.97   \u001b[0m | \u001b[0m 56.71   \u001b[0m | \u001b[0m 99.58   \u001b[0m | \u001b[0m 0.5193  \u001b[0m |\n",
      "| \u001b[0m 76      \u001b[0m | \u001b[0m 0.7185  \u001b[0m | \u001b[0m 0.8512  \u001b[0m | \u001b[0m 31.89   \u001b[0m | \u001b[0m 14.37   \u001b[0m | \u001b[0m 98.36   \u001b[0m | \u001b[0m 0.9609  \u001b[0m |\n",
      "| \u001b[0m 77      \u001b[0m | \u001b[0m 0.7186  \u001b[0m | \u001b[0m 0.9895  \u001b[0m | \u001b[0m 31.93   \u001b[0m | \u001b[0m 50.24   \u001b[0m | \u001b[0m 98.74   \u001b[0m | \u001b[0m 0.6513  \u001b[0m |\n",
      "| \u001b[0m 78      \u001b[0m | \u001b[0m 0.719   \u001b[0m | \u001b[0m 0.9972  \u001b[0m | \u001b[0m 31.83   \u001b[0m | \u001b[0m 14.87   \u001b[0m | \u001b[0m 98.97   \u001b[0m | \u001b[0m 0.8225  \u001b[0m |\n",
      "| \u001b[0m 79      \u001b[0m | \u001b[0m 0.7172  \u001b[0m | \u001b[0m 0.6351  \u001b[0m | \u001b[0m 31.94   \u001b[0m | \u001b[0m 12.52   \u001b[0m | \u001b[0m 97.14   \u001b[0m | \u001b[0m 0.9334  \u001b[0m |\n",
      "| \u001b[0m 80      \u001b[0m | \u001b[0m 0.7151  \u001b[0m | \u001b[0m 0.8093  \u001b[0m | \u001b[0m 31.75   \u001b[0m | \u001b[0m 215.9   \u001b[0m | \u001b[0m 99.9    \u001b[0m | \u001b[0m 0.5262  \u001b[0m |\n",
      "| \u001b[0m 81      \u001b[0m | \u001b[0m 0.7176  \u001b[0m | \u001b[0m 0.587   \u001b[0m | \u001b[0m 31.93   \u001b[0m | \u001b[0m 42.82   \u001b[0m | \u001b[0m 97.44   \u001b[0m | \u001b[0m 0.9777  \u001b[0m |\n",
      "| \u001b[0m 82      \u001b[0m | \u001b[0m 0.7173  \u001b[0m | \u001b[0m 0.9664  \u001b[0m | \u001b[0m 31.72   \u001b[0m | \u001b[0m 115.6   \u001b[0m | \u001b[0m 59.85   \u001b[0m | \u001b[0m 0.5134  \u001b[0m |\n",
      "| \u001b[0m 83      \u001b[0m | \u001b[0m 0.7175  \u001b[0m | \u001b[0m 0.9278  \u001b[0m | \u001b[0m 31.92   \u001b[0m | \u001b[0m 101.8   \u001b[0m | \u001b[0m 98.03   \u001b[0m | \u001b[0m 0.9938  \u001b[0m |\n",
      "| \u001b[0m 84      \u001b[0m | \u001b[0m 0.7154  \u001b[0m | \u001b[0m 0.9637  \u001b[0m | \u001b[0m 31.99   \u001b[0m | \u001b[0m 265.1   \u001b[0m | \u001b[0m 63.64   \u001b[0m | \u001b[0m 0.5958  \u001b[0m |\n",
      "| \u001b[0m 85      \u001b[0m | \u001b[0m 0.718   \u001b[0m | \u001b[0m 0.9997  \u001b[0m | \u001b[0m 31.76   \u001b[0m | \u001b[0m 14.69   \u001b[0m | \u001b[0m 69.87   \u001b[0m | \u001b[0m 0.5707  \u001b[0m |\n",
      "| \u001b[0m 86      \u001b[0m | \u001b[0m 0.7182  \u001b[0m | \u001b[0m 0.9634  \u001b[0m | \u001b[0m 31.89   \u001b[0m | \u001b[0m 48.12   \u001b[0m | \u001b[0m 96.13   \u001b[0m | \u001b[0m 0.9832  \u001b[0m |\n",
      "| \u001b[0m 87      \u001b[0m | \u001b[0m 0.7192  \u001b[0m | \u001b[0m 0.9946  \u001b[0m | \u001b[0m 31.79   \u001b[0m | \u001b[0m 29.37   \u001b[0m | \u001b[0m 70.04   \u001b[0m | \u001b[0m 0.5178  \u001b[0m |\n",
      "| \u001b[0m 88      \u001b[0m | \u001b[0m 0.7181  \u001b[0m | \u001b[0m 0.9642  \u001b[0m | \u001b[0m 31.59   \u001b[0m | \u001b[0m 51.05   \u001b[0m | \u001b[0m 99.65   \u001b[0m | \u001b[0m 0.5421  \u001b[0m |\n",
      "| \u001b[0m 89      \u001b[0m | \u001b[0m 0.7195  \u001b[0m | \u001b[0m 0.9799  \u001b[0m | \u001b[0m 31.92   \u001b[0m | \u001b[0m 31.51   \u001b[0m | \u001b[0m 99.57   \u001b[0m | \u001b[0m 0.965   \u001b[0m |\n",
      "| \u001b[0m 90      \u001b[0m | \u001b[0m 0.7201  \u001b[0m | \u001b[0m 0.991   \u001b[0m | \u001b[0m 31.76   \u001b[0m | \u001b[0m 23.46   \u001b[0m | \u001b[0m 99.62   \u001b[0m | \u001b[0m 0.9928  \u001b[0m |\n",
      "| \u001b[0m 91      \u001b[0m | \u001b[0m 0.7129  \u001b[0m | \u001b[0m 0.9117  \u001b[0m | \u001b[0m 31.93   \u001b[0m | \u001b[0m 51.2    \u001b[0m | \u001b[0m 7.145   \u001b[0m | \u001b[0m 0.5232  \u001b[0m |\n",
      "| \u001b[0m 92      \u001b[0m | \u001b[0m 0.7201  \u001b[0m | \u001b[0m 0.9853  \u001b[0m | \u001b[0m 31.9    \u001b[0m | \u001b[0m 17.65   \u001b[0m | \u001b[0m 99.41   \u001b[0m | \u001b[0m 0.6243  \u001b[0m |\n",
      "| \u001b[0m 93      \u001b[0m | \u001b[0m 0.7195  \u001b[0m | \u001b[0m 0.9406  \u001b[0m | \u001b[0m 31.99   \u001b[0m | \u001b[0m 12.66   \u001b[0m | \u001b[0m 99.97   \u001b[0m | \u001b[0m 0.6914  \u001b[0m |\n",
      "| \u001b[0m 94      \u001b[0m | \u001b[0m 0.7162  \u001b[0m | \u001b[0m 0.9851  \u001b[0m | \u001b[0m 31.7    \u001b[0m | \u001b[0m 141.0   \u001b[0m | \u001b[0m 98.79   \u001b[0m | \u001b[0m 0.7939  \u001b[0m |\n",
      "| \u001b[0m 95      \u001b[0m | \u001b[0m 0.7164  \u001b[0m | \u001b[0m 0.5302  \u001b[0m | \u001b[0m 31.81   \u001b[0m | \u001b[0m 31.82   \u001b[0m | \u001b[0m 80.61   \u001b[0m | \u001b[0m 0.5145  \u001b[0m |\n",
      "| \u001b[0m 96      \u001b[0m | \u001b[0m 0.7085  \u001b[0m | \u001b[0m 0.8109  \u001b[0m | \u001b[0m 4.403   \u001b[0m | \u001b[0m 299.5   \u001b[0m | \u001b[0m 7.992   \u001b[0m | \u001b[0m 0.7296  \u001b[0m |\n",
      "| \u001b[0m 97      \u001b[0m | \u001b[0m 0.7146  \u001b[0m | \u001b[0m 0.9777  \u001b[0m | \u001b[0m 31.75   \u001b[0m | \u001b[0m 298.4   \u001b[0m | \u001b[0m 59.03   \u001b[0m | \u001b[0m 0.9881  \u001b[0m |\n",
      "| \u001b[0m 98      \u001b[0m | \u001b[0m 0.7172  \u001b[0m | \u001b[0m 0.9944  \u001b[0m | \u001b[0m 31.92   \u001b[0m | \u001b[0m 190.0   \u001b[0m | \u001b[0m 55.45   \u001b[0m | \u001b[0m 0.9708  \u001b[0m |\n",
      "| \u001b[0m 99      \u001b[0m | \u001b[0m 0.7167  \u001b[0m | \u001b[0m 0.9635  \u001b[0m | \u001b[0m 31.97   \u001b[0m | \u001b[0m 107.3   \u001b[0m | \u001b[0m 46.13   \u001b[0m | \u001b[0m 0.9797  \u001b[0m |\n",
      "| \u001b[0m 100     \u001b[0m | \u001b[0m 0.7188  \u001b[0m | \u001b[0m 0.9308  \u001b[0m | \u001b[0m 31.76   \u001b[0m | \u001b[0m 28.24   \u001b[0m | \u001b[0m 99.87   \u001b[0m | \u001b[0m 0.6001  \u001b[0m |\n",
      "| \u001b[0m 101     \u001b[0m | \u001b[0m 0.7189  \u001b[0m | \u001b[0m 0.9952  \u001b[0m | \u001b[0m 31.71   \u001b[0m | \u001b[0m 42.97   \u001b[0m | \u001b[0m 78.67   \u001b[0m | \u001b[0m 0.9766  \u001b[0m |\n",
      "| \u001b[0m 102     \u001b[0m | \u001b[0m 0.7175  \u001b[0m | \u001b[0m 0.6338  \u001b[0m | \u001b[0m 31.87   \u001b[0m | \u001b[0m 12.4    \u001b[0m | \u001b[0m 99.56   \u001b[0m | \u001b[0m 0.8876  \u001b[0m |\n",
      "| \u001b[0m 103     \u001b[0m | \u001b[0m 0.7151  \u001b[0m | \u001b[0m 0.992   \u001b[0m | \u001b[0m 31.95   \u001b[0m | \u001b[0m 245.6   \u001b[0m | \u001b[0m 28.89   \u001b[0m | \u001b[0m 0.5961  \u001b[0m |\n",
      "| \u001b[0m 104     \u001b[0m | \u001b[0m 0.7202  \u001b[0m | \u001b[0m 0.9721  \u001b[0m | \u001b[0m 31.68   \u001b[0m | \u001b[0m 30.89   \u001b[0m | \u001b[0m 97.61   \u001b[0m | \u001b[0m 0.5061  \u001b[0m |\n",
      "| \u001b[0m 105     \u001b[0m | \u001b[0m 0.7167  \u001b[0m | \u001b[0m 0.9784  \u001b[0m | \u001b[0m 31.97   \u001b[0m | \u001b[0m 199.0   \u001b[0m | \u001b[0m 64.34   \u001b[0m | \u001b[0m 0.5439  \u001b[0m |\n",
      "| \u001b[0m 106     \u001b[0m | \u001b[0m 0.7188  \u001b[0m | \u001b[0m 0.9438  \u001b[0m | \u001b[0m 31.91   \u001b[0m | \u001b[0m 82.19   \u001b[0m | \u001b[0m 99.84   \u001b[0m | \u001b[0m 0.5067  \u001b[0m |\n",
      "| \u001b[0m 107     \u001b[0m | \u001b[0m 0.7161  \u001b[0m | \u001b[0m 0.9868  \u001b[0m | \u001b[0m 31.61   \u001b[0m | \u001b[0m 259.8   \u001b[0m | \u001b[0m 97.72   \u001b[0m | \u001b[0m 0.5393  \u001b[0m |\n",
      "| \u001b[0m 108     \u001b[0m | \u001b[0m 0.7154  \u001b[0m | \u001b[0m 0.9598  \u001b[0m | \u001b[0m 31.88   \u001b[0m | \u001b[0m 181.0   \u001b[0m | \u001b[0m 99.46   \u001b[0m | \u001b[0m 0.5606  \u001b[0m |\n",
      "| \u001b[0m 109     \u001b[0m | \u001b[0m 0.7187  \u001b[0m | \u001b[0m 0.9978  \u001b[0m | \u001b[0m 31.81   \u001b[0m | \u001b[0m 112.1   \u001b[0m | \u001b[0m 73.22   \u001b[0m | \u001b[0m 0.5385  \u001b[0m |\n",
      "| \u001b[0m 110     \u001b[0m | \u001b[0m 0.7185  \u001b[0m | \u001b[0m 0.9997  \u001b[0m | \u001b[0m 31.87   \u001b[0m | \u001b[0m 38.86   \u001b[0m | \u001b[0m 49.26   \u001b[0m | \u001b[0m 0.9881  \u001b[0m |\n",
      "| \u001b[0m 111     \u001b[0m | \u001b[0m 0.7195  \u001b[0m | \u001b[0m 0.992   \u001b[0m | \u001b[0m 31.84   \u001b[0m | \u001b[0m 43.45   \u001b[0m | \u001b[0m 74.63   \u001b[0m | \u001b[0m 0.5095  \u001b[0m |\n",
      "| \u001b[0m 112     \u001b[0m | \u001b[0m 0.7183  \u001b[0m | \u001b[0m 0.9454  \u001b[0m | \u001b[0m 31.95   \u001b[0m | \u001b[0m 99.77   \u001b[0m | \u001b[0m 97.13   \u001b[0m | \u001b[0m 0.5116  \u001b[0m |\n",
      "| \u001b[0m 113     \u001b[0m | \u001b[0m 0.7196  \u001b[0m | \u001b[0m 0.9873  \u001b[0m | \u001b[0m 31.49   \u001b[0m | \u001b[0m 44.35   \u001b[0m | \u001b[0m 97.51   \u001b[0m | \u001b[0m 0.5247  \u001b[0m |\n",
      "| \u001b[0m 114     \u001b[0m | \u001b[0m 0.7186  \u001b[0m | \u001b[0m 0.9592  \u001b[0m | \u001b[0m 31.98   \u001b[0m | \u001b[0m 44.74   \u001b[0m | \u001b[0m 99.0    \u001b[0m | \u001b[0m 0.9579  \u001b[0m |\n",
      "| \u001b[0m 115     \u001b[0m | \u001b[0m 0.7188  \u001b[0m | \u001b[0m 0.9938  \u001b[0m | \u001b[0m 31.4    \u001b[0m | \u001b[0m 77.33   \u001b[0m | \u001b[0m 98.56   \u001b[0m | \u001b[0m 0.5152  \u001b[0m |\n",
      "| \u001b[0m 116     \u001b[0m | \u001b[0m 0.717   \u001b[0m | \u001b[0m 0.9875  \u001b[0m | \u001b[0m 31.94   \u001b[0m | \u001b[0m 35.9    \u001b[0m | \u001b[0m 55.55   \u001b[0m | \u001b[0m 0.5497  \u001b[0m |\n",
      "| \u001b[0m 117     \u001b[0m | \u001b[0m 0.7184  \u001b[0m | \u001b[0m 0.998   \u001b[0m | \u001b[0m 31.31   \u001b[0m | \u001b[0m 106.8   \u001b[0m | \u001b[0m 70.23   \u001b[0m | \u001b[0m 0.511   \u001b[0m |\n",
      "| \u001b[0m 118     \u001b[0m | \u001b[0m 0.72    \u001b[0m | \u001b[0m 0.9794  \u001b[0m | \u001b[0m 31.83   \u001b[0m | \u001b[0m 13.84   \u001b[0m | \u001b[0m 96.6    \u001b[0m | \u001b[0m 0.6157  \u001b[0m |\n",
      "| \u001b[0m 119     \u001b[0m | \u001b[0m 0.7181  \u001b[0m | \u001b[0m 0.9977  \u001b[0m | \u001b[0m 31.49   \u001b[0m | \u001b[0m 31.56   \u001b[0m | \u001b[0m 98.98   \u001b[0m | \u001b[0m 0.5382  \u001b[0m |\n",
      "| \u001b[0m 120     \u001b[0m | \u001b[0m 0.72    \u001b[0m | \u001b[0m 0.9758  \u001b[0m | \u001b[0m 31.7    \u001b[0m | \u001b[0m 13.79   \u001b[0m | \u001b[0m 96.7    \u001b[0m | \u001b[0m 0.9717  \u001b[0m |\n",
      "| \u001b[0m 121     \u001b[0m | \u001b[0m 0.72    \u001b[0m | \u001b[0m 0.9742  \u001b[0m | \u001b[0m 32.0    \u001b[0m | \u001b[0m 27.23   \u001b[0m | \u001b[0m 99.29   \u001b[0m | \u001b[0m 0.9688  \u001b[0m |\n",
      "| \u001b[0m 122     \u001b[0m | \u001b[0m 0.7179  \u001b[0m | \u001b[0m 0.9624  \u001b[0m | \u001b[0m 31.79   \u001b[0m | \u001b[0m 94.05   \u001b[0m | \u001b[0m 99.96   \u001b[0m | \u001b[0m 0.9553  \u001b[0m |\n",
      "| \u001b[0m 123     \u001b[0m | \u001b[0m 0.72    \u001b[0m | \u001b[0m 0.9817  \u001b[0m | \u001b[0m 31.98   \u001b[0m | \u001b[0m 25.18   \u001b[0m | \u001b[0m 99.4    \u001b[0m | \u001b[0m 0.6057  \u001b[0m |\n",
      "| \u001b[0m 124     \u001b[0m | \u001b[0m 0.7188  \u001b[0m | \u001b[0m 0.9188  \u001b[0m | \u001b[0m 31.97   \u001b[0m | \u001b[0m 13.56   \u001b[0m | \u001b[0m 98.8    \u001b[0m | \u001b[0m 0.8314  \u001b[0m |\n",
      "| \u001b[0m 125     \u001b[0m | \u001b[0m 0.7202  \u001b[0m | \u001b[0m 0.9544  \u001b[0m | \u001b[0m 31.82   \u001b[0m | \u001b[0m 50.7    \u001b[0m | \u001b[0m 99.54   \u001b[0m | \u001b[0m 0.553   \u001b[0m |\n",
      "| \u001b[0m 126     \u001b[0m | \u001b[0m 0.7196  \u001b[0m | \u001b[0m 0.9566  \u001b[0m | \u001b[0m 31.98   \u001b[0m | \u001b[0m 15.04   \u001b[0m | \u001b[0m 99.73   \u001b[0m | \u001b[0m 0.5834  \u001b[0m |\n",
      "| \u001b[0m 127     \u001b[0m | \u001b[0m 0.7187  \u001b[0m | \u001b[0m 0.9835  \u001b[0m | \u001b[0m 31.85   \u001b[0m | \u001b[0m 32.29   \u001b[0m | \u001b[0m 99.06   \u001b[0m | \u001b[0m 0.9869  \u001b[0m |\n",
      "| \u001b[0m 128     \u001b[0m | \u001b[0m 0.719   \u001b[0m | \u001b[0m 0.9797  \u001b[0m | \u001b[0m 31.9    \u001b[0m | \u001b[0m 33.59   \u001b[0m | \u001b[0m 87.4    \u001b[0m | \u001b[0m 0.5226  \u001b[0m |\n",
      "| \u001b[0m 129     \u001b[0m | \u001b[0m 0.7185  \u001b[0m | \u001b[0m 0.9756  \u001b[0m | \u001b[0m 31.59   \u001b[0m | \u001b[0m 67.6    \u001b[0m | \u001b[0m 74.43   \u001b[0m | \u001b[0m 0.5665  \u001b[0m |\n",
      "| \u001b[0m 130     \u001b[0m | \u001b[0m 0.7182  \u001b[0m | \u001b[0m 0.9947  \u001b[0m | \u001b[0m 31.92   \u001b[0m | \u001b[0m 25.22   \u001b[0m | \u001b[0m 98.39   \u001b[0m | \u001b[0m 0.64    \u001b[0m |\n",
      "| \u001b[0m 131     \u001b[0m | \u001b[0m 0.718   \u001b[0m | \u001b[0m 0.9771  \u001b[0m | \u001b[0m 31.83   \u001b[0m | \u001b[0m 130.6   \u001b[0m | \u001b[0m 54.51   \u001b[0m | \u001b[0m 0.5178  \u001b[0m |\n",
      "| \u001b[0m 132     \u001b[0m | \u001b[0m 0.7187  \u001b[0m | \u001b[0m 0.9816  \u001b[0m | \u001b[0m 31.91   \u001b[0m | \u001b[0m 14.89   \u001b[0m | \u001b[0m 75.72   \u001b[0m | \u001b[0m 0.5485  \u001b[0m |\n",
      "| \u001b[0m 133     \u001b[0m | \u001b[0m 0.7191  \u001b[0m | \u001b[0m 0.969   \u001b[0m | \u001b[0m 31.84   \u001b[0m | \u001b[0m 14.28   \u001b[0m | \u001b[0m 99.62   \u001b[0m | \u001b[0m 0.783   \u001b[0m |\n",
      "| \u001b[0m 134     \u001b[0m | \u001b[0m 0.7187  \u001b[0m | \u001b[0m 0.9389  \u001b[0m | \u001b[0m 31.79   \u001b[0m | \u001b[0m 33.27   \u001b[0m | \u001b[0m 99.98   \u001b[0m | \u001b[0m 0.9649  \u001b[0m |\n",
      "| \u001b[0m 135     \u001b[0m | \u001b[0m 0.7189  \u001b[0m | \u001b[0m 0.9931  \u001b[0m | \u001b[0m 31.69   \u001b[0m | \u001b[0m 48.19   \u001b[0m | \u001b[0m 81.85   \u001b[0m | \u001b[0m 0.5784  \u001b[0m |\n",
      "| \u001b[0m 136     \u001b[0m | \u001b[0m 0.7152  \u001b[0m | \u001b[0m 0.9919  \u001b[0m | \u001b[0m 31.79   \u001b[0m | \u001b[0m 294.5   \u001b[0m | \u001b[0m 99.64   \u001b[0m | \u001b[0m 0.5054  \u001b[0m |\n",
      "| \u001b[0m 137     \u001b[0m | \u001b[0m 0.7189  \u001b[0m | \u001b[0m 0.9023  \u001b[0m | \u001b[0m 31.94   \u001b[0m | \u001b[0m 31.7    \u001b[0m | \u001b[0m 100.0   \u001b[0m | \u001b[0m 0.5353  \u001b[0m |\n",
      "| \u001b[0m 138     \u001b[0m | \u001b[0m 0.7175  \u001b[0m | \u001b[0m 0.9982  \u001b[0m | \u001b[0m 31.95   \u001b[0m | \u001b[0m 114.6   \u001b[0m | \u001b[0m 60.18   \u001b[0m | \u001b[0m 0.9942  \u001b[0m |\n",
      "| \u001b[0m 139     \u001b[0m | \u001b[0m 0.7187  \u001b[0m | \u001b[0m 0.9847  \u001b[0m | \u001b[0m 31.7    \u001b[0m | \u001b[0m 31.94   \u001b[0m | \u001b[0m 82.81   \u001b[0m | \u001b[0m 0.9861  \u001b[0m |\n",
      "| \u001b[0m 140     \u001b[0m | \u001b[0m 0.7184  \u001b[0m | \u001b[0m 0.988   \u001b[0m | \u001b[0m 31.69   \u001b[0m | \u001b[0m 36.28   \u001b[0m | \u001b[0m 79.09   \u001b[0m | \u001b[0m 0.5277  \u001b[0m |\n",
      "| \u001b[0m 141     \u001b[0m | \u001b[0m 0.7176  \u001b[0m | \u001b[0m 0.9733  \u001b[0m | \u001b[0m 31.83   \u001b[0m | \u001b[0m 13.86   \u001b[0m | \u001b[0m 76.19   \u001b[0m | \u001b[0m 0.9155  \u001b[0m |\n",
      "| \u001b[0m 142     \u001b[0m | \u001b[0m 0.7195  \u001b[0m | \u001b[0m 0.5121  \u001b[0m | \u001b[0m 31.78   \u001b[0m | \u001b[0m 51.37   \u001b[0m | \u001b[0m 99.87   \u001b[0m | \u001b[0m 0.9949  \u001b[0m |\n",
      "| \u001b[0m 143     \u001b[0m | \u001b[0m 0.7199  \u001b[0m | \u001b[0m 0.8849  \u001b[0m | \u001b[0m 31.82   \u001b[0m | \u001b[0m 13.07   \u001b[0m | \u001b[0m 98.67   \u001b[0m | \u001b[0m 0.5426  \u001b[0m |\n",
      "| \u001b[0m 144     \u001b[0m | \u001b[0m 0.7163  \u001b[0m | \u001b[0m 0.9872  \u001b[0m | \u001b[0m 31.99   \u001b[0m | \u001b[0m 147.1   \u001b[0m | \u001b[0m 99.47   \u001b[0m | \u001b[0m 0.9857  \u001b[0m |\n",
      "| \u001b[0m 145     \u001b[0m | \u001b[0m 0.7192  \u001b[0m | \u001b[0m 0.9591  \u001b[0m | \u001b[0m 31.2    \u001b[0m | \u001b[0m 12.08   \u001b[0m | \u001b[0m 98.69   \u001b[0m | \u001b[0m 0.8173  \u001b[0m |\n",
      "| \u001b[0m 146     \u001b[0m | \u001b[0m 0.717   \u001b[0m | \u001b[0m 0.514   \u001b[0m | \u001b[0m 31.98   \u001b[0m | \u001b[0m 28.13   \u001b[0m | \u001b[0m 97.13   \u001b[0m | \u001b[0m 0.9907  \u001b[0m |\n",
      "| \u001b[0m 147     \u001b[0m | \u001b[0m 0.7172  \u001b[0m | \u001b[0m 0.9995  \u001b[0m | \u001b[0m 31.93   \u001b[0m | \u001b[0m 104.1   \u001b[0m | \u001b[0m 61.57   \u001b[0m | \u001b[0m 0.5103  \u001b[0m |\n",
      "| \u001b[0m 148     \u001b[0m | \u001b[0m 0.7196  \u001b[0m | \u001b[0m 0.9868  \u001b[0m | \u001b[0m 31.68   \u001b[0m | \u001b[0m 44.71   \u001b[0m | \u001b[0m 97.8    \u001b[0m | \u001b[0m 0.5048  \u001b[0m |\n",
      "| \u001b[0m 149     \u001b[0m | \u001b[0m 0.7165  \u001b[0m | \u001b[0m 0.9954  \u001b[0m | \u001b[0m 31.78   \u001b[0m | \u001b[0m 166.5   \u001b[0m | \u001b[0m 53.59   \u001b[0m | \u001b[0m 0.5784  \u001b[0m |\n",
      "| \u001b[0m 150     \u001b[0m | \u001b[0m 0.7193  \u001b[0m | \u001b[0m 0.9861  \u001b[0m | \u001b[0m 31.98   \u001b[0m | \u001b[0m 101.9   \u001b[0m | \u001b[0m 97.13   \u001b[0m | \u001b[0m 0.5817  \u001b[0m |\n",
      "| \u001b[0m 151     \u001b[0m | \u001b[0m 0.718   \u001b[0m | \u001b[0m 0.9818  \u001b[0m | \u001b[0m 31.76   \u001b[0m | \u001b[0m 76.94   \u001b[0m | \u001b[0m 96.0    \u001b[0m | \u001b[0m 0.5288  \u001b[0m |\n",
      "| \u001b[0m 152     \u001b[0m | \u001b[0m 0.7183  \u001b[0m | \u001b[0m 0.9949  \u001b[0m | \u001b[0m 31.9    \u001b[0m | \u001b[0m 103.3   \u001b[0m | \u001b[0m 97.28   \u001b[0m | \u001b[0m 0.5599  \u001b[0m |\n",
      "| \u001b[0m 153     \u001b[0m | \u001b[0m 0.7177  \u001b[0m | \u001b[0m 0.943   \u001b[0m | \u001b[0m 31.84   \u001b[0m | \u001b[0m 13.01   \u001b[0m | \u001b[0m 77.72   \u001b[0m | \u001b[0m 0.5187  \u001b[0m |\n",
      "| \u001b[0m 154     \u001b[0m | \u001b[0m 0.7202  \u001b[0m | \u001b[0m 0.9722  \u001b[0m | \u001b[0m 31.88   \u001b[0m | \u001b[0m 35.17   \u001b[0m | \u001b[0m 99.07   \u001b[0m | \u001b[0m 0.594   \u001b[0m |\n",
      "| \u001b[0m 155     \u001b[0m | \u001b[0m 0.7192  \u001b[0m | \u001b[0m 0.9739  \u001b[0m | \u001b[0m 31.99   \u001b[0m | \u001b[0m 20.62   \u001b[0m | \u001b[0m 98.52   \u001b[0m | \u001b[0m 0.5057  \u001b[0m |\n",
      "| \u001b[0m 156     \u001b[0m | \u001b[0m 0.7184  \u001b[0m | \u001b[0m 0.5097  \u001b[0m | \u001b[0m 31.93   \u001b[0m | \u001b[0m 41.91   \u001b[0m | \u001b[0m 98.01   \u001b[0m | \u001b[0m 0.5325  \u001b[0m |\n",
      "| \u001b[0m 157     \u001b[0m | \u001b[0m 0.7191  \u001b[0m | \u001b[0m 0.9868  \u001b[0m | \u001b[0m 31.86   \u001b[0m | \u001b[0m 46.99   \u001b[0m | \u001b[0m 95.2    \u001b[0m | \u001b[0m 0.9811  \u001b[0m |\n",
      "| \u001b[0m 158     \u001b[0m | \u001b[0m 0.7136  \u001b[0m | \u001b[0m 0.9905  \u001b[0m | \u001b[0m 31.8    \u001b[0m | \u001b[0m 127.3   \u001b[0m | \u001b[0m 7.131   \u001b[0m | \u001b[0m 0.8838  \u001b[0m |\n",
      "| \u001b[0m 159     \u001b[0m | \u001b[0m 0.717   \u001b[0m | \u001b[0m 0.9449  \u001b[0m | \u001b[0m 31.85   \u001b[0m | \u001b[0m 13.8    \u001b[0m | \u001b[0m 63.36   \u001b[0m | \u001b[0m 0.5311  \u001b[0m |\n",
      "| \u001b[0m 160     \u001b[0m | \u001b[0m 0.7194  \u001b[0m | \u001b[0m 0.9253  \u001b[0m | \u001b[0m 31.95   \u001b[0m | \u001b[0m 61.7    \u001b[0m | \u001b[0m 98.59   \u001b[0m | \u001b[0m 0.9899  \u001b[0m |\n",
      "| \u001b[0m 161     \u001b[0m | \u001b[0m 0.7196  \u001b[0m | \u001b[0m 0.9749  \u001b[0m | \u001b[0m 31.34   \u001b[0m | \u001b[0m 15.01   \u001b[0m | \u001b[0m 99.9    \u001b[0m | \u001b[0m 0.7137  \u001b[0m |\n",
      "| \u001b[0m 162     \u001b[0m | \u001b[0m 0.7153  \u001b[0m | \u001b[0m 0.9531  \u001b[0m | \u001b[0m 31.91   \u001b[0m | \u001b[0m 299.9   \u001b[0m | \u001b[0m 54.14   \u001b[0m | \u001b[0m 0.5357  \u001b[0m |\n",
      "| \u001b[0m 163     \u001b[0m | \u001b[0m 0.7185  \u001b[0m | \u001b[0m 0.9972  \u001b[0m | \u001b[0m 31.76   \u001b[0m | \u001b[0m 82.06   \u001b[0m | \u001b[0m 67.94   \u001b[0m | \u001b[0m 0.9976  \u001b[0m |\n",
      "| \u001b[0m 164     \u001b[0m | \u001b[0m 0.7185  \u001b[0m | \u001b[0m 0.9856  \u001b[0m | \u001b[0m 31.93   \u001b[0m | \u001b[0m 66.38   \u001b[0m | \u001b[0m 99.1    \u001b[0m | \u001b[0m 0.6442  \u001b[0m |\n",
      "| \u001b[0m 165     \u001b[0m | \u001b[0m 0.7177  \u001b[0m | \u001b[0m 0.9962  \u001b[0m | \u001b[0m 31.97   \u001b[0m | \u001b[0m 82.73   \u001b[0m | \u001b[0m 99.76   \u001b[0m | \u001b[0m 0.7494  \u001b[0m |\n",
      "| \u001b[0m 166     \u001b[0m | \u001b[0m 0.7183  \u001b[0m | \u001b[0m 0.961   \u001b[0m | \u001b[0m 31.98   \u001b[0m | \u001b[0m 53.36   \u001b[0m | \u001b[0m 97.75   \u001b[0m | \u001b[0m 0.9882  \u001b[0m |\n",
      "| \u001b[0m 167     \u001b[0m | \u001b[0m 0.7188  \u001b[0m | \u001b[0m 0.9676  \u001b[0m | \u001b[0m 31.93   \u001b[0m | \u001b[0m 39.56   \u001b[0m | \u001b[0m 98.04   \u001b[0m | \u001b[0m 0.5859  \u001b[0m |\n",
      "| \u001b[0m 168     \u001b[0m | \u001b[0m 0.7177  \u001b[0m | \u001b[0m 0.9359  \u001b[0m | \u001b[0m 31.94   \u001b[0m | \u001b[0m 44.72   \u001b[0m | \u001b[0m 72.67   \u001b[0m | \u001b[0m 0.5408  \u001b[0m |\n",
      "| \u001b[0m 169     \u001b[0m | \u001b[0m 0.7195  \u001b[0m | \u001b[0m 0.5195  \u001b[0m | \u001b[0m 31.42   \u001b[0m | \u001b[0m 12.87   \u001b[0m | \u001b[0m 98.51   \u001b[0m | \u001b[0m 0.5106  \u001b[0m |\n",
      "| \u001b[0m 170     \u001b[0m | \u001b[0m 0.7178  \u001b[0m | \u001b[0m 0.9774  \u001b[0m | \u001b[0m 31.95   \u001b[0m | \u001b[0m 37.5    \u001b[0m | \u001b[0m 90.83   \u001b[0m | \u001b[0m 0.5656  \u001b[0m |\n",
      "| \u001b[0m 171     \u001b[0m | \u001b[0m 0.7172  \u001b[0m | \u001b[0m 0.7965  \u001b[0m | \u001b[0m 31.29   \u001b[0m | \u001b[0m 12.28   \u001b[0m | \u001b[0m 99.5    \u001b[0m | \u001b[0m 0.5505  \u001b[0m |\n",
      "| \u001b[0m 172     \u001b[0m | \u001b[0m 0.7193  \u001b[0m | \u001b[0m 0.9811  \u001b[0m | \u001b[0m 31.46   \u001b[0m | \u001b[0m 12.12   \u001b[0m | \u001b[0m 99.92   \u001b[0m | \u001b[0m 0.5821  \u001b[0m |\n",
      "| \u001b[0m 173     \u001b[0m | \u001b[0m 0.7172  \u001b[0m | \u001b[0m 0.5242  \u001b[0m | \u001b[0m 31.99   \u001b[0m | \u001b[0m 78.72   \u001b[0m | \u001b[0m 68.2    \u001b[0m | \u001b[0m 0.5026  \u001b[0m |\n",
      "| \u001b[0m 174     \u001b[0m | \u001b[0m 0.7188  \u001b[0m | \u001b[0m 0.9873  \u001b[0m | \u001b[0m 31.49   \u001b[0m | \u001b[0m 83.53   \u001b[0m | \u001b[0m 70.25   \u001b[0m | \u001b[0m 0.5405  \u001b[0m |\n",
      "| \u001b[0m 175     \u001b[0m | \u001b[0m 0.7181  \u001b[0m | \u001b[0m 0.9721  \u001b[0m | \u001b[0m 31.56   \u001b[0m | \u001b[0m 51.67   \u001b[0m | \u001b[0m 99.09   \u001b[0m | \u001b[0m 0.5419  \u001b[0m |\n",
      "| \u001b[0m 176     \u001b[0m | \u001b[0m 0.7194  \u001b[0m | \u001b[0m 0.9854  \u001b[0m | \u001b[0m 31.74   \u001b[0m | \u001b[0m 37.13   \u001b[0m | \u001b[0m 84.86   \u001b[0m | \u001b[0m 0.9606  \u001b[0m |\n",
      "| \u001b[0m 177     \u001b[0m | \u001b[0m 0.7167  \u001b[0m | \u001b[0m 0.9842  \u001b[0m | \u001b[0m 31.94   \u001b[0m | \u001b[0m 236.2   \u001b[0m | \u001b[0m 99.65   \u001b[0m | \u001b[0m 0.872   \u001b[0m |\n",
      "| \u001b[0m 178     \u001b[0m | \u001b[0m 0.7184  \u001b[0m | \u001b[0m 0.9833  \u001b[0m | \u001b[0m 31.84   \u001b[0m | \u001b[0m 16.29   \u001b[0m | \u001b[0m 76.03   \u001b[0m | \u001b[0m 0.984   \u001b[0m |\n",
      "| \u001b[0m 179     \u001b[0m | \u001b[0m 0.72    \u001b[0m | \u001b[0m 0.9818  \u001b[0m | \u001b[0m 31.65   \u001b[0m | \u001b[0m 13.99   \u001b[0m | \u001b[0m 96.23   \u001b[0m | \u001b[0m 0.579   \u001b[0m |\n",
      "| \u001b[0m 180     \u001b[0m | \u001b[0m 0.7181  \u001b[0m | \u001b[0m 0.5232  \u001b[0m | \u001b[0m 31.89   \u001b[0m | \u001b[0m 18.22   \u001b[0m | \u001b[0m 99.18   \u001b[0m | \u001b[0m 0.9489  \u001b[0m |\n",
      "| \u001b[0m 181     \u001b[0m | \u001b[0m 0.7178  \u001b[0m | \u001b[0m 0.6419  \u001b[0m | \u001b[0m 31.76   \u001b[0m | \u001b[0m 12.47   \u001b[0m | \u001b[0m 98.79   \u001b[0m | \u001b[0m 0.9841  \u001b[0m |\n",
      "| \u001b[0m 182     \u001b[0m | \u001b[0m 0.7135  \u001b[0m | \u001b[0m 0.8475  \u001b[0m | \u001b[0m 31.6    \u001b[0m | \u001b[0m 12.18   \u001b[0m | \u001b[0m 8.171   \u001b[0m | \u001b[0m 0.9163  \u001b[0m |\n",
      "| \u001b[0m 183     \u001b[0m | \u001b[0m 0.7158  \u001b[0m | \u001b[0m 0.9805  \u001b[0m | \u001b[0m 31.96   \u001b[0m | \u001b[0m 247.3   \u001b[0m | \u001b[0m 69.2    \u001b[0m | \u001b[0m 0.6052  \u001b[0m |\n",
      "| \u001b[0m 184     \u001b[0m | \u001b[0m 0.7184  \u001b[0m | \u001b[0m 0.985   \u001b[0m | \u001b[0m 31.71   \u001b[0m | \u001b[0m 26.71   \u001b[0m | \u001b[0m 97.86   \u001b[0m | \u001b[0m 0.5057  \u001b[0m |\n",
      "| \u001b[0m 185     \u001b[0m | \u001b[0m 0.719   \u001b[0m | \u001b[0m 0.9736  \u001b[0m | \u001b[0m 31.68   \u001b[0m | \u001b[0m 14.56   \u001b[0m | \u001b[0m 97.08   \u001b[0m | \u001b[0m 0.5466  \u001b[0m |\n",
      "| \u001b[0m 186     \u001b[0m | \u001b[0m 0.718   \u001b[0m | \u001b[0m 0.8997  \u001b[0m | \u001b[0m 31.58   \u001b[0m | \u001b[0m 12.23   \u001b[0m | \u001b[0m 99.81   \u001b[0m | \u001b[0m 0.6756  \u001b[0m |\n",
      "| \u001b[0m 187     \u001b[0m | \u001b[0m 0.7188  \u001b[0m | \u001b[0m 0.9756  \u001b[0m | \u001b[0m 31.87   \u001b[0m | \u001b[0m 89.6    \u001b[0m | \u001b[0m 95.86   \u001b[0m | \u001b[0m 0.9798  \u001b[0m |\n",
      "| \u001b[0m 188     \u001b[0m | \u001b[0m 0.7169  \u001b[0m | \u001b[0m 0.9872  \u001b[0m | \u001b[0m 31.99   \u001b[0m | \u001b[0m 68.98   \u001b[0m | \u001b[0m 88.6    \u001b[0m | \u001b[0m 0.5198  \u001b[0m |\n",
      "| \u001b[0m 189     \u001b[0m | \u001b[0m 0.7181  \u001b[0m | \u001b[0m 0.9658  \u001b[0m | \u001b[0m 31.97   \u001b[0m | \u001b[0m 51.19   \u001b[0m | \u001b[0m 99.93   \u001b[0m | \u001b[0m 0.9417  \u001b[0m |\n",
      "| \u001b[0m 190     \u001b[0m | \u001b[0m 0.7103  \u001b[0m | \u001b[0m 0.9704  \u001b[0m | \u001b[0m 31.9    \u001b[0m | \u001b[0m 254.0   \u001b[0m | \u001b[0m 7.679   \u001b[0m | \u001b[0m 0.7047  \u001b[0m |\n",
      "| \u001b[0m 191     \u001b[0m | \u001b[0m 0.7175  \u001b[0m | \u001b[0m 0.9622  \u001b[0m | \u001b[0m 31.83   \u001b[0m | \u001b[0m 12.38   \u001b[0m | \u001b[0m 77.24   \u001b[0m | \u001b[0m 0.9995  \u001b[0m |\n",
      "| \u001b[0m 192     \u001b[0m | \u001b[0m 0.7174  \u001b[0m | \u001b[0m 0.9986  \u001b[0m | \u001b[0m 31.51   \u001b[0m | \u001b[0m 158.5   \u001b[0m | \u001b[0m 99.92   \u001b[0m | \u001b[0m 0.5809  \u001b[0m |\n",
      "| \u001b[0m 193     \u001b[0m | \u001b[0m 0.7201  \u001b[0m | \u001b[0m 0.9989  \u001b[0m | \u001b[0m 31.43   \u001b[0m | \u001b[0m 43.72   \u001b[0m | \u001b[0m 79.45   \u001b[0m | \u001b[0m 0.9576  \u001b[0m |\n",
      "| \u001b[0m 194     \u001b[0m | \u001b[0m 0.7177  \u001b[0m | \u001b[0m 0.9941  \u001b[0m | \u001b[0m 31.67   \u001b[0m | \u001b[0m 50.4    \u001b[0m | \u001b[0m 41.21   \u001b[0m | \u001b[0m 0.9802  \u001b[0m |\n",
      "| \u001b[0m 195     \u001b[0m | \u001b[0m 0.7193  \u001b[0m | \u001b[0m 0.9816  \u001b[0m | \u001b[0m 31.78   \u001b[0m | \u001b[0m 36.25   \u001b[0m | \u001b[0m 98.78   \u001b[0m | \u001b[0m 0.5697  \u001b[0m |\n"
     ]
    },
    {
     "name": "stderr",
     "output_type": "stream",
     "text": [
      "C:\\Users\\Milton\\Anaconda3\\lib\\site-packages\\bayes_opt\\util.py:117: RuntimeWarning: divide by zero encountered in true_divide\n",
      "  z = (mean - y_max - xi)/std\n"
     ]
    },
    {
     "name": "stdout",
     "output_type": "stream",
     "text": [
      "| \u001b[0m 196     \u001b[0m | \u001b[0m 0.717   \u001b[0m | \u001b[0m 0.9846  \u001b[0m | \u001b[0m 31.98   \u001b[0m | \u001b[0m 166.2   \u001b[0m | \u001b[0m 59.22   \u001b[0m | \u001b[0m 0.9373  \u001b[0m |\n",
      "| \u001b[0m 197     \u001b[0m | \u001b[0m 0.7181  \u001b[0m | \u001b[0m 0.9807  \u001b[0m | \u001b[0m 31.93   \u001b[0m | \u001b[0m 46.57   \u001b[0m | \u001b[0m 65.95   \u001b[0m | \u001b[0m 0.9627  \u001b[0m |\n",
      "| \u001b[0m 198     \u001b[0m | \u001b[0m 0.7185  \u001b[0m | \u001b[0m 0.9377  \u001b[0m | \u001b[0m 31.93   \u001b[0m | \u001b[0m 14.67   \u001b[0m | \u001b[0m 99.66   \u001b[0m | \u001b[0m 0.5108  \u001b[0m |\n",
      "| \u001b[0m 199     \u001b[0m | \u001b[0m 0.7169  \u001b[0m | \u001b[0m 0.9757  \u001b[0m | \u001b[0m 31.92   \u001b[0m | \u001b[0m 191.3   \u001b[0m | \u001b[0m 99.92   \u001b[0m | \u001b[0m 0.5014  \u001b[0m |\n",
      "| \u001b[0m 200     \u001b[0m | \u001b[0m 0.7143  \u001b[0m | \u001b[0m 0.9638  \u001b[0m | \u001b[0m 31.64   \u001b[0m | \u001b[0m 298.9   \u001b[0m | \u001b[0m 97.68   \u001b[0m | \u001b[0m 0.8666  \u001b[0m |\n",
      "| \u001b[0m 201     \u001b[0m | \u001b[0m 0.7173  \u001b[0m | \u001b[0m 0.5119  \u001b[0m | \u001b[0m 31.98   \u001b[0m | \u001b[0m 79.89   \u001b[0m | \u001b[0m 97.81   \u001b[0m | \u001b[0m 0.8873  \u001b[0m |\n",
      "| \u001b[0m 202     \u001b[0m | \u001b[0m 0.7191  \u001b[0m | \u001b[0m 0.9843  \u001b[0m | \u001b[0m 31.83   \u001b[0m | \u001b[0m 104.0   \u001b[0m | \u001b[0m 61.26   \u001b[0m | \u001b[0m 0.9976  \u001b[0m |\n",
      "| \u001b[0m 203     \u001b[0m | \u001b[0m 0.7186  \u001b[0m | \u001b[0m 0.9741  \u001b[0m | \u001b[0m 31.85   \u001b[0m | \u001b[0m 37.01   \u001b[0m | \u001b[0m 98.24   \u001b[0m | \u001b[0m 0.9957  \u001b[0m |\n",
      "| \u001b[0m 204     \u001b[0m | \u001b[0m 0.7176  \u001b[0m | \u001b[0m 0.996   \u001b[0m | \u001b[0m 31.94   \u001b[0m | \u001b[0m 117.5   \u001b[0m | \u001b[0m 71.3    \u001b[0m | \u001b[0m 0.9646  \u001b[0m |\n",
      "| \u001b[0m 205     \u001b[0m | \u001b[0m 0.7185  \u001b[0m | \u001b[0m 0.9961  \u001b[0m | \u001b[0m 31.62   \u001b[0m | \u001b[0m 75.5    \u001b[0m | \u001b[0m 98.07   \u001b[0m | \u001b[0m 0.9629  \u001b[0m |\n",
      "| \u001b[0m 206     \u001b[0m | \u001b[0m 0.7181  \u001b[0m | \u001b[0m 0.5334  \u001b[0m | \u001b[0m 31.84   \u001b[0m | \u001b[0m 72.43   \u001b[0m | \u001b[0m 72.31   \u001b[0m | \u001b[0m 0.5297  \u001b[0m |\n",
      "| \u001b[0m 207     \u001b[0m | \u001b[0m 0.7181  \u001b[0m | \u001b[0m 0.9191  \u001b[0m | \u001b[0m 31.97   \u001b[0m | \u001b[0m 192.0   \u001b[0m | \u001b[0m 64.86   \u001b[0m | \u001b[0m 0.5003  \u001b[0m |\n",
      "| \u001b[0m 208     \u001b[0m | \u001b[0m 0.7177  \u001b[0m | \u001b[0m 0.5151  \u001b[0m | \u001b[0m 31.9    \u001b[0m | \u001b[0m 52.59   \u001b[0m | \u001b[0m 96.47   \u001b[0m | \u001b[0m 0.9559  \u001b[0m |\n",
      "| \u001b[0m 209     \u001b[0m | \u001b[0m 0.7177  \u001b[0m | \u001b[0m 0.9824  \u001b[0m | \u001b[0m 31.93   \u001b[0m | \u001b[0m 76.54   \u001b[0m | \u001b[0m 42.6    \u001b[0m | \u001b[0m 0.5019  \u001b[0m |\n",
      "| \u001b[0m 210     \u001b[0m | \u001b[0m 0.7192  \u001b[0m | \u001b[0m 0.9437  \u001b[0m | \u001b[0m 31.78   \u001b[0m | \u001b[0m 12.74   \u001b[0m | \u001b[0m 96.93   \u001b[0m | \u001b[0m 0.9197  \u001b[0m |\n",
      "| \u001b[0m 211     \u001b[0m | \u001b[0m 0.719   \u001b[0m | \u001b[0m 0.9553  \u001b[0m | \u001b[0m 31.57   \u001b[0m | \u001b[0m 29.95   \u001b[0m | \u001b[0m 90.75   \u001b[0m | \u001b[0m 0.9256  \u001b[0m |\n",
      "| \u001b[0m 212     \u001b[0m | \u001b[0m 0.7188  \u001b[0m | \u001b[0m 0.9861  \u001b[0m | \u001b[0m 31.94   \u001b[0m | \u001b[0m 22.45   \u001b[0m | \u001b[0m 96.74   \u001b[0m | \u001b[0m 0.5156  \u001b[0m |\n",
      "| \u001b[0m 213     \u001b[0m | \u001b[0m 0.7178  \u001b[0m | \u001b[0m 0.9929  \u001b[0m | \u001b[0m 31.96   \u001b[0m | \u001b[0m 40.71   \u001b[0m | \u001b[0m 99.52   \u001b[0m | \u001b[0m 0.8241  \u001b[0m |\n",
      "| \u001b[0m 214     \u001b[0m | \u001b[0m 0.7198  \u001b[0m | \u001b[0m 0.9706  \u001b[0m | \u001b[0m 31.92   \u001b[0m | \u001b[0m 19.09   \u001b[0m | \u001b[0m 99.93   \u001b[0m | \u001b[0m 0.5647  \u001b[0m |\n",
      "| \u001b[0m 215     \u001b[0m | \u001b[0m 0.7182  \u001b[0m | \u001b[0m 0.988   \u001b[0m | \u001b[0m 31.8    \u001b[0m | \u001b[0m 13.03   \u001b[0m | \u001b[0m 81.9    \u001b[0m | \u001b[0m 0.5603  \u001b[0m |\n",
      "| \u001b[0m 216     \u001b[0m | \u001b[0m 0.7193  \u001b[0m | \u001b[0m 0.9911  \u001b[0m | \u001b[0m 31.9    \u001b[0m | \u001b[0m 40.64   \u001b[0m | \u001b[0m 81.46   \u001b[0m | \u001b[0m 0.6732  \u001b[0m |\n",
      "| \u001b[0m 217     \u001b[0m | \u001b[0m 0.7197  \u001b[0m | \u001b[0m 0.9855  \u001b[0m | \u001b[0m 31.47   \u001b[0m | \u001b[0m 17.12   \u001b[0m | \u001b[0m 98.95   \u001b[0m | \u001b[0m 0.84    \u001b[0m |\n",
      "| \u001b[0m 218     \u001b[0m | \u001b[0m 0.7198  \u001b[0m | \u001b[0m 0.9776  \u001b[0m | \u001b[0m 31.99   \u001b[0m | \u001b[0m 13.49   \u001b[0m | \u001b[0m 97.71   \u001b[0m | \u001b[0m 0.7527  \u001b[0m |\n",
      "| \u001b[0m 219     \u001b[0m | \u001b[0m 0.7184  \u001b[0m | \u001b[0m 0.9989  \u001b[0m | \u001b[0m 31.8    \u001b[0m | \u001b[0m 131.2   \u001b[0m | \u001b[0m 81.82   \u001b[0m | \u001b[0m 0.9757  \u001b[0m |\n",
      "| \u001b[0m 220     \u001b[0m | \u001b[0m 0.7163  \u001b[0m | \u001b[0m 0.9756  \u001b[0m | \u001b[0m 31.78   \u001b[0m | \u001b[0m 205.4   \u001b[0m | \u001b[0m 58.8    \u001b[0m | \u001b[0m 0.9887  \u001b[0m |\n",
      "| \u001b[0m 221     \u001b[0m | \u001b[0m 0.7182  \u001b[0m | \u001b[0m 0.9937  \u001b[0m | \u001b[0m 31.82   \u001b[0m | \u001b[0m 118.7   \u001b[0m | \u001b[0m 58.1    \u001b[0m | \u001b[0m 0.5804  \u001b[0m |\n",
      "| \u001b[0m 222     \u001b[0m | \u001b[0m 0.7184  \u001b[0m | \u001b[0m 0.9828  \u001b[0m | \u001b[0m 31.73   \u001b[0m | \u001b[0m 17.27   \u001b[0m | \u001b[0m 97.25   \u001b[0m | \u001b[0m 0.6125  \u001b[0m |\n",
      "| \u001b[0m 223     \u001b[0m | \u001b[0m 0.7183  \u001b[0m | \u001b[0m 0.9924  \u001b[0m | \u001b[0m 31.96   \u001b[0m | \u001b[0m 12.51   \u001b[0m | \u001b[0m 98.65   \u001b[0m | \u001b[0m 0.9267  \u001b[0m |\n",
      "| \u001b[0m 224     \u001b[0m | \u001b[0m 0.7181  \u001b[0m | \u001b[0m 0.9703  \u001b[0m | \u001b[0m 31.76   \u001b[0m | \u001b[0m 22.31   \u001b[0m | \u001b[0m 99.81   \u001b[0m | \u001b[0m 0.8849  \u001b[0m |\n",
      "| \u001b[0m 225     \u001b[0m | \u001b[0m 0.7186  \u001b[0m | \u001b[0m 0.9326  \u001b[0m | \u001b[0m 31.77   \u001b[0m | \u001b[0m 85.13   \u001b[0m | \u001b[0m 63.12   \u001b[0m | \u001b[0m 0.9109  \u001b[0m |\n",
      "| \u001b[0m 226     \u001b[0m | \u001b[0m 0.7187  \u001b[0m | \u001b[0m 0.5706  \u001b[0m | \u001b[0m 31.84   \u001b[0m | \u001b[0m 12.53   \u001b[0m | \u001b[0m 65.47   \u001b[0m | \u001b[0m 0.9712  \u001b[0m |\n",
      "| \u001b[0m 227     \u001b[0m | \u001b[0m 0.7189  \u001b[0m | \u001b[0m 0.9904  \u001b[0m | \u001b[0m 31.71   \u001b[0m | \u001b[0m 81.32   \u001b[0m | \u001b[0m 72.01   \u001b[0m | \u001b[0m 0.9695  \u001b[0m |\n",
      "| \u001b[0m 228     \u001b[0m | \u001b[0m 0.7191  \u001b[0m | \u001b[0m 0.9061  \u001b[0m | \u001b[0m 31.95   \u001b[0m | \u001b[0m 15.86   \u001b[0m | \u001b[0m 99.46   \u001b[0m | \u001b[0m 0.9768  \u001b[0m |\n",
      "| \u001b[0m 229     \u001b[0m | \u001b[0m 0.7175  \u001b[0m | \u001b[0m 0.9434  \u001b[0m | \u001b[0m 32.0    \u001b[0m | \u001b[0m 13.32   \u001b[0m | \u001b[0m 49.38   \u001b[0m | \u001b[0m 0.5295  \u001b[0m |\n",
      "| \u001b[0m 230     \u001b[0m | \u001b[0m 0.7185  \u001b[0m | \u001b[0m 0.9663  \u001b[0m | \u001b[0m 31.81   \u001b[0m | \u001b[0m 16.65   \u001b[0m | \u001b[0m 80.4    \u001b[0m | \u001b[0m 0.5329  \u001b[0m |\n",
      "| \u001b[0m 231     \u001b[0m | \u001b[0m 0.7176  \u001b[0m | \u001b[0m 0.998   \u001b[0m | \u001b[0m 31.92   \u001b[0m | \u001b[0m 94.66   \u001b[0m | \u001b[0m 61.05   \u001b[0m | \u001b[0m 0.9794  \u001b[0m |\n",
      "| \u001b[0m 232     \u001b[0m | \u001b[0m 0.7177  \u001b[0m | \u001b[0m 0.9577  \u001b[0m | \u001b[0m 31.68   \u001b[0m | \u001b[0m 135.9   \u001b[0m | \u001b[0m 99.68   \u001b[0m | \u001b[0m 0.5228  \u001b[0m |\n",
      "| \u001b[0m 233     \u001b[0m | \u001b[0m 0.7175  \u001b[0m | \u001b[0m 0.5009  \u001b[0m | \u001b[0m 31.79   \u001b[0m | \u001b[0m 32.88   \u001b[0m | \u001b[0m 81.3    \u001b[0m | \u001b[0m 0.9609  \u001b[0m |\n",
      "| \u001b[0m 234     \u001b[0m | \u001b[0m 0.7169  \u001b[0m | \u001b[0m 0.5191  \u001b[0m | \u001b[0m 31.88   \u001b[0m | \u001b[0m 161.6   \u001b[0m | \u001b[0m 75.04   \u001b[0m | \u001b[0m 0.9322  \u001b[0m |\n",
      "| \u001b[0m 235     \u001b[0m | \u001b[0m 0.719   \u001b[0m | \u001b[0m 0.9767  \u001b[0m | \u001b[0m 31.78   \u001b[0m | \u001b[0m 48.22   \u001b[0m | \u001b[0m 99.84   \u001b[0m | \u001b[0m 0.979   \u001b[0m |\n",
      "| \u001b[0m 236     \u001b[0m | \u001b[0m 0.7158  \u001b[0m | \u001b[0m 0.9202  \u001b[0m | \u001b[0m 31.97   \u001b[0m | \u001b[0m 176.1   \u001b[0m | \u001b[0m 98.41   \u001b[0m | \u001b[0m 0.9227  \u001b[0m |\n",
      "| \u001b[0m 237     \u001b[0m | \u001b[0m 0.7183  \u001b[0m | \u001b[0m 0.9794  \u001b[0m | \u001b[0m 31.81   \u001b[0m | \u001b[0m 54.0    \u001b[0m | \u001b[0m 93.05   \u001b[0m | \u001b[0m 0.5309  \u001b[0m |\n",
      "| \u001b[0m 238     \u001b[0m | \u001b[0m 0.7184  \u001b[0m | \u001b[0m 0.9922  \u001b[0m | \u001b[0m 31.9    \u001b[0m | \u001b[0m 45.59   \u001b[0m | \u001b[0m 97.71   \u001b[0m | \u001b[0m 0.6081  \u001b[0m |\n",
      "| \u001b[0m 239     \u001b[0m | \u001b[0m 0.7182  \u001b[0m | \u001b[0m 0.5198  \u001b[0m | \u001b[0m 31.83   \u001b[0m | \u001b[0m 30.95   \u001b[0m | \u001b[0m 86.32   \u001b[0m | \u001b[0m 0.5909  \u001b[0m |\n",
      "| \u001b[0m 240     \u001b[0m | \u001b[0m 0.72    \u001b[0m | \u001b[0m 0.9587  \u001b[0m | \u001b[0m 31.85   \u001b[0m | \u001b[0m 33.24   \u001b[0m | \u001b[0m 99.98   \u001b[0m | \u001b[0m 0.5912  \u001b[0m |\n",
      "| \u001b[0m 241     \u001b[0m | \u001b[0m 0.7159  \u001b[0m | \u001b[0m 0.9924  \u001b[0m | \u001b[0m 31.58   \u001b[0m | \u001b[0m 240.3   \u001b[0m | \u001b[0m 70.01   \u001b[0m | \u001b[0m 0.5721  \u001b[0m |\n",
      "| \u001b[0m 242     \u001b[0m | \u001b[0m 0.7183  \u001b[0m | \u001b[0m 0.5527  \u001b[0m | \u001b[0m 31.6    \u001b[0m | \u001b[0m 15.78   \u001b[0m | \u001b[0m 98.3    \u001b[0m | \u001b[0m 0.5016  \u001b[0m |\n",
      "| \u001b[0m 243     \u001b[0m | \u001b[0m 0.7193  \u001b[0m | \u001b[0m 0.9918  \u001b[0m | \u001b[0m 31.87   \u001b[0m | \u001b[0m 39.28   \u001b[0m | \u001b[0m 92.17   \u001b[0m | \u001b[0m 0.5985  \u001b[0m |\n",
      "| \u001b[0m 244     \u001b[0m | \u001b[0m 0.7173  \u001b[0m | \u001b[0m 0.9568  \u001b[0m | \u001b[0m 31.72   \u001b[0m | \u001b[0m 101.7   \u001b[0m | \u001b[0m 78.02   \u001b[0m | \u001b[0m 0.5078  \u001b[0m |\n",
      "| \u001b[0m 245     \u001b[0m | \u001b[0m 0.7193  \u001b[0m | \u001b[0m 0.9875  \u001b[0m | \u001b[0m 31.92   \u001b[0m | \u001b[0m 58.13   \u001b[0m | \u001b[0m 81.5    \u001b[0m | \u001b[0m 0.5617  \u001b[0m |\n",
      "| \u001b[0m 246     \u001b[0m | \u001b[0m 0.719   \u001b[0m | \u001b[0m 0.9938  \u001b[0m | \u001b[0m 31.7    \u001b[0m | \u001b[0m 34.87   \u001b[0m | \u001b[0m 99.4    \u001b[0m | \u001b[0m 0.873   \u001b[0m |\n",
      "| \u001b[0m 247     \u001b[0m | \u001b[0m 0.7191  \u001b[0m | \u001b[0m 0.9797  \u001b[0m | \u001b[0m 32.0    \u001b[0m | \u001b[0m 31.09   \u001b[0m | \u001b[0m 67.8    \u001b[0m | \u001b[0m 0.5931  \u001b[0m |\n",
      "| \u001b[0m 248     \u001b[0m | \u001b[0m 0.7185  \u001b[0m | \u001b[0m 0.9967  \u001b[0m | \u001b[0m 31.81   \u001b[0m | \u001b[0m 66.21   \u001b[0m | \u001b[0m 98.91   \u001b[0m | \u001b[0m 0.9337  \u001b[0m |\n",
      "| \u001b[0m 249     \u001b[0m | \u001b[0m 0.7184  \u001b[0m | \u001b[0m 0.9886  \u001b[0m | \u001b[0m 31.8    \u001b[0m | \u001b[0m 57.77   \u001b[0m | \u001b[0m 93.45   \u001b[0m | \u001b[0m 0.5142  \u001b[0m |\n",
      "| \u001b[0m 250     \u001b[0m | \u001b[0m 0.7184  \u001b[0m | \u001b[0m 0.9977  \u001b[0m | \u001b[0m 31.74   \u001b[0m | \u001b[0m 27.03   \u001b[0m | \u001b[0m 78.56   \u001b[0m | \u001b[0m 0.6897  \u001b[0m |\n"
     ]
    },
    {
     "name": "stderr",
     "output_type": "stream",
     "text": [
      "C:\\Users\\Milton\\Anaconda3\\lib\\site-packages\\bayes_opt\\util.py:117: RuntimeWarning: divide by zero encountered in true_divide\n",
      "  z = (mean - y_max - xi)/std\n"
     ]
    },
    {
     "name": "stdout",
     "output_type": "stream",
     "text": [
      "| \u001b[0m 251     \u001b[0m | \u001b[0m 0.7153  \u001b[0m | \u001b[0m 0.958   \u001b[0m | \u001b[0m 31.86   \u001b[0m | \u001b[0m 299.9   \u001b[0m | \u001b[0m 51.04   \u001b[0m | \u001b[0m 0.85    \u001b[0m |\n",
      "| \u001b[0m 252     \u001b[0m | \u001b[0m 0.7191  \u001b[0m | \u001b[0m 0.9959  \u001b[0m | \u001b[0m 31.8    \u001b[0m | \u001b[0m 12.08   \u001b[0m | \u001b[0m 60.38   \u001b[0m | \u001b[0m 0.7415  \u001b[0m |\n",
      "| \u001b[95m 253     \u001b[0m | \u001b[95m 0.7209  \u001b[0m | \u001b[95m 0.9562  \u001b[0m | \u001b[95m 31.8    \u001b[0m | \u001b[95m 48.5    \u001b[0m | \u001b[95m 50.16   \u001b[0m | \u001b[95m 0.9355  \u001b[0m |\n"
     ]
    },
    {
     "name": "stderr",
     "output_type": "stream",
     "text": [
      "C:\\Users\\Milton\\Anaconda3\\lib\\site-packages\\bayes_opt\\util.py:117: RuntimeWarning: divide by zero encountered in true_divide\n",
      "  z = (mean - y_max - xi)/std\n"
     ]
    },
    {
     "name": "stdout",
     "output_type": "stream",
     "text": [
      "| \u001b[0m 254     \u001b[0m | \u001b[0m 0.718   \u001b[0m | \u001b[0m 0.9836  \u001b[0m | \u001b[0m 31.42   \u001b[0m | \u001b[0m 114.6   \u001b[0m | \u001b[0m 96.95   \u001b[0m | \u001b[0m 0.9981  \u001b[0m |\n",
      "| \u001b[0m 255     \u001b[0m | \u001b[0m 0.7179  \u001b[0m | \u001b[0m 0.9975  \u001b[0m | \u001b[0m 31.08   \u001b[0m | \u001b[0m 38.71   \u001b[0m | \u001b[0m 74.98   \u001b[0m | \u001b[0m 0.9207  \u001b[0m |\n",
      "| \u001b[0m 256     \u001b[0m | \u001b[0m 0.7189  \u001b[0m | \u001b[0m 0.981   \u001b[0m | \u001b[0m 31.89   \u001b[0m | \u001b[0m 59.12   \u001b[0m | \u001b[0m 55.3    \u001b[0m | \u001b[0m 0.8708  \u001b[0m |\n",
      "| \u001b[0m 257     \u001b[0m | \u001b[0m 0.7181  \u001b[0m | \u001b[0m 0.9994  \u001b[0m | \u001b[0m 31.78   \u001b[0m | \u001b[0m 55.26   \u001b[0m | \u001b[0m 35.92   \u001b[0m | \u001b[0m 0.8972  \u001b[0m |\n",
      "| \u001b[0m 258     \u001b[0m | \u001b[0m 0.7162  \u001b[0m | \u001b[0m 0.9989  \u001b[0m | \u001b[0m 31.74   \u001b[0m | \u001b[0m 70.24   \u001b[0m | \u001b[0m 26.28   \u001b[0m | \u001b[0m 0.98    \u001b[0m |\n",
      "| \u001b[0m 259     \u001b[0m | \u001b[0m 0.7182  \u001b[0m | \u001b[0m 0.9888  \u001b[0m | \u001b[0m 31.97   \u001b[0m | \u001b[0m 25.45   \u001b[0m | \u001b[0m 98.96   \u001b[0m | \u001b[0m 0.8288  \u001b[0m |\n",
      "| \u001b[0m 260     \u001b[0m | \u001b[0m 0.7177  \u001b[0m | \u001b[0m 0.9631  \u001b[0m | \u001b[0m 31.37   \u001b[0m | \u001b[0m 96.95   \u001b[0m | \u001b[0m 98.81   \u001b[0m | \u001b[0m 0.9498  \u001b[0m |\n"
     ]
    },
    {
     "name": "stderr",
     "output_type": "stream",
     "text": [
      "C:\\Users\\Milton\\Anaconda3\\lib\\site-packages\\bayes_opt\\util.py:117: RuntimeWarning: divide by zero encountered in true_divide\n",
      "  z = (mean - y_max - xi)/std\n"
     ]
    },
    {
     "name": "stdout",
     "output_type": "stream",
     "text": [
      "| \u001b[0m 261     \u001b[0m | \u001b[0m 0.7173  \u001b[0m | \u001b[0m 0.9746  \u001b[0m | \u001b[0m 31.98   \u001b[0m | \u001b[0m 134.5   \u001b[0m | \u001b[0m 63.06   \u001b[0m | \u001b[0m 0.8788  \u001b[0m |\n",
      "| \u001b[0m 262     \u001b[0m | \u001b[0m 0.7179  \u001b[0m | \u001b[0m 0.9844  \u001b[0m | \u001b[0m 31.46   \u001b[0m | \u001b[0m 34.43   \u001b[0m | \u001b[0m 45.05   \u001b[0m | \u001b[0m 0.9705  \u001b[0m |\n"
     ]
    },
    {
     "name": "stderr",
     "output_type": "stream",
     "text": [
      "C:\\Users\\Milton\\Anaconda3\\lib\\site-packages\\bayes_opt\\util.py:117: RuntimeWarning: divide by zero encountered in true_divide\n",
      "  z = (mean - y_max - xi)/std\n"
     ]
    },
    {
     "name": "stdout",
     "output_type": "stream",
     "text": [
      "| \u001b[0m 263     \u001b[0m | \u001b[0m 0.7152  \u001b[0m | \u001b[0m 0.8956  \u001b[0m | \u001b[0m 31.89   \u001b[0m | \u001b[0m 239.6   \u001b[0m | \u001b[0m 99.27   \u001b[0m | \u001b[0m 0.9715  \u001b[0m |\n",
      "| \u001b[0m 264     \u001b[0m | \u001b[0m 0.7185  \u001b[0m | \u001b[0m 0.9989  \u001b[0m | \u001b[0m 31.84   \u001b[0m | \u001b[0m 30.96   \u001b[0m | \u001b[0m 73.11   \u001b[0m | \u001b[0m 0.5614  \u001b[0m |\n",
      "| \u001b[0m 265     \u001b[0m | \u001b[0m 0.7189  \u001b[0m | \u001b[0m 0.9524  \u001b[0m | \u001b[0m 31.41   \u001b[0m | \u001b[0m 12.71   \u001b[0m | \u001b[0m 99.51   \u001b[0m | \u001b[0m 0.5564  \u001b[0m |\n",
      "| \u001b[0m 266     \u001b[0m | \u001b[0m 0.7186  \u001b[0m | \u001b[0m 0.544   \u001b[0m | \u001b[0m 31.77   \u001b[0m | \u001b[0m 16.07   \u001b[0m | \u001b[0m 98.21   \u001b[0m | \u001b[0m 0.9559  \u001b[0m |\n",
      "| \u001b[0m 267     \u001b[0m | \u001b[0m 0.7189  \u001b[0m | \u001b[0m 0.9779  \u001b[0m | \u001b[0m 31.68   \u001b[0m | \u001b[0m 53.02   \u001b[0m | \u001b[0m 72.68   \u001b[0m | \u001b[0m 0.9346  \u001b[0m |\n",
      "| \u001b[0m 268     \u001b[0m | \u001b[0m 0.7204  \u001b[0m | \u001b[0m 0.9707  \u001b[0m | \u001b[0m 31.98   \u001b[0m | \u001b[0m 32.57   \u001b[0m | \u001b[0m 99.59   \u001b[0m | \u001b[0m 0.9036  \u001b[0m |\n",
      "| \u001b[0m 269     \u001b[0m | \u001b[0m 0.7183  \u001b[0m | \u001b[0m 0.9876  \u001b[0m | \u001b[0m 31.77   \u001b[0m | \u001b[0m 143.2   \u001b[0m | \u001b[0m 57.52   \u001b[0m | \u001b[0m 0.8143  \u001b[0m |\n",
      "| \u001b[0m 270     \u001b[0m | \u001b[0m 0.7189  \u001b[0m | \u001b[0m 0.9793  \u001b[0m | \u001b[0m 31.9    \u001b[0m | \u001b[0m 41.28   \u001b[0m | \u001b[0m 85.97   \u001b[0m | \u001b[0m 0.5183  \u001b[0m |\n",
      "| \u001b[0m 271     \u001b[0m | \u001b[0m 0.7178  \u001b[0m | \u001b[0m 0.9904  \u001b[0m | \u001b[0m 31.5    \u001b[0m | \u001b[0m 51.79   \u001b[0m | \u001b[0m 49.22   \u001b[0m | \u001b[0m 0.5137  \u001b[0m |\n",
      "| \u001b[0m 272     \u001b[0m | \u001b[0m 0.7148  \u001b[0m | \u001b[0m 0.9747  \u001b[0m | \u001b[0m 31.57   \u001b[0m | \u001b[0m 299.0   \u001b[0m | \u001b[0m 99.87   \u001b[0m | \u001b[0m 0.888   \u001b[0m |\n",
      "| \u001b[0m 273     \u001b[0m | \u001b[0m 0.7178  \u001b[0m | \u001b[0m 0.9841  \u001b[0m | \u001b[0m 31.6    \u001b[0m | \u001b[0m 59.73   \u001b[0m | \u001b[0m 69.19   \u001b[0m | \u001b[0m 0.986   \u001b[0m |\n",
      "| \u001b[0m 274     \u001b[0m | \u001b[0m 0.7194  \u001b[0m | \u001b[0m 0.9787  \u001b[0m | \u001b[0m 31.79   \u001b[0m | \u001b[0m 58.04   \u001b[0m | \u001b[0m 77.15   \u001b[0m | \u001b[0m 0.5093  \u001b[0m |\n",
      "| \u001b[0m 275     \u001b[0m | \u001b[0m 0.7202  \u001b[0m | \u001b[0m 0.5155  \u001b[0m | \u001b[0m 31.8    \u001b[0m | \u001b[0m 50.34   \u001b[0m | \u001b[0m 98.14   \u001b[0m | \u001b[0m 0.5062  \u001b[0m |\n",
      "| \u001b[0m 276     \u001b[0m | \u001b[0m 0.718   \u001b[0m | \u001b[0m 0.8687  \u001b[0m | \u001b[0m 31.81   \u001b[0m | \u001b[0m 15.12   \u001b[0m | \u001b[0m 99.7    \u001b[0m | \u001b[0m 0.5133  \u001b[0m |\n",
      "| \u001b[0m 277     \u001b[0m | \u001b[0m 0.7165  \u001b[0m | \u001b[0m 0.5303  \u001b[0m | \u001b[0m 31.98   \u001b[0m | \u001b[0m 90.72   \u001b[0m | \u001b[0m 82.69   \u001b[0m | \u001b[0m 0.9158  \u001b[0m |\n",
      "| \u001b[0m 278     \u001b[0m | \u001b[0m 0.7157  \u001b[0m | \u001b[0m 0.9611  \u001b[0m | \u001b[0m 31.45   \u001b[0m | \u001b[0m 12.68   \u001b[0m | \u001b[0m 55.15   \u001b[0m | \u001b[0m 0.5072  \u001b[0m |\n",
      "| \u001b[0m 279     \u001b[0m | \u001b[0m 0.7169  \u001b[0m | \u001b[0m 0.9453  \u001b[0m | \u001b[0m 31.69   \u001b[0m | \u001b[0m 55.1    \u001b[0m | \u001b[0m 43.27   \u001b[0m | \u001b[0m 0.5851  \u001b[0m |\n",
      "| \u001b[0m 280     \u001b[0m | \u001b[0m 0.7196  \u001b[0m | \u001b[0m 0.9517  \u001b[0m | \u001b[0m 31.72   \u001b[0m | \u001b[0m 25.76   \u001b[0m | \u001b[0m 83.31   \u001b[0m | \u001b[0m 0.8312  \u001b[0m |\n",
      "| \u001b[0m 281     \u001b[0m | \u001b[0m 0.719   \u001b[0m | \u001b[0m 0.9955  \u001b[0m | \u001b[0m 31.63   \u001b[0m | \u001b[0m 16.45   \u001b[0m | \u001b[0m 98.34   \u001b[0m | \u001b[0m 0.8873  \u001b[0m |\n",
      "| \u001b[0m 282     \u001b[0m | \u001b[0m 0.7191  \u001b[0m | \u001b[0m 0.9643  \u001b[0m | \u001b[0m 31.43   \u001b[0m | \u001b[0m 45.45   \u001b[0m | \u001b[0m 75.61   \u001b[0m | \u001b[0m 0.9161  \u001b[0m |\n"
     ]
    },
    {
     "name": "stderr",
     "output_type": "stream",
     "text": [
      "C:\\Users\\Milton\\Anaconda3\\lib\\site-packages\\bayes_opt\\util.py:117: RuntimeWarning: divide by zero encountered in true_divide\n",
      "  z = (mean - y_max - xi)/std\n"
     ]
    },
    {
     "name": "stdout",
     "output_type": "stream",
     "text": [
      "| \u001b[0m 283     \u001b[0m | \u001b[0m 0.7107  \u001b[0m | \u001b[0m 0.9699  \u001b[0m | \u001b[0m 31.37   \u001b[0m | \u001b[0m 299.2   \u001b[0m | \u001b[0m 7.657   \u001b[0m | \u001b[0m 0.63    \u001b[0m |\n",
      "| \u001b[0m 284     \u001b[0m | \u001b[0m 0.7194  \u001b[0m | \u001b[0m 0.9668  \u001b[0m | \u001b[0m 31.99   \u001b[0m | \u001b[0m 31.59   \u001b[0m | \u001b[0m 98.79   \u001b[0m | \u001b[0m 0.9616  \u001b[0m |\n",
      "| \u001b[0m 285     \u001b[0m | \u001b[0m 0.7188  \u001b[0m | \u001b[0m 0.9961  \u001b[0m | \u001b[0m 31.99   \u001b[0m | \u001b[0m 89.57   \u001b[0m | \u001b[0m 51.64   \u001b[0m | \u001b[0m 0.5831  \u001b[0m |\n",
      "| \u001b[0m 286     \u001b[0m | \u001b[0m 0.7189  \u001b[0m | \u001b[0m 0.9536  \u001b[0m | \u001b[0m 31.98   \u001b[0m | \u001b[0m 133.8   \u001b[0m | \u001b[0m 63.02   \u001b[0m | \u001b[0m 0.5671  \u001b[0m |\n",
      "| \u001b[0m 287     \u001b[0m | \u001b[0m 0.7183  \u001b[0m | \u001b[0m 0.9408  \u001b[0m | \u001b[0m 31.9    \u001b[0m | \u001b[0m 65.86   \u001b[0m | \u001b[0m 95.47   \u001b[0m | \u001b[0m 0.5399  \u001b[0m |\n"
     ]
    },
    {
     "name": "stderr",
     "output_type": "stream",
     "text": [
      "C:\\Users\\Milton\\Anaconda3\\lib\\site-packages\\bayes_opt\\util.py:117: RuntimeWarning: divide by zero encountered in true_divide\n",
      "  z = (mean - y_max - xi)/std\n"
     ]
    },
    {
     "name": "stdout",
     "output_type": "stream",
     "text": [
      "| \u001b[0m 288     \u001b[0m | \u001b[0m 0.717   \u001b[0m | \u001b[0m 0.9631  \u001b[0m | \u001b[0m 31.53   \u001b[0m | \u001b[0m 116.9   \u001b[0m | \u001b[0m 38.09   \u001b[0m | \u001b[0m 0.9263  \u001b[0m |\n",
      "| \u001b[0m 289     \u001b[0m | \u001b[0m 0.717   \u001b[0m | \u001b[0m 0.508   \u001b[0m | \u001b[0m 31.58   \u001b[0m | \u001b[0m 150.2   \u001b[0m | \u001b[0m 68.39   \u001b[0m | \u001b[0m 0.5154  \u001b[0m |\n",
      "| \u001b[0m 290     \u001b[0m | \u001b[0m 0.7183  \u001b[0m | \u001b[0m 0.5976  \u001b[0m | \u001b[0m 31.99   \u001b[0m | \u001b[0m 41.1    \u001b[0m | \u001b[0m 99.31   \u001b[0m | \u001b[0m 0.6745  \u001b[0m |\n",
      "| \u001b[0m 291     \u001b[0m | \u001b[0m 0.7173  \u001b[0m | \u001b[0m 0.9893  \u001b[0m | \u001b[0m 31.75   \u001b[0m | \u001b[0m 185.4   \u001b[0m | \u001b[0m 53.39   \u001b[0m | \u001b[0m 0.5495  \u001b[0m |\n"
     ]
    },
    {
     "name": "stderr",
     "output_type": "stream",
     "text": [
      "C:\\Users\\Milton\\Anaconda3\\lib\\site-packages\\bayes_opt\\util.py:117: RuntimeWarning: divide by zero encountered in true_divide\n",
      "  z = (mean - y_max - xi)/std\n"
     ]
    },
    {
     "name": "stdout",
     "output_type": "stream",
     "text": [
      "| \u001b[0m 292     \u001b[0m | \u001b[0m 0.7121  \u001b[0m | \u001b[0m 0.9676  \u001b[0m | \u001b[0m 31.86   \u001b[0m | \u001b[0m 86.97   \u001b[0m | \u001b[0m 7.277   \u001b[0m | \u001b[0m 0.8732  \u001b[0m |\n",
      "| \u001b[0m 293     \u001b[0m | \u001b[0m 0.7186  \u001b[0m | \u001b[0m 0.9863  \u001b[0m | \u001b[0m 31.59   \u001b[0m | \u001b[0m 51.05   \u001b[0m | \u001b[0m 78.71   \u001b[0m | \u001b[0m 0.9788  \u001b[0m |\n",
      "| \u001b[0m 294     \u001b[0m | \u001b[0m 0.7184  \u001b[0m | \u001b[0m 0.9859  \u001b[0m | \u001b[0m 31.79   \u001b[0m | \u001b[0m 33.14   \u001b[0m | \u001b[0m 84.51   \u001b[0m | \u001b[0m 0.7668  \u001b[0m |\n",
      "| \u001b[0m 295     \u001b[0m | \u001b[0m 0.7175  \u001b[0m | \u001b[0m 0.9891  \u001b[0m | \u001b[0m 31.99   \u001b[0m | \u001b[0m 125.1   \u001b[0m | \u001b[0m 69.07   \u001b[0m | \u001b[0m 0.9329  \u001b[0m |\n"
     ]
    },
    {
     "name": "stderr",
     "output_type": "stream",
     "text": [
      "C:\\Users\\Milton\\Anaconda3\\lib\\site-packages\\bayes_opt\\util.py:117: RuntimeWarning: divide by zero encountered in true_divide\n",
      "  z = (mean - y_max - xi)/std\n",
      "C:\\Users\\Milton\\Anaconda3\\lib\\site-packages\\bayes_opt\\util.py:117: RuntimeWarning: divide by zero encountered in true_divide\n",
      "  z = (mean - y_max - xi)/std\n"
     ]
    },
    {
     "name": "stdout",
     "output_type": "stream",
     "text": [
      "| \u001b[0m 296     \u001b[0m | \u001b[0m 0.7105  \u001b[0m | \u001b[0m 0.9987  \u001b[0m | \u001b[0m 4.228   \u001b[0m | \u001b[0m 217.0   \u001b[0m | \u001b[0m 64.24   \u001b[0m | \u001b[0m 0.5073  \u001b[0m |\n"
     ]
    },
    {
     "name": "stderr",
     "output_type": "stream",
     "text": [
      "C:\\Users\\Milton\\Anaconda3\\lib\\site-packages\\bayes_opt\\util.py:117: RuntimeWarning: divide by zero encountered in true_divide\n",
      "  z = (mean - y_max - xi)/std\n"
     ]
    },
    {
     "name": "stdout",
     "output_type": "stream",
     "text": [
      "| \u001b[0m 297     \u001b[0m | \u001b[0m 0.7169  \u001b[0m | \u001b[0m 0.9805  \u001b[0m | \u001b[0m 31.83   \u001b[0m | \u001b[0m 152.3   \u001b[0m | \u001b[0m 38.44   \u001b[0m | \u001b[0m 0.9209  \u001b[0m |\n",
      "| \u001b[0m 298     \u001b[0m | \u001b[0m 0.7181  \u001b[0m | \u001b[0m 0.9746  \u001b[0m | \u001b[0m 31.74   \u001b[0m | \u001b[0m 51.55   \u001b[0m | \u001b[0m 76.03   \u001b[0m | \u001b[0m 0.9487  \u001b[0m |\n",
      "| \u001b[0m 299     \u001b[0m | \u001b[0m 0.7187  \u001b[0m | \u001b[0m 0.988   \u001b[0m | \u001b[0m 31.94   \u001b[0m | \u001b[0m 120.6   \u001b[0m | \u001b[0m 91.9    \u001b[0m | \u001b[0m 0.54    \u001b[0m |\n",
      "| \u001b[0m 300     \u001b[0m | \u001b[0m 0.7182  \u001b[0m | \u001b[0m 0.9447  \u001b[0m | \u001b[0m 31.81   \u001b[0m | \u001b[0m 12.82   \u001b[0m | \u001b[0m 81.99   \u001b[0m | \u001b[0m 0.545   \u001b[0m |\n",
      "| \u001b[0m 301     \u001b[0m | \u001b[0m 0.7187  \u001b[0m | \u001b[0m 0.5919  \u001b[0m | \u001b[0m 31.98   \u001b[0m | \u001b[0m 80.99   \u001b[0m | \u001b[0m 71.43   \u001b[0m | \u001b[0m 0.5191  \u001b[0m |\n",
      "| \u001b[0m 302     \u001b[0m | \u001b[0m 0.7192  \u001b[0m | \u001b[0m 0.9456  \u001b[0m | \u001b[0m 31.6    \u001b[0m | \u001b[0m 33.86   \u001b[0m | \u001b[0m 88.27   \u001b[0m | \u001b[0m 0.9809  \u001b[0m |\n",
      "=====================================================================================\n"
     ]
    }
   ],
   "source": [
    "BO = BayesianOptimization(lgb_optimization, parameters, verbose=10)\n",
    "BO.maximize(init_points=2, n_iter=300, acq='ei')"
   ]
  },
  {
   "cell_type": "code",
   "execution_count": 13,
   "metadata": {},
   "outputs": [
    {
     "data": {
      "text/plain": [
       "{'target': 0.7208895247967847,\n",
       " 'params': {'colsample_bytree': 0.9562040219097038,\n",
       "  'max_depth': 31.797316264508694,\n",
       "  'min_child_samples': 48.49680214226089,\n",
       "  'num_leaves': 50.15919162591018,\n",
       "  'subsample': 0.9355391915436526}}"
      ]
     },
     "execution_count": 13,
     "metadata": {},
     "output_type": "execute_result"
    }
   ],
   "source": [
    "BO.max"
   ]
  },
  {
   "cell_type": "markdown",
   "metadata": {},
   "source": [
    "### Carregar modelo com os melhores parâmetros"
   ]
  },
  {
   "cell_type": "code",
   "execution_count": 100,
   "metadata": {},
   "outputs": [],
   "source": [
    "best_params = BO.max['params']\n",
    "colsample_bytree = best_params['colsample_bytree']\n",
    "subsample = best_params['subsample']\n",
    "max_depth = int(best_params['max_depth'])\n",
    "num_leaves = int(best_params['num_leaves'])\n",
    "scale_pos_weight = scale_pos_weight\n",
    "model = lgb.LGBMClassifier(colsample_bytree=colsample_bytree, subsample=subsample, \n",
    "                           max_depth=max_depth, num_leaves=num_leaves, scale_pos_weight=scale_pos_weight)"
   ]
  },
  {
   "cell_type": "code",
   "execution_count": 101,
   "metadata": {},
   "outputs": [
    {
     "data": {
      "text/plain": [
       "LGBMClassifier(boosting_type='gbdt', class_weight=None,\n",
       "        colsample_bytree=0.9562040219097038, importance_type='split',\n",
       "        learning_rate=0.1, max_depth=31, min_child_samples=20,\n",
       "        min_child_weight=0.001, min_split_gain=0.0, n_estimators=100,\n",
       "        n_jobs=-1, num_leaves=50, objective=None, random_state=None,\n",
       "        reg_alpha=0.0, reg_lambda=0.0, scale_pos_weight=1.2282377081524742,\n",
       "        silent=True, subsample=0.9355391915436526,\n",
       "        subsample_for_bin=200000, subsample_freq=0)"
      ]
     },
     "execution_count": 101,
     "metadata": {},
     "output_type": "execute_result"
    }
   ],
   "source": [
    "model.fit(X_train, y_train)"
   ]
  },
  {
   "cell_type": "code",
   "execution_count": 102,
   "metadata": {},
   "outputs": [
    {
     "name": "stdout",
     "output_type": "stream",
     "text": [
      "Acurácia: 0.662558436039099\n",
      "AUC ROC: 0.661861707103714\n"
     ]
    }
   ],
   "source": [
    "pred = model.predict(X_test)\n",
    "\n",
    "print('Acurácia:', accuracy_score(y_test, pred))\n",
    "print('AUC ROC:', roc_auc_score(y_test, pred))"
   ]
  },
  {
   "cell_type": "code",
   "execution_count": 103,
   "metadata": {},
   "outputs": [],
   "source": [
    "X_train, X_val, y_train, y_val = train_test_split(X_train, y_train, test_size=0.15, random_state=42)"
   ]
  },
  {
   "cell_type": "code",
   "execution_count": 104,
   "metadata": {},
   "outputs": [],
   "source": [
    "eval_set = [(X_val, y_val)]"
   ]
  },
  {
   "cell_type": "code",
   "execution_count": 105,
   "metadata": {},
   "outputs": [
    {
     "data": {
      "text/plain": [
       "LGBMClassifier(boosting_type='gbdt', class_weight=None,\n",
       "        colsample_bytree=0.9562040219097038, importance_type='split',\n",
       "        learning_rate=0.1, max_depth=31, min_child_samples=20,\n",
       "        min_child_weight=0.001, min_split_gain=0.0, n_estimators=100,\n",
       "        n_jobs=-1, num_leaves=50, objective=None, random_state=None,\n",
       "        reg_alpha=0.0, reg_lambda=0.0, scale_pos_weight=1.2282377081524742,\n",
       "        silent=True, subsample=0.9355391915436526,\n",
       "        subsample_for_bin=200000, subsample_freq=0)"
      ]
     },
     "execution_count": 105,
     "metadata": {},
     "output_type": "execute_result"
    }
   ],
   "source": [
    "model.fit(X_train, y_train, eval_set=eval_set, early_stopping_rounds=50, eval_metric='auc', verbose=False)"
   ]
  },
  {
   "cell_type": "code",
   "execution_count": 106,
   "metadata": {},
   "outputs": [
    {
     "name": "stdout",
     "output_type": "stream",
     "text": [
      "Acurácia: 0.66755206119847\n",
      "AUC ROC: 0.6666623356563961\n"
     ]
    }
   ],
   "source": [
    "pred = model.predict(X_test)\n",
    "\n",
    "print('Acurácia:', accuracy_score(y_test, pred))\n",
    "print('AUC ROC:', roc_auc_score(y_test, pred))"
   ]
  },
  {
   "cell_type": "code",
   "execution_count": 109,
   "metadata": {},
   "outputs": [
    {
     "name": "stdout",
     "output_type": "stream",
     "text": [
      "              precision    recall  f1-score   support\n",
      "\n",
      "           0       0.71      0.68      0.69      5166\n",
      "           1       0.63      0.66      0.64      4246\n",
      "\n",
      "   micro avg       0.67      0.67      0.67      9412\n",
      "   macro avg       0.67      0.67      0.67      9412\n",
      "weighted avg       0.67      0.67      0.67      9412\n",
      "\n"
     ]
    }
   ],
   "source": [
    "print(classification_report(y_test, pred))"
   ]
  },
  {
   "cell_type": "code",
   "execution_count": 107,
   "metadata": {},
   "outputs": [
    {
     "data": {
      "text/plain": [
       "<matplotlib.axes._subplots.AxesSubplot at 0x21302a0f780>"
      ]
     },
     "execution_count": 107,
     "metadata": {},
     "output_type": "execute_result"
    },
    {
     "data": {
      "image/png": "[encoded data removed]",
      "text/plain": [
       "<Figure size 1080x864 with 1 Axes>"
      ]
     },
     "metadata": {
      "needs_background": "light"
     },
     "output_type": "display_data"
    }
   ],
   "source": [
    "fig, ax = plt.subplots(figsize=(15,12))\n",
    "lgb.plot_importance(model, height=0.5, ax=ax, grid=False)\n",
    "plt.savefig('feature_importance_lgbm.png')"
   ]
  }
 ],
 "metadata": {
  "kernelspec": {
   "display_name": "Python 3",
   "language": "python",
   "name": "python3"
  },
  "language_info": {
   "codemirror_mode": {
    "name": "ipython",
    "version": 3
   },
   "file_extension": ".py",
   "mimetype": "text/x-python",
   "name": "python",
   "nbconvert_exporter": "python",
   "pygments_lexer": "ipython3",
   "version": "3.7.3"
  }
 },
 "nbformat": 4,
 "nbformat_minor": 2
}
