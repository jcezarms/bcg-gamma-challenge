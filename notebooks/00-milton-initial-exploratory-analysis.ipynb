{
 "cells": [
  {
   "cell_type": "markdown",
   "metadata": {},
   "source": [
    "# Initial Data Understanding"
   ]
  },
  {
   "cell_type": "code",
   "execution_count": null,
   "metadata": {},
   "outputs": [],
   "source": []
  },
  {
   "cell_type": "markdown",
   "metadata": {},
   "source": [
    "## Loading Data and Libraries"
   ]
  },
  {
   "cell_type": "code",
   "execution_count": 2,
   "metadata": {},
   "outputs": [],
   "source": [
    "import unidecode\n",
    "import os\n",
    "import sys\n",
    "\n",
    "sys.path.append('../src/')\n",
    "\n",
    "import pandas as pd\n",
    "import numpy as np\n",
    "\n",
    "import seaborn as sns\n",
    "import matplotlib.pyplot as plt\n",
    "\n",
    "pd.set_option('display.max_columns', None)\n",
    "\n",
    "%matplotlib inline\n",
    "%load_ext autoreload\n",
    "%autoreload 2\n",
    "\n",
    "DATAPATH = '../data/'"
   ]
  },
  {
   "cell_type": "markdown",
   "metadata": {},
   "source": [
    "## Análise exploratória dos dados sobre Linfomas da APAC\n",
    "\n",
    "A análise a seguir será realizada tanto para base de **Quimioterapia** como **Radioterapia**. Antes de analisar os dados, uma conversão no nome das columas é realizada através de um dicionário para facilitar o entendimento."
   ]
  },
  {
   "cell_type": "code",
   "execution_count": 3,
   "metadata": {},
   "outputs": [],
   "source": [
    "linf_quim_filename = os.path.join(DATAPATH, 'raw', 'Linfomas Quimioterapia SIA-SUS.csv')\n",
    "linf_rad_filename = os.path.join(DATAPATH, 'raw', 'Linfomas Radioterapia SIA-SUS.csv')"
   ]
  },
  {
   "cell_type": "code",
   "execution_count": 4,
   "metadata": {},
   "outputs": [],
   "source": [
    "df_sus_linf_quim = pd.read_csv(linf_quim_filename, encoding='latin-1', sep=',', skiprows=0, low_memory=False, index_col=0)\n",
    "df_sus_linf_rad = pd.read_csv(linf_rad_filename, encoding='latin-1', sep=',', skiprows=0, low_memory=False, index_col=0)"
   ]
  },
  {
   "cell_type": "code",
   "execution_count": 5,
   "metadata": {},
   "outputs": [],
   "source": [
    "import constants\n",
    "\n",
    "df_sus_linf_quim.rename(columns=constants.LAYOUT_APAC, inplace=True)\n",
    "df_sus_linf_rad.rename(columns=constants.LAYOUT_APAC, inplace=True)"
   ]
  },
  {
   "cell_type": "markdown",
   "metadata": {},
   "source": [
    "### Amostra de Linfomas Quimioterapia"
   ]
  },
  {
   "cell_type": "code",
   "execution_count": 5,
   "metadata": {},
   "outputs": [
    {
     "name": "stdout",
     "output_type": "stream",
     "text": [
      "Shape: (316965, 63)\n"
     ]
    },
    {
     "data": {
      "text/html": [
       "<div>\n",
       "<style scoped>\n",
       "    .dataframe tbody tr th:only-of-type {\n",
       "        vertical-align: middle;\n",
       "    }\n",
       "\n",
       "    .dataframe tbody tr th {\n",
       "        vertical-align: top;\n",
       "    }\n",
       "\n",
       "    .dataframe thead th {\n",
       "        text-align: right;\n",
       "    }\n",
       "</style>\n",
       "<table border=\"1\" class=\"dataframe\">\n",
       "  <thead>\n",
       "    <tr style=\"text-align: right;\">\n",
       "      <th></th>\n",
       "      <th>dt_process</th>\n",
       "      <th>tp_gestao</th>\n",
       "      <th>cod_tp_gestao</th>\n",
       "      <th>cod_est_cnes</th>\n",
       "      <th>num_apac</th>\n",
       "      <th>dt_atend_paciente</th>\n",
       "      <th>proc_princ_apac</th>\n",
       "      <th>vl_tot_apac_aprov</th>\n",
       "      <th>cod_uf_mun</th>\n",
       "      <th>tp_est</th>\n",
       "      <th>tip_prest</th>\n",
       "      <th>est_man_ind</th>\n",
       "      <th>cnpj_est_exe</th>\n",
       "      <th>cnpj_mante</th>\n",
       "      <th>num_csn</th>\n",
       "      <th>cod_idade</th>\n",
       "      <th>num_idade</th>\n",
       "      <th>sexo</th>\n",
       "      <th>raca_cor</th>\n",
       "      <th>cod_uf_mun_paciente</th>\n",
       "      <th>nac_paciente</th>\n",
       "      <th>cep_paciente</th>\n",
       "      <th>uf_res_dif_paciente</th>\n",
       "      <th>mun_res_dif_paciente</th>\n",
       "      <th>dt_ini_val</th>\n",
       "      <th>dt_fim_val</th>\n",
       "      <th>tp_atend_apac</th>\n",
       "      <th>ind_apac</th>\n",
       "      <th>mot_sai_perm</th>\n",
       "      <th>ind_obito</th>\n",
       "      <th>ind_encerr</th>\n",
       "      <th>ind_perm</th>\n",
       "      <th>ind_alta</th>\n",
       "      <th>ind_transf</th>\n",
       "      <th>dt_ocorr</th>\n",
       "      <th>cod_org_emi</th>\n",
       "      <th>car_atend</th>\n",
       "      <th>num_apac_ant</th>\n",
       "      <th>cod_soli_cnes</th>\n",
       "      <th>dt_soli</th>\n",
       "      <th>dt_auto</th>\n",
       "      <th>cid_caus_assoc</th>\n",
       "      <th>cid_princ</th>\n",
       "      <th>cid_sec</th>\n",
       "      <th>etnia</th>\n",
       "      <th>aq_cid_10</th>\n",
       "      <th>aq_linfo_reg_inva</th>\n",
       "      <th>aq_estadi</th>\n",
       "      <th>aq_grahis</th>\n",
       "      <th>aq_dt_inden_pato</th>\n",
       "      <th>aq_trat_anter</th>\n",
       "      <th>aq_cidini1</th>\n",
       "      <th>aq_dt_ini_1_trat</th>\n",
       "      <th>aq_cidini2</th>\n",
       "      <th>aq_dt_ini_2_trat</th>\n",
       "      <th>aq_cidini3</th>\n",
       "      <th>aq_dt_ini_3_trat</th>\n",
       "      <th>aq_cont_trat</th>\n",
       "      <th>aq_dt_inic_trat_soli</th>\n",
       "      <th>aq_esqu_p1</th>\n",
       "      <th>aq_tot_mes_plan</th>\n",
       "      <th>aq_tot_mes_aut</th>\n",
       "      <th>aq_esu_p2</th>\n",
       "    </tr>\n",
       "  </thead>\n",
       "  <tbody>\n",
       "    <tr>\n",
       "      <th>4</th>\n",
       "      <td>201401</td>\n",
       "      <td>EP</td>\n",
       "      <td>120000</td>\n",
       "      <td>2001586</td>\n",
       "      <td>1213200185967</td>\n",
       "      <td>201401</td>\n",
       "      <td>304060011</td>\n",
       "      <td>1258.64</td>\n",
       "      <td>120040</td>\n",
       "      <td>5</td>\n",
       "      <td>40</td>\n",
       "      <td>I</td>\n",
       "      <td>6.360294e+13</td>\n",
       "      <td>NaN</td>\n",
       "      <td>{}{{}{{</td>\n",
       "      <td>4</td>\n",
       "      <td>20</td>\n",
       "      <td>M</td>\n",
       "      <td>3</td>\n",
       "      <td>120040</td>\n",
       "      <td>10</td>\n",
       "      <td>69900970</td>\n",
       "      <td>0</td>\n",
       "      <td>1</td>\n",
       "      <td>20131105</td>\n",
       "      <td>20140131</td>\n",
       "      <td>3</td>\n",
       "      <td>2</td>\n",
       "      <td>21</td>\n",
       "      <td>0</td>\n",
       "      <td>0</td>\n",
       "      <td>1</td>\n",
       "      <td>0</td>\n",
       "      <td>0</td>\n",
       "      <td>NaN</td>\n",
       "      <td>E120000001</td>\n",
       "      <td>1</td>\n",
       "      <td>0000000000000</td>\n",
       "      <td>2001586</td>\n",
       "      <td>20131105.0</td>\n",
       "      <td>20131105</td>\n",
       "      <td>0000</td>\n",
       "      <td>C81- Linfoma de Hodgkin</td>\n",
       "      <td>0000</td>\n",
       "      <td>NaN</td>\n",
       "      <td>NaN</td>\n",
       "      <td>3</td>\n",
       "      <td>3.0</td>\n",
       "      <td>99</td>\n",
       "      <td>20130519</td>\n",
       "      <td>0</td>\n",
       "      <td>NaN</td>\n",
       "      <td>NaN</td>\n",
       "      <td>NaN</td>\n",
       "      <td>NaN</td>\n",
       "      <td>NaN</td>\n",
       "      <td>NaN</td>\n",
       "      <td>S</td>\n",
       "      <td>20130819</td>\n",
       "      <td>ABVD</td>\n",
       "      <td>006</td>\n",
       "      <td>3</td>\n",
       "      <td>NaN</td>\n",
       "    </tr>\n",
       "    <tr>\n",
       "      <th>25</th>\n",
       "      <td>201401</td>\n",
       "      <td>EP</td>\n",
       "      <td>120000</td>\n",
       "      <td>2001586</td>\n",
       "      <td>1213200175561</td>\n",
       "      <td>201401</td>\n",
       "      <td>304060011</td>\n",
       "      <td>1258.64</td>\n",
       "      <td>120040</td>\n",
       "      <td>5</td>\n",
       "      <td>40</td>\n",
       "      <td>I</td>\n",
       "      <td>6.360294e+13</td>\n",
       "      <td>NaN</td>\n",
       "      <td>{{|{||</td>\n",
       "      <td>4</td>\n",
       "      <td>46</td>\n",
       "      <td>M</td>\n",
       "      <td>3</td>\n",
       "      <td>120040</td>\n",
       "      <td>10</td>\n",
       "      <td>69900970</td>\n",
       "      <td>0</td>\n",
       "      <td>1</td>\n",
       "      <td>20131105</td>\n",
       "      <td>20140131</td>\n",
       "      <td>3</td>\n",
       "      <td>2</td>\n",
       "      <td>21</td>\n",
       "      <td>0</td>\n",
       "      <td>0</td>\n",
       "      <td>1</td>\n",
       "      <td>0</td>\n",
       "      <td>0</td>\n",
       "      <td>NaN</td>\n",
       "      <td>E120000001</td>\n",
       "      <td>1</td>\n",
       "      <td>0000000000000</td>\n",
       "      <td>0000000</td>\n",
       "      <td>20131105.0</td>\n",
       "      <td>20131105</td>\n",
       "      <td>0000</td>\n",
       "      <td>C81- Linfoma de Hodgkin</td>\n",
       "      <td>0000</td>\n",
       "      <td>NaN</td>\n",
       "      <td>NaN</td>\n",
       "      <td>3</td>\n",
       "      <td>3.0</td>\n",
       "      <td>99</td>\n",
       "      <td>20050602</td>\n",
       "      <td>0</td>\n",
       "      <td>NaN</td>\n",
       "      <td>NaN</td>\n",
       "      <td>NaN</td>\n",
       "      <td>NaN</td>\n",
       "      <td>NaN</td>\n",
       "      <td>NaN</td>\n",
       "      <td>S</td>\n",
       "      <td>20130801</td>\n",
       "      <td>ABVD</td>\n",
       "      <td>006</td>\n",
       "      <td>3</td>\n",
       "      <td>NaN</td>\n",
       "    </tr>\n",
       "    <tr>\n",
       "      <th>27</th>\n",
       "      <td>201401</td>\n",
       "      <td>EP</td>\n",
       "      <td>120000</td>\n",
       "      <td>2001586</td>\n",
       "      <td>1213200175528</td>\n",
       "      <td>201401</td>\n",
       "      <td>304060011</td>\n",
       "      <td>1258.64</td>\n",
       "      <td>120040</td>\n",
       "      <td>5</td>\n",
       "      <td>40</td>\n",
       "      <td>I</td>\n",
       "      <td>6.360294e+13</td>\n",
       "      <td>NaN</td>\n",
       "      <td>{{{{|}{|}</td>\n",
       "      <td>4</td>\n",
       "      <td>20</td>\n",
       "      <td>M</td>\n",
       "      <td>3</td>\n",
       "      <td>120040</td>\n",
       "      <td>10</td>\n",
       "      <td>69900970</td>\n",
       "      <td>0</td>\n",
       "      <td>1</td>\n",
       "      <td>20131105</td>\n",
       "      <td>20140131</td>\n",
       "      <td>3</td>\n",
       "      <td>2</td>\n",
       "      <td>21</td>\n",
       "      <td>0</td>\n",
       "      <td>0</td>\n",
       "      <td>1</td>\n",
       "      <td>0</td>\n",
       "      <td>0</td>\n",
       "      <td>NaN</td>\n",
       "      <td>E120000001</td>\n",
       "      <td>1</td>\n",
       "      <td>0000000000000</td>\n",
       "      <td>0000000</td>\n",
       "      <td>20131105.0</td>\n",
       "      <td>20131105</td>\n",
       "      <td>0000</td>\n",
       "      <td>C81- Linfoma de Hodgkin</td>\n",
       "      <td>0000</td>\n",
       "      <td>NaN</td>\n",
       "      <td>NaN</td>\n",
       "      <td>3</td>\n",
       "      <td>3.0</td>\n",
       "      <td>99</td>\n",
       "      <td>20130519</td>\n",
       "      <td>0</td>\n",
       "      <td>NaN</td>\n",
       "      <td>NaN</td>\n",
       "      <td>NaN</td>\n",
       "      <td>NaN</td>\n",
       "      <td>NaN</td>\n",
       "      <td>NaN</td>\n",
       "      <td>S</td>\n",
       "      <td>20130819</td>\n",
       "      <td>ABVD</td>\n",
       "      <td>006</td>\n",
       "      <td>3</td>\n",
       "      <td>NaN</td>\n",
       "    </tr>\n",
       "    <tr>\n",
       "      <th>28</th>\n",
       "      <td>201401</td>\n",
       "      <td>EP</td>\n",
       "      <td>120000</td>\n",
       "      <td>2001586</td>\n",
       "      <td>1213200177266</td>\n",
       "      <td>201401</td>\n",
       "      <td>304060011</td>\n",
       "      <td>1258.64</td>\n",
       "      <td>120040</td>\n",
       "      <td>5</td>\n",
       "      <td>40</td>\n",
       "      <td>I</td>\n",
       "      <td>6.360294e+13</td>\n",
       "      <td>NaN</td>\n",
       "      <td>{{{{{}~}</td>\n",
       "      <td>4</td>\n",
       "      <td>61</td>\n",
       "      <td>M</td>\n",
       "      <td>3</td>\n",
       "      <td>120001</td>\n",
       "      <td>10</td>\n",
       "      <td>69945000</td>\n",
       "      <td>0</td>\n",
       "      <td>1</td>\n",
       "      <td>20131105</td>\n",
       "      <td>20140131</td>\n",
       "      <td>3</td>\n",
       "      <td>2</td>\n",
       "      <td>21</td>\n",
       "      <td>0</td>\n",
       "      <td>0</td>\n",
       "      <td>1</td>\n",
       "      <td>0</td>\n",
       "      <td>0</td>\n",
       "      <td>NaN</td>\n",
       "      <td>E120000001</td>\n",
       "      <td>1</td>\n",
       "      <td>0000000000000</td>\n",
       "      <td>0000000</td>\n",
       "      <td>20131105.0</td>\n",
       "      <td>20131105</td>\n",
       "      <td>0000</td>\n",
       "      <td>C81- Linfoma de Hodgkin</td>\n",
       "      <td>0000</td>\n",
       "      <td>NaN</td>\n",
       "      <td>NaN</td>\n",
       "      <td>3</td>\n",
       "      <td>3.0</td>\n",
       "      <td>99</td>\n",
       "      <td>20130919</td>\n",
       "      <td>0</td>\n",
       "      <td>NaN</td>\n",
       "      <td>NaN</td>\n",
       "      <td>NaN</td>\n",
       "      <td>NaN</td>\n",
       "      <td>NaN</td>\n",
       "      <td>NaN</td>\n",
       "      <td>N</td>\n",
       "      <td>20130809</td>\n",
       "      <td>VIMBL</td>\n",
       "      <td>006</td>\n",
       "      <td>3</td>\n",
       "      <td>AS+DAVARBA</td>\n",
       "    </tr>\n",
       "    <tr>\n",
       "      <th>32</th>\n",
       "      <td>201401</td>\n",
       "      <td>EP</td>\n",
       "      <td>120000</td>\n",
       "      <td>2001586</td>\n",
       "      <td>1213200186275</td>\n",
       "      <td>201401</td>\n",
       "      <td>304070017</td>\n",
       "      <td>1700.00</td>\n",
       "      <td>120040</td>\n",
       "      <td>5</td>\n",
       "      <td>40</td>\n",
       "      <td>I</td>\n",
       "      <td>6.360294e+13</td>\n",
       "      <td>NaN</td>\n",
       "      <td>{{{{{</td>\n",
       "      <td>4</td>\n",
       "      <td>18</td>\n",
       "      <td>F</td>\n",
       "      <td>3</td>\n",
       "      <td>120040</td>\n",
       "      <td>10</td>\n",
       "      <td>69900970</td>\n",
       "      <td>0</td>\n",
       "      <td>1</td>\n",
       "      <td>20131128</td>\n",
       "      <td>20140131</td>\n",
       "      <td>3</td>\n",
       "      <td>2</td>\n",
       "      <td>21</td>\n",
       "      <td>0</td>\n",
       "      <td>0</td>\n",
       "      <td>1</td>\n",
       "      <td>0</td>\n",
       "      <td>0</td>\n",
       "      <td>NaN</td>\n",
       "      <td>E120000001</td>\n",
       "      <td>1</td>\n",
       "      <td>0000000000000</td>\n",
       "      <td>2001586</td>\n",
       "      <td>20131128.0</td>\n",
       "      <td>20131128</td>\n",
       "      <td>0000</td>\n",
       "      <td>C81- Linfoma de Hodgkin</td>\n",
       "      <td>0000</td>\n",
       "      <td>NaN</td>\n",
       "      <td>NaN</td>\n",
       "      <td>3</td>\n",
       "      <td>2.0</td>\n",
       "      <td>99</td>\n",
       "      <td>20131031</td>\n",
       "      <td>0</td>\n",
       "      <td>NaN</td>\n",
       "      <td>NaN</td>\n",
       "      <td>NaN</td>\n",
       "      <td>NaN</td>\n",
       "      <td>NaN</td>\n",
       "      <td>NaN</td>\n",
       "      <td>N</td>\n",
       "      <td>20131128</td>\n",
       "      <td>ABVD</td>\n",
       "      <td>006</td>\n",
       "      <td>0</td>\n",
       "      <td>NaN</td>\n",
       "    </tr>\n",
       "  </tbody>\n",
       "</table>\n",
       "</div>"
      ],
      "text/plain": [
       "    dt_process tp_gestao  cod_tp_gestao  cod_est_cnes       num_apac  \\\n",
       "4       201401        EP         120000       2001586  1213200185967   \n",
       "25      201401        EP         120000       2001586  1213200175561   \n",
       "27      201401        EP         120000       2001586  1213200175528   \n",
       "28      201401        EP         120000       2001586  1213200177266   \n",
       "32      201401        EP         120000       2001586  1213200186275   \n",
       "\n",
       "    dt_atend_paciente  proc_princ_apac  vl_tot_apac_aprov  cod_uf_mun  tp_est  \\\n",
       "4              201401        304060011            1258.64      120040       5   \n",
       "25             201401        304060011            1258.64      120040       5   \n",
       "27             201401        304060011            1258.64      120040       5   \n",
       "28             201401        304060011            1258.64      120040       5   \n",
       "32             201401        304070017            1700.00      120040       5   \n",
       "\n",
       "    tip_prest est_man_ind  cnpj_est_exe  cnpj_mante          num_csn  \\\n",
       "4          40           I  6.360294e+13         NaN  {}{{}{{   \n",
       "25         40           I  6.360294e+13         NaN  {{|{||   \n",
       "27         40           I  6.360294e+13         NaN  {{{{|}{|}   \n",
       "28         40           I  6.360294e+13         NaN  {{{{{}~}   \n",
       "32         40           I  6.360294e+13         NaN  {{{{{   \n",
       "\n",
       "    cod_idade  num_idade sexo  raca_cor  cod_uf_mun_paciente  nac_paciente  \\\n",
       "4           4         20    M         3               120040            10   \n",
       "25          4         46    M         3               120040            10   \n",
       "27          4         20    M         3               120040            10   \n",
       "28          4         61    M         3               120001            10   \n",
       "32          4         18    F         3               120040            10   \n",
       "\n",
       "    cep_paciente  uf_res_dif_paciente  mun_res_dif_paciente  dt_ini_val  \\\n",
       "4       69900970                    0                     1    20131105   \n",
       "25      69900970                    0                     1    20131105   \n",
       "27      69900970                    0                     1    20131105   \n",
       "28      69945000                    0                     1    20131105   \n",
       "32      69900970                    0                     1    20131128   \n",
       "\n",
       "    dt_fim_val  tp_atend_apac  ind_apac  mot_sai_perm  ind_obito  ind_encerr  \\\n",
       "4     20140131              3         2            21          0           0   \n",
       "25    20140131              3         2            21          0           0   \n",
       "27    20140131              3         2            21          0           0   \n",
       "28    20140131              3         2            21          0           0   \n",
       "32    20140131              3         2            21          0           0   \n",
       "\n",
       "    ind_perm  ind_alta  ind_transf  dt_ocorr cod_org_emi  car_atend  \\\n",
       "4          1         0           0       NaN  E120000001          1   \n",
       "25         1         0           0       NaN  E120000001          1   \n",
       "27         1         0           0       NaN  E120000001          1   \n",
       "28         1         0           0       NaN  E120000001          1   \n",
       "32         1         0           0       NaN  E120000001          1   \n",
       "\n",
       "     num_apac_ant cod_soli_cnes     dt_soli   dt_auto cid_caus_assoc  \\\n",
       "4   0000000000000       2001586  20131105.0  20131105           0000   \n",
       "25  0000000000000       0000000  20131105.0  20131105           0000   \n",
       "27  0000000000000       0000000  20131105.0  20131105           0000   \n",
       "28  0000000000000       0000000  20131105.0  20131105           0000   \n",
       "32  0000000000000       2001586  20131128.0  20131128           0000   \n",
       "\n",
       "                  cid_princ cid_sec etnia aq_cid_10 aq_linfo_reg_inva  \\\n",
       "4   C81- Linfoma de Hodgkin    0000   NaN       NaN                 3   \n",
       "25  C81- Linfoma de Hodgkin    0000   NaN       NaN                 3   \n",
       "27  C81- Linfoma de Hodgkin    0000   NaN       NaN                 3   \n",
       "28  C81- Linfoma de Hodgkin    0000   NaN       NaN                 3   \n",
       "32  C81- Linfoma de Hodgkin    0000   NaN       NaN                 3   \n",
       "\n",
       "    aq_estadi aq_grahis  aq_dt_inden_pato aq_trat_anter aq_cidini1  \\\n",
       "4         3.0        99          20130519             0        NaN   \n",
       "25        3.0        99          20050602             0        NaN   \n",
       "27        3.0        99          20130519             0        NaN   \n",
       "28        3.0        99          20130919             0        NaN   \n",
       "32        2.0        99          20131031             0        NaN   \n",
       "\n",
       "    aq_dt_ini_1_trat aq_cidini2  aq_dt_ini_2_trat aq_cidini3  \\\n",
       "4                NaN        NaN               NaN        NaN   \n",
       "25               NaN        NaN               NaN        NaN   \n",
       "27               NaN        NaN               NaN        NaN   \n",
       "28               NaN        NaN               NaN        NaN   \n",
       "32               NaN        NaN               NaN        NaN   \n",
       "\n",
       "    aq_dt_ini_3_trat aq_cont_trat  aq_dt_inic_trat_soli aq_esqu_p1  \\\n",
       "4                NaN            S              20130819       ABVD   \n",
       "25               NaN            S              20130801       ABVD   \n",
       "27               NaN            S              20130819       ABVD   \n",
       "28               NaN            N              20130809      VIMBL   \n",
       "32               NaN            N              20131128       ABVD   \n",
       "\n",
       "   aq_tot_mes_plan  aq_tot_mes_aut   aq_esu_p2  \n",
       "4              006               3         NaN  \n",
       "25             006               3         NaN  \n",
       "27             006               3         NaN  \n",
       "28             006               3  AS+DAVARBA  \n",
       "32             006               0         NaN  "
      ]
     },
     "execution_count": 5,
     "metadata": {},
     "output_type": "execute_result"
    }
   ],
   "source": [
    "## Linfomas Quimioterapia\n",
    "print('Shape:', df_sus_linf_quim.shape)\n",
    "df_sus_linf_quim.head()"
   ]
  },
  {
   "cell_type": "markdown",
   "metadata": {},
   "source": [
    "### Amostra de Linfomas Radioterapia"
   ]
  },
  {
   "cell_type": "code",
   "execution_count": 6,
   "metadata": {},
   "outputs": [
    {
     "name": "stdout",
     "output_type": "stream",
     "text": [
      "Shape: (19920, 73)\n"
     ]
    },
    {
     "data": {
      "text/html": [
       "<div>\n",
       "<style scoped>\n",
       "    .dataframe tbody tr th:only-of-type {\n",
       "        vertical-align: middle;\n",
       "    }\n",
       "\n",
       "    .dataframe tbody tr th {\n",
       "        vertical-align: top;\n",
       "    }\n",
       "\n",
       "    .dataframe thead th {\n",
       "        text-align: right;\n",
       "    }\n",
       "</style>\n",
       "<table border=\"1\" class=\"dataframe\">\n",
       "  <thead>\n",
       "    <tr style=\"text-align: right;\">\n",
       "      <th></th>\n",
       "      <th>dt_process</th>\n",
       "      <th>tp_gestao</th>\n",
       "      <th>cod_tp_gestao</th>\n",
       "      <th>cod_est_cnes</th>\n",
       "      <th>num_apac</th>\n",
       "      <th>dt_atend_paciente</th>\n",
       "      <th>proc_princ_apac</th>\n",
       "      <th>vl_tot_apac_aprov</th>\n",
       "      <th>cod_uf_mun</th>\n",
       "      <th>tp_est</th>\n",
       "      <th>tip_prest</th>\n",
       "      <th>est_man_ind</th>\n",
       "      <th>cnpj_est_exe</th>\n",
       "      <th>cnpj_mante</th>\n",
       "      <th>num_csn</th>\n",
       "      <th>cod_idade</th>\n",
       "      <th>num_idade</th>\n",
       "      <th>sexo</th>\n",
       "      <th>raca_cor</th>\n",
       "      <th>cod_uf_mun_paciente</th>\n",
       "      <th>nac_paciente</th>\n",
       "      <th>cep_paciente</th>\n",
       "      <th>uf_res_dif_paciente</th>\n",
       "      <th>mun_res_dif_paciente</th>\n",
       "      <th>dt_ini_val</th>\n",
       "      <th>dt_fim_val</th>\n",
       "      <th>tp_atend_apac</th>\n",
       "      <th>ind_apac</th>\n",
       "      <th>mot_sai_perm</th>\n",
       "      <th>ind_obito</th>\n",
       "      <th>ind_encerr</th>\n",
       "      <th>ind_perm</th>\n",
       "      <th>ind_alta</th>\n",
       "      <th>ind_transf</th>\n",
       "      <th>dt_ocorr</th>\n",
       "      <th>cod_org_emi</th>\n",
       "      <th>car_atend</th>\n",
       "      <th>num_apac_ant</th>\n",
       "      <th>cod_soli_cnes</th>\n",
       "      <th>dt_soli</th>\n",
       "      <th>dt_auto</th>\n",
       "      <th>cid_caus_assoc</th>\n",
       "      <th>cid_princ</th>\n",
       "      <th>cid_sec</th>\n",
       "      <th>etnia</th>\n",
       "      <th>ar_smrd</th>\n",
       "      <th>ar_cid_10</th>\n",
       "      <th>ar_linfo_reg_inva</th>\n",
       "      <th>ar_estadi</th>\n",
       "      <th>ar_grahis</th>\n",
       "      <th>ar_dt_inden_pato</th>\n",
       "      <th>ar_trat_anter</th>\n",
       "      <th>ar_cidini1</th>\n",
       "      <th>ar_dt_ini_1_trat</th>\n",
       "      <th>ar_cidini2</th>\n",
       "      <th>ar_dt_ini_2_trat</th>\n",
       "      <th>ar_cidini3</th>\n",
       "      <th>ar_dt_ini_3_trat</th>\n",
       "      <th>ar_cont_trat</th>\n",
       "      <th>ar_dt_inic_trat_soli</th>\n",
       "      <th>ar_finalid_trat</th>\n",
       "      <th>ar_cid_topo_1</th>\n",
       "      <th>ar_cid_topo_2</th>\n",
       "      <th>ar_cid_topo_3</th>\n",
       "      <th>ar_num_ins_1</th>\n",
       "      <th>ar_dt_ini_1</th>\n",
       "      <th>ar_dt_ini_2</th>\n",
       "      <th>ar_dt_ini_3</th>\n",
       "      <th>ar_dt_fim_1</th>\n",
       "      <th>ar_dt_fim_2</th>\n",
       "      <th>ar_dt_fim_3</th>\n",
       "      <th>ar_num_ins_2</th>\n",
       "      <th>ar_num_ins_3</th>\n",
       "    </tr>\n",
       "  </thead>\n",
       "  <tbody>\n",
       "    <tr>\n",
       "      <th>8</th>\n",
       "      <td>201401</td>\n",
       "      <td>EP</td>\n",
       "      <td>120000</td>\n",
       "      <td>2001586</td>\n",
       "      <td>1214200029119</td>\n",
       "      <td>201401</td>\n",
       "      <td>304010090</td>\n",
       "      <td>614</td>\n",
       "      <td>120040</td>\n",
       "      <td>5</td>\n",
       "      <td>40</td>\n",
       "      <td>I</td>\n",
       "      <td>63602940000170</td>\n",
       "      <td>NaN</td>\n",
       "      <td>{{~</td>\n",
       "      <td>4</td>\n",
       "      <td>8</td>\n",
       "      <td>M</td>\n",
       "      <td>3</td>\n",
       "      <td>120050</td>\n",
       "      <td>10</td>\n",
       "      <td>69940000</td>\n",
       "      <td>0</td>\n",
       "      <td>1</td>\n",
       "      <td>20140123</td>\n",
       "      <td>20140228</td>\n",
       "      <td>4</td>\n",
       "      <td>1</td>\n",
       "      <td>21</td>\n",
       "      <td>0</td>\n",
       "      <td>0</td>\n",
       "      <td>1</td>\n",
       "      <td>0</td>\n",
       "      <td>0</td>\n",
       "      <td>NaN</td>\n",
       "      <td>E120000001</td>\n",
       "      <td>1</td>\n",
       "      <td>0.0</td>\n",
       "      <td>2001586.0</td>\n",
       "      <td>20140123.0</td>\n",
       "      <td>20140123.0</td>\n",
       "      <td>0000</td>\n",
       "      <td>C81- Linfoma de Hodgkin</td>\n",
       "      <td>0000</td>\n",
       "      <td>NaN</td>\n",
       "      <td>NaN</td>\n",
       "      <td>NaN</td>\n",
       "      <td>S</td>\n",
       "      <td>2.0</td>\n",
       "      <td>99</td>\n",
       "      <td>20130619</td>\n",
       "      <td>NaN</td>\n",
       "      <td>NaN</td>\n",
       "      <td>NaN</td>\n",
       "      <td>NaN</td>\n",
       "      <td>NaN</td>\n",
       "      <td>NaN</td>\n",
       "      <td>NaN</td>\n",
       "      <td>N</td>\n",
       "      <td>20130127</td>\n",
       "      <td>2</td>\n",
       "      <td>C811</td>\n",
       "      <td>NaN</td>\n",
       "      <td>NaN</td>\n",
       "      <td>34.0</td>\n",
       "      <td>20130127.0</td>\n",
       "      <td>NaN</td>\n",
       "      <td>NaN</td>\n",
       "      <td>20140228.0</td>\n",
       "      <td>NaN</td>\n",
       "      <td>NaN</td>\n",
       "      <td>NaN</td>\n",
       "      <td>NaN</td>\n",
       "    </tr>\n",
       "    <tr>\n",
       "      <th>14</th>\n",
       "      <td>201402</td>\n",
       "      <td>EP</td>\n",
       "      <td>120000</td>\n",
       "      <td>2001586</td>\n",
       "      <td>1214200045201</td>\n",
       "      <td>201402</td>\n",
       "      <td>304010090</td>\n",
       "      <td>2098</td>\n",
       "      <td>120040</td>\n",
       "      <td>5</td>\n",
       "      <td>40</td>\n",
       "      <td>I</td>\n",
       "      <td>63602940000170</td>\n",
       "      <td>NaN</td>\n",
       "      <td>{{}~~{}</td>\n",
       "      <td>4</td>\n",
       "      <td>75</td>\n",
       "      <td>M</td>\n",
       "      <td>3</td>\n",
       "      <td>120040</td>\n",
       "      <td>10</td>\n",
       "      <td>69900970</td>\n",
       "      <td>0</td>\n",
       "      <td>1</td>\n",
       "      <td>20140212</td>\n",
       "      <td>20140430</td>\n",
       "      <td>4</td>\n",
       "      <td>1</td>\n",
       "      <td>21</td>\n",
       "      <td>0</td>\n",
       "      <td>0</td>\n",
       "      <td>1</td>\n",
       "      <td>0</td>\n",
       "      <td>0</td>\n",
       "      <td>NaN</td>\n",
       "      <td>E120000001</td>\n",
       "      <td>1</td>\n",
       "      <td>0.0</td>\n",
       "      <td>2001586.0</td>\n",
       "      <td>20140212.0</td>\n",
       "      <td>20140212.0</td>\n",
       "      <td>0000</td>\n",
       "      <td>C81- Linfoma de Hodgkin</td>\n",
       "      <td>0000</td>\n",
       "      <td>NaN</td>\n",
       "      <td>NaN</td>\n",
       "      <td>NaN</td>\n",
       "      <td>N</td>\n",
       "      <td>2.0</td>\n",
       "      <td>99</td>\n",
       "      <td>20131016</td>\n",
       "      <td>NaN</td>\n",
       "      <td>NaN</td>\n",
       "      <td>NaN</td>\n",
       "      <td>NaN</td>\n",
       "      <td>NaN</td>\n",
       "      <td>NaN</td>\n",
       "      <td>NaN</td>\n",
       "      <td>N</td>\n",
       "      <td>20140212</td>\n",
       "      <td>1</td>\n",
       "      <td>C61</td>\n",
       "      <td>NaN</td>\n",
       "      <td>NaN</td>\n",
       "      <td>144.0</td>\n",
       "      <td>20140212.0</td>\n",
       "      <td>NaN</td>\n",
       "      <td>NaN</td>\n",
       "      <td>20140430.0</td>\n",
       "      <td>NaN</td>\n",
       "      <td>NaN</td>\n",
       "      <td>NaN</td>\n",
       "      <td>NaN</td>\n",
       "    </tr>\n",
       "    <tr>\n",
       "      <th>21</th>\n",
       "      <td>201402</td>\n",
       "      <td>EP</td>\n",
       "      <td>120000</td>\n",
       "      <td>2001586</td>\n",
       "      <td>1214200029119</td>\n",
       "      <td>201402</td>\n",
       "      <td>304010090</td>\n",
       "      <td>630</td>\n",
       "      <td>120040</td>\n",
       "      <td>5</td>\n",
       "      <td>40</td>\n",
       "      <td>I</td>\n",
       "      <td>63602940000170</td>\n",
       "      <td>NaN</td>\n",
       "      <td>{{~</td>\n",
       "      <td>4</td>\n",
       "      <td>8</td>\n",
       "      <td>M</td>\n",
       "      <td>3</td>\n",
       "      <td>120050</td>\n",
       "      <td>10</td>\n",
       "      <td>69940000</td>\n",
       "      <td>0</td>\n",
       "      <td>1</td>\n",
       "      <td>20140123</td>\n",
       "      <td>20140228</td>\n",
       "      <td>4</td>\n",
       "      <td>2</td>\n",
       "      <td>15</td>\n",
       "      <td>0</td>\n",
       "      <td>0</td>\n",
       "      <td>0</td>\n",
       "      <td>1</td>\n",
       "      <td>0</td>\n",
       "      <td>20140228.0</td>\n",
       "      <td>E120000001</td>\n",
       "      <td>1</td>\n",
       "      <td>0.0</td>\n",
       "      <td>2001586.0</td>\n",
       "      <td>20140123.0</td>\n",
       "      <td>20140123.0</td>\n",
       "      <td>0000</td>\n",
       "      <td>C81- Linfoma de Hodgkin</td>\n",
       "      <td>0000</td>\n",
       "      <td>NaN</td>\n",
       "      <td>NaN</td>\n",
       "      <td>NaN</td>\n",
       "      <td>S</td>\n",
       "      <td>2.0</td>\n",
       "      <td>99</td>\n",
       "      <td>20130619</td>\n",
       "      <td>NaN</td>\n",
       "      <td>NaN</td>\n",
       "      <td>NaN</td>\n",
       "      <td>NaN</td>\n",
       "      <td>NaN</td>\n",
       "      <td>NaN</td>\n",
       "      <td>NaN</td>\n",
       "      <td>N</td>\n",
       "      <td>20130127</td>\n",
       "      <td>2</td>\n",
       "      <td>C811</td>\n",
       "      <td>NaN</td>\n",
       "      <td>NaN</td>\n",
       "      <td>34.0</td>\n",
       "      <td>20130127.0</td>\n",
       "      <td>NaN</td>\n",
       "      <td>NaN</td>\n",
       "      <td>20140228.0</td>\n",
       "      <td>NaN</td>\n",
       "      <td>NaN</td>\n",
       "      <td>NaN</td>\n",
       "      <td>NaN</td>\n",
       "    </tr>\n",
       "    <tr>\n",
       "      <th>29</th>\n",
       "      <td>201403</td>\n",
       "      <td>EP</td>\n",
       "      <td>120000</td>\n",
       "      <td>2001586</td>\n",
       "      <td>1214200045201</td>\n",
       "      <td>201403</td>\n",
       "      <td>304010090</td>\n",
       "      <td>2550</td>\n",
       "      <td>120040</td>\n",
       "      <td>5</td>\n",
       "      <td>40</td>\n",
       "      <td>I</td>\n",
       "      <td>63602940000170</td>\n",
       "      <td>NaN</td>\n",
       "      <td>{{}~~{}</td>\n",
       "      <td>4</td>\n",
       "      <td>75</td>\n",
       "      <td>M</td>\n",
       "      <td>3</td>\n",
       "      <td>120040</td>\n",
       "      <td>10</td>\n",
       "      <td>69900970</td>\n",
       "      <td>0</td>\n",
       "      <td>1</td>\n",
       "      <td>20140212</td>\n",
       "      <td>20140430</td>\n",
       "      <td>4</td>\n",
       "      <td>2</td>\n",
       "      <td>15</td>\n",
       "      <td>0</td>\n",
       "      <td>0</td>\n",
       "      <td>0</td>\n",
       "      <td>1</td>\n",
       "      <td>0</td>\n",
       "      <td>20140331.0</td>\n",
       "      <td>E120000001</td>\n",
       "      <td>1</td>\n",
       "      <td>0.0</td>\n",
       "      <td>2001586.0</td>\n",
       "      <td>20140212.0</td>\n",
       "      <td>20140212.0</td>\n",
       "      <td>0000</td>\n",
       "      <td>C81- Linfoma de Hodgkin</td>\n",
       "      <td>0000</td>\n",
       "      <td>NaN</td>\n",
       "      <td>NaN</td>\n",
       "      <td>NaN</td>\n",
       "      <td>N</td>\n",
       "      <td>2.0</td>\n",
       "      <td>99</td>\n",
       "      <td>20131016</td>\n",
       "      <td>NaN</td>\n",
       "      <td>NaN</td>\n",
       "      <td>NaN</td>\n",
       "      <td>NaN</td>\n",
       "      <td>NaN</td>\n",
       "      <td>NaN</td>\n",
       "      <td>NaN</td>\n",
       "      <td>N</td>\n",
       "      <td>20140212</td>\n",
       "      <td>1</td>\n",
       "      <td>C61</td>\n",
       "      <td>NaN</td>\n",
       "      <td>NaN</td>\n",
       "      <td>144.0</td>\n",
       "      <td>20140212.0</td>\n",
       "      <td>NaN</td>\n",
       "      <td>NaN</td>\n",
       "      <td>20140331.0</td>\n",
       "      <td>NaN</td>\n",
       "      <td>NaN</td>\n",
       "      <td>NaN</td>\n",
       "      <td>NaN</td>\n",
       "    </tr>\n",
       "    <tr>\n",
       "      <th>76</th>\n",
       "      <td>201405</td>\n",
       "      <td>EP</td>\n",
       "      <td>120000</td>\n",
       "      <td>2001586</td>\n",
       "      <td>1214200084944</td>\n",
       "      <td>201405</td>\n",
       "      <td>304010090</td>\n",
       "      <td>810</td>\n",
       "      <td>120040</td>\n",
       "      <td>5</td>\n",
       "      <td>40</td>\n",
       "      <td>I</td>\n",
       "      <td>63602940000170</td>\n",
       "      <td>NaN</td>\n",
       "      <td>}{{{{{|}{{{~</td>\n",
       "      <td>4</td>\n",
       "      <td>13</td>\n",
       "      <td>M</td>\n",
       "      <td>3</td>\n",
       "      <td>120020</td>\n",
       "      <td>10</td>\n",
       "      <td>69980000</td>\n",
       "      <td>0</td>\n",
       "      <td>1</td>\n",
       "      <td>20140318</td>\n",
       "      <td>20140531</td>\n",
       "      <td>4</td>\n",
       "      <td>2</td>\n",
       "      <td>15</td>\n",
       "      <td>0</td>\n",
       "      <td>0</td>\n",
       "      <td>0</td>\n",
       "      <td>1</td>\n",
       "      <td>0</td>\n",
       "      <td>20140531.0</td>\n",
       "      <td>E120000001</td>\n",
       "      <td>1</td>\n",
       "      <td>0.0</td>\n",
       "      <td>2001586.0</td>\n",
       "      <td>20140318.0</td>\n",
       "      <td>20140318.0</td>\n",
       "      <td>0000</td>\n",
       "      <td>C81- Linfoma de Hodgkin</td>\n",
       "      <td>0000</td>\n",
       "      <td>NaN</td>\n",
       "      <td>NaN</td>\n",
       "      <td>NaN</td>\n",
       "      <td>S</td>\n",
       "      <td>3.0</td>\n",
       "      <td>99</td>\n",
       "      <td>20120505</td>\n",
       "      <td>NaN</td>\n",
       "      <td>NaN</td>\n",
       "      <td>NaN</td>\n",
       "      <td>NaN</td>\n",
       "      <td>NaN</td>\n",
       "      <td>NaN</td>\n",
       "      <td>NaN</td>\n",
       "      <td>N</td>\n",
       "      <td>20140318</td>\n",
       "      <td>2</td>\n",
       "      <td>C810</td>\n",
       "      <td>NaN</td>\n",
       "      <td>NaN</td>\n",
       "      <td>60.0</td>\n",
       "      <td>20140318.0</td>\n",
       "      <td>NaN</td>\n",
       "      <td>NaN</td>\n",
       "      <td>20140531.0</td>\n",
       "      <td>NaN</td>\n",
       "      <td>NaN</td>\n",
       "      <td>NaN</td>\n",
       "      <td>NaN</td>\n",
       "    </tr>\n",
       "  </tbody>\n",
       "</table>\n",
       "</div>"
      ],
      "text/plain": [
       "    dt_process tp_gestao  cod_tp_gestao  cod_est_cnes       num_apac  \\\n",
       "8       201401        EP         120000       2001586  1214200029119   \n",
       "14      201402        EP         120000       2001586  1214200045201   \n",
       "21      201402        EP         120000       2001586  1214200029119   \n",
       "29      201403        EP         120000       2001586  1214200045201   \n",
       "76      201405        EP         120000       2001586  1214200084944   \n",
       "\n",
       "    dt_atend_paciente  proc_princ_apac  vl_tot_apac_aprov  cod_uf_mun  tp_est  \\\n",
       "8              201401        304010090                614      120040       5   \n",
       "14             201402        304010090               2098      120040       5   \n",
       "21             201402        304010090                630      120040       5   \n",
       "29             201403        304010090               2550      120040       5   \n",
       "76             201405        304010090                810      120040       5   \n",
       "\n",
       "    tip_prest est_man_ind    cnpj_est_exe  cnpj_mante          num_csn  \\\n",
       "8          40           I  63602940000170         NaN  {{~   \n",
       "14         40           I  63602940000170         NaN  {{}~~{}   \n",
       "21         40           I  63602940000170         NaN  {{~   \n",
       "29         40           I  63602940000170         NaN  {{}~~{}   \n",
       "76         40           I  63602940000170         NaN  }{{{{{|}{{{~   \n",
       "\n",
       "    cod_idade  num_idade sexo  raca_cor  cod_uf_mun_paciente  nac_paciente  \\\n",
       "8           4          8    M         3               120050            10   \n",
       "14          4         75    M         3               120040            10   \n",
       "21          4          8    M         3               120050            10   \n",
       "29          4         75    M         3               120040            10   \n",
       "76          4         13    M         3               120020            10   \n",
       "\n",
       "    cep_paciente  uf_res_dif_paciente  mun_res_dif_paciente  dt_ini_val  \\\n",
       "8       69940000                    0                     1    20140123   \n",
       "14      69900970                    0                     1    20140212   \n",
       "21      69940000                    0                     1    20140123   \n",
       "29      69900970                    0                     1    20140212   \n",
       "76      69980000                    0                     1    20140318   \n",
       "\n",
       "    dt_fim_val  tp_atend_apac  ind_apac  mot_sai_perm  ind_obito  ind_encerr  \\\n",
       "8     20140228              4         1            21          0           0   \n",
       "14    20140430              4         1            21          0           0   \n",
       "21    20140228              4         2            15          0           0   \n",
       "29    20140430              4         2            15          0           0   \n",
       "76    20140531              4         2            15          0           0   \n",
       "\n",
       "    ind_perm  ind_alta  ind_transf    dt_ocorr cod_org_emi  car_atend  \\\n",
       "8          1         0           0         NaN  E120000001          1   \n",
       "14         1         0           0         NaN  E120000001          1   \n",
       "21         0         1           0  20140228.0  E120000001          1   \n",
       "29         0         1           0  20140331.0  E120000001          1   \n",
       "76         0         1           0  20140531.0  E120000001          1   \n",
       "\n",
       "    num_apac_ant  cod_soli_cnes     dt_soli     dt_auto cid_caus_assoc  \\\n",
       "8            0.0      2001586.0  20140123.0  20140123.0           0000   \n",
       "14           0.0      2001586.0  20140212.0  20140212.0           0000   \n",
       "21           0.0      2001586.0  20140123.0  20140123.0           0000   \n",
       "29           0.0      2001586.0  20140212.0  20140212.0           0000   \n",
       "76           0.0      2001586.0  20140318.0  20140318.0           0000   \n",
       "\n",
       "                  cid_princ cid_sec  etnia  ar_smrd ar_cid_10  \\\n",
       "8   C81- Linfoma de Hodgkin    0000    NaN      NaN       NaN   \n",
       "14  C81- Linfoma de Hodgkin    0000    NaN      NaN       NaN   \n",
       "21  C81- Linfoma de Hodgkin    0000    NaN      NaN       NaN   \n",
       "29  C81- Linfoma de Hodgkin    0000    NaN      NaN       NaN   \n",
       "76  C81- Linfoma de Hodgkin    0000    NaN      NaN       NaN   \n",
       "\n",
       "   ar_linfo_reg_inva  ar_estadi ar_grahis ar_dt_inden_pato ar_trat_anter  \\\n",
       "8                  S        2.0        99         20130619           NaN   \n",
       "14                 N        2.0        99         20131016           NaN   \n",
       "21                 S        2.0        99         20130619           NaN   \n",
       "29                 N        2.0        99         20131016           NaN   \n",
       "76                 S        3.0        99         20120505           NaN   \n",
       "\n",
       "   ar_cidini1  ar_dt_ini_1_trat ar_cidini2  ar_dt_ini_2_trat ar_cidini3  \\\n",
       "8         NaN               NaN        NaN               NaN        NaN   \n",
       "14        NaN               NaN        NaN               NaN        NaN   \n",
       "21        NaN               NaN        NaN               NaN        NaN   \n",
       "29        NaN               NaN        NaN               NaN        NaN   \n",
       "76        NaN               NaN        NaN               NaN        NaN   \n",
       "\n",
       "    ar_dt_ini_3_trat ar_cont_trat  ar_dt_inic_trat_soli  ar_finalid_trat  \\\n",
       "8                NaN            N              20130127                2   \n",
       "14               NaN            N              20140212                1   \n",
       "21               NaN            N              20130127                2   \n",
       "29               NaN            N              20140212                1   \n",
       "76               NaN            N              20140318                2   \n",
       "\n",
       "   ar_cid_topo_1 ar_cid_topo_2 ar_cid_topo_3  ar_num_ins_1  ar_dt_ini_1  \\\n",
       "8           C811           NaN           NaN          34.0   20130127.0   \n",
       "14           C61           NaN           NaN         144.0   20140212.0   \n",
       "21          C811           NaN           NaN          34.0   20130127.0   \n",
       "29           C61           NaN           NaN         144.0   20140212.0   \n",
       "76          C810           NaN           NaN          60.0   20140318.0   \n",
       "\n",
       "    ar_dt_ini_2  ar_dt_ini_3  ar_dt_fim_1  ar_dt_fim_2  ar_dt_fim_3  \\\n",
       "8           NaN          NaN   20140228.0          NaN          NaN   \n",
       "14          NaN          NaN   20140430.0          NaN          NaN   \n",
       "21          NaN          NaN   20140228.0          NaN          NaN   \n",
       "29          NaN          NaN   20140331.0          NaN          NaN   \n",
       "76          NaN          NaN   20140531.0          NaN          NaN   \n",
       "\n",
       "    ar_num_ins_2  ar_num_ins_3  \n",
       "8            NaN           NaN  \n",
       "14           NaN           NaN  \n",
       "21           NaN           NaN  \n",
       "29           NaN           NaN  \n",
       "76           NaN           NaN  "
      ]
     },
     "execution_count": 6,
     "metadata": {},
     "output_type": "execute_result"
    }
   ],
   "source": [
    "## Linfomas Radioterapia\n",
    "print('Shape:', df_sus_linf_rad.shape)\n",
    "df_sus_linf_rad.head()"
   ]
  },
  {
   "cell_type": "markdown",
   "metadata": {},
   "source": [
    "### Quantidade de atributos em comum nas bases"
   ]
  },
  {
   "cell_type": "code",
   "execution_count": 7,
   "metadata": {},
   "outputs": [
    {
     "data": {
      "text/plain": [
       "45"
      ]
     },
     "execution_count": 7,
     "metadata": {},
     "output_type": "execute_result"
    }
   ],
   "source": [
    "len(set(df_sus_linf_quim.columns).intersection(df_sus_linf_rad.columns))"
   ]
  },
  {
   "cell_type": "markdown",
   "metadata": {},
   "source": [
    "As bases de dados apresentam muitos atributos em comum, estas características são relacionadas ao paciente e ao processo de maneira geral (pré-fixo AP no dataset original). Enquanto as características específicas iniciam com AQ e AR, para Quimioterapia e Radioterapia, respectivamente."
   ]
  },
  {
   "cell_type": "markdown",
   "metadata": {},
   "source": [
    "### Entendimento do Index e Granularidade da base\n",
    "\n",
    "Nas bases de dados da APAC, a primeira coluna não tem nome e representa um identificador. Os dados não são sequências. Nesta seção, é feita uma análise para entender o grão dos dados. "
   ]
  },
  {
   "cell_type": "markdown",
   "metadata": {},
   "source": [
    "#### Quantidade de index em comum\n",
    "Ressaltando que eles não estão formatados de maneira sequencial correta (1, 2, ..., n)."
   ]
  },
  {
   "cell_type": "code",
   "execution_count": 8,
   "metadata": {},
   "outputs": [
    {
     "data": {
      "text/plain": [
       "4811"
      ]
     },
     "execution_count": 8,
     "metadata": {},
     "output_type": "execute_result"
    }
   ],
   "source": [
    "df_sus_linf_quim.index.isin(df_sus_linf_rad.index).sum()"
   ]
  },
  {
   "cell_type": "code",
   "execution_count": 9,
   "metadata": {},
   "outputs": [],
   "source": [
    "common_index = df_sus_linf_quim.loc[df_sus_linf_quim.index.isin(df_sus_linf_rad.index)].index[0]"
   ]
  },
  {
   "cell_type": "code",
   "execution_count": 10,
   "metadata": {},
   "outputs": [
    {
     "data": {
      "text/plain": [
       "False"
      ]
     },
     "execution_count": 10,
     "metadata": {},
     "output_type": "execute_result"
    }
   ],
   "source": [
    "df_sus_linf_quim.loc[common_index, 'num_csn'] == df_sus_linf_rad.loc[common_index, 'num_csn']"
   ]
  },
  {
   "cell_type": "code",
   "execution_count": 11,
   "metadata": {},
   "outputs": [
    {
     "data": {
      "text/plain": [
       "num_csn       {{{{{\n",
       "dt_process             201402\n",
       "Name: 47, dtype: object"
      ]
     },
     "execution_count": 11,
     "metadata": {},
     "output_type": "execute_result"
    }
   ],
   "source": [
    "## Exemplo em Quimioterapia para num_csn = 270336\n",
    "df_sus_linf_quim.loc[common_index, ['num_csn', 'dt_process']]"
   ]
  },
  {
   "cell_type": "code",
   "execution_count": 12,
   "metadata": {},
   "outputs": [
    {
     "name": "stdout",
     "output_type": "stream",
     "text": [
      "num_csn       {{|{~~\n",
      "dt_process             201403\n",
      "Name: 47, dtype: object\n"
     ]
    }
   ],
   "source": [
    "## Exemplo em Radioterapia para num_csn = 270336\n",
    "print(df_sus_linf_rad.loc[common_index, ['num_csn', 'dt_process']])"
   ]
  },
  {
   "cell_type": "markdown",
   "metadata": {},
   "source": [
    "Apesar de ter index em comum, representam informações diferentes, o que podemos observar a partir do Número do CNS e a Data de Processamento."
   ]
  },
  {
   "cell_type": "markdown",
   "metadata": {},
   "source": [
    "#### Ajuste nos valores de *num_csn*\n",
    "O Número do CNS (*num_cns*) está mascarado devido a sensibilidade desse tipo de informação. Iremos alterar o tipo dos dados para torná-lo mais familiar, passando para sequênciais a partir de um mapeamento (ou dicionário)."
   ]
  },
  {
   "cell_type": "code",
   "execution_count": 250,
   "metadata": {},
   "outputs": [],
   "source": [
    "# criai lista de valores unicos de num_csn de cada base\n",
    "unique_num_csn_quim = df_sus_linf_quim['num_csn'].unique()\n",
    "unique_num_csn_rad = df_sus_linf_rad['num_csn'].unique()"
   ]
  },
  {
   "cell_type": "code",
   "execution_count": 251,
   "metadata": {},
   "outputs": [],
   "source": [
    "# criacao de dict a partir dos valores unicos de num_csn da base de Quimioterapia\n",
    "dict_num_csn = dict(zip(unique_num_csn_quim, list(range(len(unique_num_csn_quim)))))"
   ]
  },
  {
   "cell_type": "code",
   "execution_count": 252,
   "metadata": {},
   "outputs": [
    {
     "data": {
      "text/plain": [
       "44960"
      ]
     },
     "execution_count": 252,
     "metadata": {},
     "output_type": "execute_result"
    }
   ],
   "source": [
    "# Tamanho do dict\n",
    "len(dict_num_csn)"
   ]
  },
  {
   "cell_type": "code",
   "execution_count": 253,
   "metadata": {},
   "outputs": [],
   "source": [
    "# Funcao papra atualizar o dict, apenas quando valor nao existir.\n",
    "def update_sequencial_dict(di, value):\n",
    "    if not dict_num_csn.get(value):\n",
    "        new_key = len(di)\n",
    "        di[value] = new_key\n",
    "    \n",
    "    return di"
   ]
  },
  {
   "cell_type": "code",
   "execution_count": 254,
   "metadata": {},
   "outputs": [],
   "source": [
    "for num_cns in unique_num_csn_rad:\n",
    "    dict_num_csn = update_sequencial_dict(dict_num_csn, num_cns)"
   ]
  },
  {
   "cell_type": "code",
   "execution_count": 255,
   "metadata": {},
   "outputs": [
    {
     "data": {
      "text/plain": [
       "47393"
      ]
     },
     "execution_count": 255,
     "metadata": {},
     "output_type": "execute_result"
    }
   ],
   "source": [
    "# Tamanho do dict atualizado\n",
    "len(dict_num_csn)"
   ]
  },
  {
   "cell_type": "code",
   "execution_count": 256,
   "metadata": {},
   "outputs": [],
   "source": [
    "# Alteracao no valor da coluna num_csn usando o dict\n",
    "df_sus_linf_quim['num_csn'] = df_sus_linf_quim['num_csn'].apply(lambda x: dict_num_csn[x])\n",
    "df_sus_linf_rad['num_csn'] = df_sus_linf_rad['num_csn'].apply(lambda x: dict_num_csn[x])"
   ]
  },
  {
   "cell_type": "code",
   "execution_count": 257,
   "metadata": {},
   "outputs": [
    {
     "data": {
      "text/plain": [
       "4     44965\n",
       "25        1\n",
       "27        2\n",
       "28        3\n",
       "32        4\n",
       "34        5\n",
       "47        4\n",
       "52        6\n",
       "76        5\n",
       "77        7\n",
       "Name: num_csn, dtype: int64"
      ]
     },
     "execution_count": 257,
     "metadata": {},
     "output_type": "execute_result"
    }
   ],
   "source": [
    "# Resultado, valores numericos\n",
    "df_sus_linf_quim['num_csn'].head(10)"
   ]
  },
  {
   "cell_type": "markdown",
   "metadata": {},
   "source": [
    "### Quantidade de instâncias por *num_csn* (identificador do paciente)"
   ]
  },
  {
   "cell_type": "code",
   "execution_count": 21,
   "metadata": {},
   "outputs": [
    {
     "data": {
      "text/plain": [
       "count    44960.000000\n",
       "mean         7.049933\n",
       "std          5.394042\n",
       "min          1.000000\n",
       "25%          3.000000\n",
       "50%          6.000000\n",
       "75%          9.000000\n",
       "max         61.000000\n",
       "Name: num_csn, dtype: float64"
      ]
     },
     "execution_count": 21,
     "metadata": {},
     "output_type": "execute_result"
    }
   ],
   "source": [
    "# Quimioterapia\n",
    "df_sus_linf_quim['num_csn'].value_counts().describe()"
   ]
  },
  {
   "cell_type": "code",
   "execution_count": 22,
   "metadata": {},
   "outputs": [
    {
     "data": {
      "text/plain": [
       "count    9848.000000\n",
       "mean        2.022746\n",
       "std         0.944854\n",
       "min         1.000000\n",
       "25%         1.000000\n",
       "50%         2.000000\n",
       "75%         2.000000\n",
       "max        14.000000\n",
       "Name: num_csn, dtype: float64"
      ]
     },
     "execution_count": 22,
     "metadata": {},
     "output_type": "execute_result"
    }
   ],
   "source": [
    "# Radioterapia\n",
    "df_sus_linf_rad['num_csn'].value_counts().describe()"
   ]
  },
  {
   "cell_type": "markdown",
   "metadata": {},
   "source": [
    "Os pacientes aparecem diversas vezes na base de dados, pois a granularidade está no nível dos procedimentos efetuados por cada indivíduo.\n",
    "Em radioterapia o número de ocorrências por pacientes é bem menor, o que é esperado pela quantidade menor de instâncias. "
   ]
  },
  {
   "cell_type": "markdown",
   "metadata": {},
   "source": [
    "### Quantidade de pacientes em ambos tratamentos"
   ]
  },
  {
   "cell_type": "code",
   "execution_count": 23,
   "metadata": {},
   "outputs": [
    {
     "data": {
      "text/plain": [
       "7416"
      ]
     },
     "execution_count": 23,
     "metadata": {},
     "output_type": "execute_result"
    }
   ],
   "source": [
    "num_cns_both_treatments = df_sus_linf_quim[df_sus_linf_quim['num_csn'].isin(df_sus_linf_rad['num_csn'].unique())]['num_csn'].nunique()\n",
    "num_cns_both_treatments"
   ]
  },
  {
   "cell_type": "code",
   "execution_count": 24,
   "metadata": {},
   "outputs": [
    {
     "name": "stdout",
     "output_type": "stream",
     "text": [
      "15.65% dos pacientes já realizaram os dois tratamentos\n"
     ]
    }
   ],
   "source": [
    "print('%.2f' % (num_cns_both_treatments / len(dict_num_csn) * 100) + '% dos pacientes já realizaram os dois tratamentos')"
   ]
  },
  {
   "cell_type": "code",
   "execution_count": 25,
   "metadata": {},
   "outputs": [
    {
     "data": {
      "text/plain": [
       "4     201401\n",
       "25    201401\n",
       "27    201401\n",
       "28    201401\n",
       "32    201401\n",
       "Name: dt_process, dtype: int64"
      ]
     },
     "execution_count": 25,
     "metadata": {},
     "output_type": "execute_result"
    }
   ],
   "source": [
    "df_sus_linf_quim['dt_process'].head()"
   ]
  },
  {
   "cell_type": "markdown",
   "metadata": {},
   "source": [
    "### Análise de durações e fatores temporais"
   ]
  },
  {
   "cell_type": "markdown",
   "metadata": {},
   "source": [
    "Primeiro é necessário converter a coluna para o formato de data no Pandas"
   ]
  },
  {
   "cell_type": "markdown",
   "metadata": {},
   "source": [
    "#### Transformação e limpeza dos campos com Data"
   ]
  },
  {
   "cell_type": "code",
   "execution_count": 52,
   "metadata": {},
   "outputs": [],
   "source": [
    "def to_date(df, cols_to_transform, period='DAY'):\n",
    "    if period == 'DAY':\n",
    "        df[cols_to_transform] = df[cols_to_transform].apply(lambda x: pd.to_datetime(x, format='%Y%m%d', errors='coerce'))\n",
    "    elif period == 'MONTH':\n",
    "        df[cols_to_transform] = df[cols_to_transform].apply(lambda x: pd.to_datetime(x, format='%Y%m').dt.to_period('M'))\n",
    "    return df"
   ]
  },
  {
   "cell_type": "code",
   "execution_count": 269,
   "metadata": {},
   "outputs": [
    {
     "data": {
      "text/plain": [
       "dt_process                   period[M]\n",
       "dt_atend_paciente            period[M]\n",
       "dt_ini_val              datetime64[ns]\n",
       "dt_fim_val              datetime64[ns]\n",
       "dt_ocorr                datetime64[ns]\n",
       "dt_soli                 datetime64[ns]\n",
       "dt_auto                 datetime64[ns]\n",
       "aq_dt_inden_pato        datetime64[ns]\n",
       "aq_dt_ini_1_trat        datetime64[ns]\n",
       "aq_dt_ini_2_trat        datetime64[ns]\n",
       "aq_dt_ini_3_trat        datetime64[ns]\n",
       "aq_dt_inic_trat_soli    datetime64[ns]\n",
       "dtype: object"
      ]
     },
     "execution_count": 269,
     "metadata": {},
     "output_type": "execute_result"
    }
   ],
   "source": [
    "dtcols_quim = [c for c in df_sus_linf_quim.columns if 'dt_' in c]\n",
    "df_sus_linf_quim[dtcols_quim].dtypes"
   ]
  },
  {
   "cell_type": "code",
   "execution_count": 270,
   "metadata": {},
   "outputs": [
    {
     "data": {
      "text/plain": [
       "dt_process                int64\n",
       "dt_atend_paciente         int64\n",
       "dt_ini_val                int64\n",
       "dt_fim_val                int64\n",
       "dt_ocorr                float64\n",
       "dt_soli                 float64\n",
       "dt_auto                 float64\n",
       "ar_dt_inden_pato         object\n",
       "ar_dt_ini_1_trat        float64\n",
       "ar_dt_ini_2_trat        float64\n",
       "ar_dt_ini_3_trat        float64\n",
       "ar_dt_inic_trat_soli      int64\n",
       "ar_dt_ini_1             float64\n",
       "ar_dt_ini_2             float64\n",
       "ar_dt_ini_3             float64\n",
       "ar_dt_fim_1             float64\n",
       "ar_dt_fim_2             float64\n",
       "ar_dt_fim_3             float64\n",
       "dtype: object"
      ]
     },
     "execution_count": 270,
     "metadata": {},
     "output_type": "execute_result"
    }
   ],
   "source": [
    "dtcols_rad = [c for c in df_sus_linf_rad.columns if 'dt_' in c]\n",
    "df_sus_linf_rad[dtcols_rad].dtypes"
   ]
  },
  {
   "cell_type": "code",
   "execution_count": 271,
   "metadata": {},
   "outputs": [],
   "source": [
    "cols_to_date_month = ['dt_process', 'dt_atend_paciente']\n",
    "cols_to_date_day_quim = ['dt_ini_val', 'dt_fim_val', 'dt_auto', 'dt_ocorr', 'aq_dt_inden_pato', 'aq_dt_inic_trat_soli', 'dt_soli', 'aq_dt_ini_1_trat', 'aq_dt_ini_2_trat', 'aq_dt_ini_3_trat']\n",
    "cols_to_date_day_rad = ['dt_ini_val', 'dt_fim_val', 'dt_auto', 'dt_ocorr', 'ar_dt_inden_pato', 'ar_dt_inic_trat_soli', 'dt_soli', 'ar_dt_ini_1_trat', 'ar_dt_ini_2_trat', 'ar_dt_ini_3_trat', 'ar_dt_fim_1', 'ar_dt_fim_2', 'ar_dt_fim_3']"
   ]
  },
  {
   "cell_type": "code",
   "execution_count": 50,
   "metadata": {},
   "outputs": [],
   "source": [
    "cols_to_string = ['dt_soli', 'aq_dt_ini_1_trat', 'aq_dt_ini_2_trat', 'aq_dt_ini_3_trat']\n",
    "df_sus_linf_quim[cols_to_string] = df_sus_linf_quim[cols_to_string].fillna(0).astype(int).astype(str).replace('0', np.nan)"
   ]
  },
  {
   "cell_type": "code",
   "execution_count": 53,
   "metadata": {},
   "outputs": [],
   "source": [
    "df_sus_linf_quim = to_date(df_sus_linf_quim, cols_to_date_month, period='MONTH')\n",
    "df_sus_linf_quim = to_date(df_sus_linf_quim, cols_to_date_day_quim, period='DAY')"
   ]
  },
  {
   "cell_type": "code",
   "execution_count": 274,
   "metadata": {},
   "outputs": [],
   "source": [
    "cols_to_string = ['dt_soli', 'ar_dt_ini_1_trat', 'ar_dt_ini_2_trat', 'ar_dt_ini_3_trat', 'ar_dt_fim_1', 'ar_dt_fim_2', 'ar_dt_fim_3']\n",
    "df_sus_linf_rad[cols_to_string] = df_sus_linf_rad[cols_to_string].fillna(0).astype(int).astype(str).replace('0', np.nan)"
   ]
  },
  {
   "cell_type": "code",
   "execution_count": 276,
   "metadata": {},
   "outputs": [],
   "source": [
    "# df_sus_linf_rad = to_date(df_sus_linf_rad, cols_to_date_month, period='MONTH')\n",
    "df_sus_linf_rad = to_date(df_sus_linf_rad, cols_to_date_day_rad, period='DAY')"
   ]
  },
  {
   "cell_type": "markdown",
   "metadata": {},
   "source": [
    "#### Distribuição de processamentos/moviemtos (*dt_process*) ao longo do tempo"
   ]
  },
  {
   "cell_type": "code",
   "execution_count": 371,
   "metadata": {},
   "outputs": [
    {
     "data": {
      "text/plain": [
       "<matplotlib.axes._subplots.AxesSubplot at 0x1d01c191d30>"
      ]
     },
     "execution_count": 371,
     "metadata": {},
     "output_type": "execute_result"
    },
    {
     "data": {
      "image/png": "[encoded data removed]",
      "text/plain": [
       "<Figure size 2000x500 with 2 Axes>"
      ]
     },
     "metadata": {},
     "output_type": "display_data"
    }
   ],
   "source": [
    "fig, ax = plt.subplots(1, 2, figsize=(20, 5))\n",
    "df_sus_linf_quim.groupby(['dt_process']).size().plot(ax=ax[0], title='Quimio')\n",
    "df_sus_linf_rad.groupby(['dt_process']).size().plot(ax=ax[1], title='Radio')"
   ]
  },
  {
   "cell_type": "markdown",
   "metadata": {},
   "source": [
    "### Análise dos estádios"
   ]
  },
  {
   "cell_type": "markdown",
   "metadata": {},
   "source": [
    "#### Distribuição"
   ]
  },
  {
   "cell_type": "code",
   "execution_count": 372,
   "metadata": {},
   "outputs": [
    {
     "data": {
      "text/plain": [
       "<matplotlib.axes._subplots.AxesSubplot at 0x1d023993d68>"
      ]
     },
     "execution_count": 372,
     "metadata": {},
     "output_type": "execute_result"
    },
    {
     "data": {
      "image/png": "[encoded data removed]",
      "text/plain": [
       "<Figure size 1400x600 with 2 Axes>"
      ]
     },
     "metadata": {},
     "output_type": "display_data"
    }
   ],
   "source": [
    "fig, ax = plt.subplots(1, 2, figsize=(14, 6))\n",
    "df_sus_linf_quim['aq_estadi'].value_counts().sort_index().plot(kind='bar', title='Qtd de Estádios - Quimioterapia', ax=ax[0])\n",
    "df_sus_linf_rad['ar_estadi'].value_counts().sort_index().plot(kind='bar', title='Qtd de Estádios - Radioterapia', ax=ax[1])"
   ]
  },
  {
   "cell_type": "code",
   "execution_count": 373,
   "metadata": {},
   "outputs": [
    {
     "data": {
      "text/plain": [
       "<matplotlib.axes._subplots.AxesSubplot at 0x1d03dfd5240>"
      ]
     },
     "execution_count": 373,
     "metadata": {},
     "output_type": "execute_result"
    },
    {
     "data": {
      "image/png": "[encoded data removed]",
      "text/plain": [
       "<Figure size 1400x600 with 2 Axes>"
      ]
     },
     "metadata": {},
     "output_type": "display_data"
    }
   ],
   "source": [
    "fig, ax = plt.subplots(1, 2, figsize=(14,6))\n",
    "ax[0].set_title('Histograma da ocorrência de ESTÁDIO por paciente - Quimio')\n",
    "df_sus_linf_quim.groupby(['num_csn'])['aq_estadi'].nunique().hist(grid=False, ax=ax[0])\n",
    "\n",
    "ax[1].set_title('Histograma da ocorrência de ESTÁDIO por paciente - Radio')\n",
    "df_sus_linf_rad.groupby(['num_csn'])['ar_estadi'].nunique().hist(grid=False, ax=ax[1])"
   ]
  },
  {
   "cell_type": "markdown",
   "metadata": {},
   "source": [
    "A maioria dos pacientes só tem uma categoria de ESTÁDIO na base de dados, o que significa que não houve uma mudança de estádio ao longo do tempo dado a base disponíveis. Isso limita o estudo do comportamento dos pacientes no decorrer do tempo "
   ]
  },
  {
   "cell_type": "markdown",
   "metadata": {},
   "source": [
    "#### Estádio avançado detectado de forma tardia"
   ]
  },
  {
   "cell_type": "markdown",
   "metadata": {},
   "source": [
    "O atendimentos da APAC registrados nesta base, iniciam em 2014. Para ser considerado tardio, o câncer deve ser descoberto no estágio 3 ou 4. Para garantir a consistência, os dados selecionados tiveram a patologia identificado a partir de 2014, evitando que seja considerado um diagnóstico tardio erroneamente, pois pode ser confundido um tratamento com o diagnóstico inicial."
   ]
  },
  {
   "cell_type": "code",
   "execution_count": 74,
   "metadata": {},
   "outputs": [],
   "source": [
    "df_sus_linf_quim_start_2014 = df_sus_linf_quim[df_sus_linf_quim['aq_dt_inden_pato'] > '2014-01-01']"
   ]
  },
  {
   "cell_type": "code",
   "execution_count": 75,
   "metadata": {},
   "outputs": [
    {
     "data": {
      "text/plain": [
       "248469"
      ]
     },
     "execution_count": 75,
     "metadata": {},
     "output_type": "execute_result"
    }
   ],
   "source": [
    "df_sus_linf_quim_start_2014.shape[0]"
   ]
  },
  {
   "cell_type": "code",
   "execution_count": 76,
   "metadata": {},
   "outputs": [
    {
     "name": "stderr",
     "output_type": "stream",
     "text": [
      "C:\\Users\\Milton\\Anaconda3\\lib\\site-packages\\ipykernel_launcher.py:1: SettingWithCopyWarning: \n",
      "A value is trying to be set on a copy of a slice from a DataFrame.\n",
      "Try using .loc[row_indexer,col_indexer] = value instead\n",
      "\n",
      "See the caveats in the documentation: http://pandas.pydata.org/pandas-docs/stable/indexing.html#indexing-view-versus-copy\n",
      "  \"\"\"Entry point for launching an IPython kernel.\n"
     ]
    }
   ],
   "source": [
    "df_sus_linf_quim_start_2014['tardio'] = df_sus_linf_quim_start_2014['aq_estadi'].apply(lambda x: 1 if x > 2 else 0)"
   ]
  },
  {
   "cell_type": "code",
   "execution_count": 374,
   "metadata": {},
   "outputs": [],
   "source": [
    "# df_sus_linf_quim_start_2014['tardio'].value_counts(normalize=True)"
   ]
  },
  {
   "cell_type": "markdown",
   "metadata": {},
   "source": [
    "42.5% de diagnósticos de câncer tardio "
   ]
  },
  {
   "cell_type": "code",
   "execution_count": 358,
   "metadata": {},
   "outputs": [
    {
     "data": {
      "text/plain": [
       "0    0.574627\n",
       "1    0.425373\n",
       "Name: tardio, dtype: float64"
      ]
     },
     "execution_count": 358,
     "metadata": {},
     "output_type": "execute_result"
    }
   ],
   "source": [
    "df_sus_linf_quim_start_2014.drop_duplicates(subset=['cod_est_cnes'], keep='first')['tardio'].value_counts(normalize=True)"
   ]
  },
  {
   "cell_type": "markdown",
   "metadata": {},
   "source": [
    "## Exportar dados"
   ]
  },
  {
   "cell_type": "markdown",
   "metadata": {},
   "source": [
    "### Base de dados unificada"
   ]
  },
  {
   "cell_type": "code",
   "execution_count": 259,
   "metadata": {},
   "outputs": [],
   "source": [
    "df_sus_linf_quim_start_2014 = df_sus_linf_quim[df_sus_linf_quim['aq_dt_inden_pato'] > '2014-01-01']\n",
    "df_quim_csn = df_sus_linf_quim_start_2014.sort_values('dt_process').drop_duplicates(subset=['num_csn'], keep='first')\n",
    "df_quim_csn = df_quim_csn.set_index('num_csn')"
   ]
  },
  {
   "cell_type": "code",
   "execution_count": 295,
   "metadata": {},
   "outputs": [
    {
     "data": {
      "text/plain": [
       "(36520, 62)"
      ]
     },
     "execution_count": 295,
     "metadata": {},
     "output_type": "execute_result"
    }
   ],
   "source": [
    "df_quim_csn.shape"
   ]
  },
  {
   "cell_type": "code",
   "execution_count": 279,
   "metadata": {},
   "outputs": [],
   "source": [
    "df_sus_linf_rad_start_2014 = df_sus_linf_rad[df_sus_linf_rad['ar_dt_inden_pato'] > '2014-01-01']\n",
    "df_rad_csn = df_sus_linf_rad_start_2014.sort_values('dt_process').drop_duplicates(subset=['num_csn'], keep='first')\n",
    "df_rad_csn = df_rad_csn.set_index('num_csn')"
   ]
  },
  {
   "cell_type": "code",
   "execution_count": 296,
   "metadata": {},
   "outputs": [
    {
     "data": {
      "text/plain": [
       "(7849, 72)"
      ]
     },
     "execution_count": 296,
     "metadata": {},
     "output_type": "execute_result"
    }
   ],
   "source": [
    "df_rad_csn.shape"
   ]
  },
  {
   "cell_type": "code",
   "execution_count": 289,
   "metadata": {},
   "outputs": [],
   "source": [
    "# common_cols = df_rad_csn.columns[df_rad_csn.columns.isin(df_quim_csn.columns)]"
   ]
  },
  {
   "cell_type": "code",
   "execution_count": 292,
   "metadata": {},
   "outputs": [],
   "source": [
    "# df_linf = pd.merge(df_quim_csn, df_rad_csn.drop(common_cols, axis=1), left_index=True, right_index=True, how='outer')"
   ]
  },
  {
   "cell_type": "code",
   "execution_count": 316,
   "metadata": {},
   "outputs": [],
   "source": [
    "df_linf = pd.merge(df_quim_csn, df_rad_csn, left_index=True, right_index=True, how='outer', suffixes=('_quim', '_rad'))"
   ]
  },
  {
   "cell_type": "code",
   "execution_count": 318,
   "metadata": {},
   "outputs": [],
   "source": [
    "df_linf.to_csv('../data/raw/preprocessed/linfomas_apac.csv')"
   ]
  },
  {
   "cell_type": "markdown",
   "metadata": {},
   "source": [
    "### CEPs"
   ]
  },
  {
   "cell_type": "code",
   "execution_count": 348,
   "metadata": {},
   "outputs": [
    {
     "name": "stderr",
     "output_type": "stream",
     "text": [
      "C:\\Users\\Milton\\Anaconda3\\lib\\site-packages\\ipykernel_launcher.py:3: FutureWarning: The signature of `Series.to_csv` was aligned to that of `DataFrame.to_csv`, and argument 'header' will change its default value from False to True: please pass an explicit value to suppress this warning.\n",
      "  This is separate from the ipykernel package so we can avoid doing imports until\n"
     ]
    }
   ],
   "source": [
    "ceps = np.concatenate([df_linf['cep_paciente_quim'].dropna().unique(), df_linf['cep_paciente_rad'].dropna().unique()])\n",
    "ceps = pd.Series(ceps).drop_duplicates()\n",
    "ceps.to_csv('../data/raw/preprocessed/CEPs.csv', index=False)"
   ]
  },
  {
   "cell_type": "markdown",
   "metadata": {},
   "source": [
    "## Gerar report"
   ]
  },
  {
   "cell_type": "code",
   "execution_count": 368,
   "metadata": {},
   "outputs": [],
   "source": [
    "import pandas_profiling\n",
    "import pandas as pd"
   ]
  },
  {
   "cell_type": "code",
   "execution_count": 30,
   "metadata": {},
   "outputs": [],
   "source": [
    "profile_rad = pandas_profiling.ProfileReport(df_sus_linf_rad)"
   ]
  },
  {
   "cell_type": "code",
   "execution_count": 31,
   "metadata": {},
   "outputs": [],
   "source": [
    "profile_rad.to_file('linfoma-radioterapia-report.html')"
   ]
  },
  {
   "cell_type": "code",
   "execution_count": 369,
   "metadata": {},
   "outputs": [],
   "source": [
    "profile_quim = pandas_profiling.ProfileReport(df_sus_linf_quim)"
   ]
  },
  {
   "cell_type": "code",
   "execution_count": 370,
   "metadata": {},
   "outputs": [],
   "source": [
    "profile_quim.to_file('linfoma-quimioterapia-report.html')"
   ]
  }
 ],
 "metadata": {
  "kernelspec": {
   "display_name": "Python 3",
   "language": "python",
   "name": "python3"
  },
  "language_info": {
   "codemirror_mode": {
    "name": "ipython",
    "version": 3
   },
   "file_extension": ".py",
   "mimetype": "text/x-python",
   "name": "python",
   "nbconvert_exporter": "python",
   "pygments_lexer": "ipython3",
   "version": "3.7.3"
  }
 },
 "nbformat": 4,
 "nbformat_minor": 2
}
